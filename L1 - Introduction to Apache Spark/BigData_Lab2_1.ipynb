{
  "nbformat": 4,
  "nbformat_minor": 0,
  "metadata": {
    "colab": {
      "provenance": [],
      "authorship_tag": "ABX9TyMt2sUTyBSwJOrPSf0IS9fh",
      "include_colab_link": true
    },
    "kernelspec": {
      "name": "python3",
      "display_name": "Python 3"
    },
    "language_info": {
      "name": "python"
    }
  },
  "cells": [
    {
      "cell_type": "markdown",
      "metadata": {
        "id": "view-in-github",
        "colab_type": "text"
      },
      "source": [
        "<a href=\"https://colab.research.google.com/github/R1tsuko/big_data/blob/main/L1%20-%20Introduction%20to%20Apache%20Spark/BigData_Lab2_1.ipynb\" target=\"_parent\"><img src=\"https://colab.research.google.com/assets/colab-badge.svg\" alt=\"Open In Colab\"/></a>"
      ]
    },
    {
      "cell_type": "markdown",
      "source": [
        "#### Настройка, установка и обработка текста"
      ],
      "metadata": {
        "id": "ack9-erwAV5J"
      }
    },
    {
      "cell_type": "code",
      "execution_count": null,
      "metadata": {
        "id": "kLdDEjO1ROQP"
      },
      "outputs": [],
      "source": [
        "!apt-get install openjdk-8-jdk-headless -qq > /dev/null\n",
        "!wget -q http://archive.apache.org/dist/spark/spark-3.1.1/spark-3.1.1-bin-hadoop3.2.tgz\n",
        "!tar xf spark-3.1.1-bin-hadoop3.2.tgz\n",
        "!pip install -q findspark"
      ]
    },
    {
      "cell_type": "code",
      "source": [
        "import os\n",
        "os.environ[\"JAVA_HOME\"] = \"/usr/lib/jvm/java-8-openjdk-amd64\"\n",
        "os.environ[\"SPARK_HOME\"] = \"/content/spark-3.1.1-bin-hadoop3.2\""
      ],
      "metadata": {
        "id": "SSugkszDSlGc"
      },
      "execution_count": null,
      "outputs": []
    },
    {
      "cell_type": "code",
      "source": [
        "!ls"
      ],
      "metadata": {
        "colab": {
          "base_uri": "https://localhost:8080/"
        },
        "id": "ryTnb37qSnnv",
        "outputId": "140fe538-5d8a-4fd0-b8a5-c81759e26ba0"
      },
      "execution_count": null,
      "outputs": [
        {
          "output_type": "stream",
          "name": "stdout",
          "text": [
            "sample_data  spark-3.1.1-bin-hadoop3.2\tspark-3.1.1-bin-hadoop3.2.tgz\n"
          ]
        }
      ]
    },
    {
      "cell_type": "code",
      "source": [
        "import findspark\n",
        "findspark.init()\n",
        "from pyspark.sql import SparkSession\n",
        "spark = SparkSession.builder.master(\"local[*]\").getOrCreate()\n",
        "spark.conf.set(\"spark.sql.repl.eagerEval.enabled\", True) # Property used to format output tables better\n",
        "sc = spark.sparkContext\n",
        "spark"
      ],
      "metadata": {
        "colab": {
          "base_uri": "https://localhost:8080/",
          "height": 219
        },
        "id": "rLMYXthaStQy",
        "outputId": "b499c5b4-04b9-4998-e178-29abbbc14ab5"
      },
      "execution_count": null,
      "outputs": [
        {
          "output_type": "execute_result",
          "data": {
            "text/plain": [
              "<pyspark.sql.session.SparkSession at 0x78b72420f310>"
            ],
            "text/html": [
              "\n",
              "            <div>\n",
              "                <p><b>SparkSession - in-memory</b></p>\n",
              "                \n",
              "        <div>\n",
              "            <p><b>SparkContext</b></p>\n",
              "\n",
              "            <p><a href=\"http://bb420f066d71:4040\">Spark UI</a></p>\n",
              "\n",
              "            <dl>\n",
              "              <dt>Version</dt>\n",
              "                <dd><code>v3.1.1</code></dd>\n",
              "              <dt>Master</dt>\n",
              "                <dd><code>local[*]</code></dd>\n",
              "              <dt>AppName</dt>\n",
              "                <dd><code>pyspark-shell</code></dd>\n",
              "            </dl>\n",
              "        </div>\n",
              "        \n",
              "            </div>\n",
              "        "
            ]
          },
          "metadata": {},
          "execution_count": 18
        }
      ]
    },
    {
      "cell_type": "code",
      "source": [
        "from google.colab import drive\n",
        "drive.mount('/content/drive')"
      ],
      "metadata": {
        "colab": {
          "base_uri": "https://localhost:8080/"
        },
        "id": "ayfYEIEtU9IL",
        "outputId": "4cd6d3c6-1a58-434c-b857-85067d90398c"
      },
      "execution_count": null,
      "outputs": [
        {
          "output_type": "stream",
          "name": "stdout",
          "text": [
            "Mounted at /content/drive\n"
          ]
        }
      ]
    },
    {
      "cell_type": "code",
      "source": [
        "from google.colab import files\n",
        "uploaded = files.upload()"
      ],
      "metadata": {
        "colab": {
          "base_uri": "https://localhost:8080/",
          "height": 73
        },
        "id": "ebTR9xIVV6K0",
        "outputId": "7ec07763-62c6-4d49-e032-194113e245cc"
      },
      "execution_count": null,
      "outputs": [
        {
          "output_type": "display_data",
          "data": {
            "text/plain": [
              "<IPython.core.display.HTML object>"
            ],
            "text/html": [
              "\n",
              "     <input type=\"file\" id=\"files-4d9f7fc4-ecd8-445d-83b3-b3067f4968b7\" name=\"files[]\" multiple disabled\n",
              "        style=\"border:none\" />\n",
              "     <output id=\"result-4d9f7fc4-ecd8-445d-83b3-b3067f4968b7\">\n",
              "      Upload widget is only available when the cell has been executed in the\n",
              "      current browser session. Please rerun this cell to enable.\n",
              "      </output>\n",
              "      <script>// Copyright 2017 Google LLC\n",
              "//\n",
              "// Licensed under the Apache License, Version 2.0 (the \"License\");\n",
              "// you may not use this file except in compliance with the License.\n",
              "// You may obtain a copy of the License at\n",
              "//\n",
              "//      http://www.apache.org/licenses/LICENSE-2.0\n",
              "//\n",
              "// Unless required by applicable law or agreed to in writing, software\n",
              "// distributed under the License is distributed on an \"AS IS\" BASIS,\n",
              "// WITHOUT WARRANTIES OR CONDITIONS OF ANY KIND, either express or implied.\n",
              "// See the License for the specific language governing permissions and\n",
              "// limitations under the License.\n",
              "\n",
              "/**\n",
              " * @fileoverview Helpers for google.colab Python module.\n",
              " */\n",
              "(function(scope) {\n",
              "function span(text, styleAttributes = {}) {\n",
              "  const element = document.createElement('span');\n",
              "  element.textContent = text;\n",
              "  for (const key of Object.keys(styleAttributes)) {\n",
              "    element.style[key] = styleAttributes[key];\n",
              "  }\n",
              "  return element;\n",
              "}\n",
              "\n",
              "// Max number of bytes which will be uploaded at a time.\n",
              "const MAX_PAYLOAD_SIZE = 100 * 1024;\n",
              "\n",
              "function _uploadFiles(inputId, outputId) {\n",
              "  const steps = uploadFilesStep(inputId, outputId);\n",
              "  const outputElement = document.getElementById(outputId);\n",
              "  // Cache steps on the outputElement to make it available for the next call\n",
              "  // to uploadFilesContinue from Python.\n",
              "  outputElement.steps = steps;\n",
              "\n",
              "  return _uploadFilesContinue(outputId);\n",
              "}\n",
              "\n",
              "// This is roughly an async generator (not supported in the browser yet),\n",
              "// where there are multiple asynchronous steps and the Python side is going\n",
              "// to poll for completion of each step.\n",
              "// This uses a Promise to block the python side on completion of each step,\n",
              "// then passes the result of the previous step as the input to the next step.\n",
              "function _uploadFilesContinue(outputId) {\n",
              "  const outputElement = document.getElementById(outputId);\n",
              "  const steps = outputElement.steps;\n",
              "\n",
              "  const next = steps.next(outputElement.lastPromiseValue);\n",
              "  return Promise.resolve(next.value.promise).then((value) => {\n",
              "    // Cache the last promise value to make it available to the next\n",
              "    // step of the generator.\n",
              "    outputElement.lastPromiseValue = value;\n",
              "    return next.value.response;\n",
              "  });\n",
              "}\n",
              "\n",
              "/**\n",
              " * Generator function which is called between each async step of the upload\n",
              " * process.\n",
              " * @param {string} inputId Element ID of the input file picker element.\n",
              " * @param {string} outputId Element ID of the output display.\n",
              " * @return {!Iterable<!Object>} Iterable of next steps.\n",
              " */\n",
              "function* uploadFilesStep(inputId, outputId) {\n",
              "  const inputElement = document.getElementById(inputId);\n",
              "  inputElement.disabled = false;\n",
              "\n",
              "  const outputElement = document.getElementById(outputId);\n",
              "  outputElement.innerHTML = '';\n",
              "\n",
              "  const pickedPromise = new Promise((resolve) => {\n",
              "    inputElement.addEventListener('change', (e) => {\n",
              "      resolve(e.target.files);\n",
              "    });\n",
              "  });\n",
              "\n",
              "  const cancel = document.createElement('button');\n",
              "  inputElement.parentElement.appendChild(cancel);\n",
              "  cancel.textContent = 'Cancel upload';\n",
              "  const cancelPromise = new Promise((resolve) => {\n",
              "    cancel.onclick = () => {\n",
              "      resolve(null);\n",
              "    };\n",
              "  });\n",
              "\n",
              "  // Wait for the user to pick the files.\n",
              "  const files = yield {\n",
              "    promise: Promise.race([pickedPromise, cancelPromise]),\n",
              "    response: {\n",
              "      action: 'starting',\n",
              "    }\n",
              "  };\n",
              "\n",
              "  cancel.remove();\n",
              "\n",
              "  // Disable the input element since further picks are not allowed.\n",
              "  inputElement.disabled = true;\n",
              "\n",
              "  if (!files) {\n",
              "    return {\n",
              "      response: {\n",
              "        action: 'complete',\n",
              "      }\n",
              "    };\n",
              "  }\n",
              "\n",
              "  for (const file of files) {\n",
              "    const li = document.createElement('li');\n",
              "    li.append(span(file.name, {fontWeight: 'bold'}));\n",
              "    li.append(span(\n",
              "        `(${file.type || 'n/a'}) - ${file.size} bytes, ` +\n",
              "        `last modified: ${\n",
              "            file.lastModifiedDate ? file.lastModifiedDate.toLocaleDateString() :\n",
              "                                    'n/a'} - `));\n",
              "    const percent = span('0% done');\n",
              "    li.appendChild(percent);\n",
              "\n",
              "    outputElement.appendChild(li);\n",
              "\n",
              "    const fileDataPromise = new Promise((resolve) => {\n",
              "      const reader = new FileReader();\n",
              "      reader.onload = (e) => {\n",
              "        resolve(e.target.result);\n",
              "      };\n",
              "      reader.readAsArrayBuffer(file);\n",
              "    });\n",
              "    // Wait for the data to be ready.\n",
              "    let fileData = yield {\n",
              "      promise: fileDataPromise,\n",
              "      response: {\n",
              "        action: 'continue',\n",
              "      }\n",
              "    };\n",
              "\n",
              "    // Use a chunked sending to avoid message size limits. See b/62115660.\n",
              "    let position = 0;\n",
              "    do {\n",
              "      const length = Math.min(fileData.byteLength - position, MAX_PAYLOAD_SIZE);\n",
              "      const chunk = new Uint8Array(fileData, position, length);\n",
              "      position += length;\n",
              "\n",
              "      const base64 = btoa(String.fromCharCode.apply(null, chunk));\n",
              "      yield {\n",
              "        response: {\n",
              "          action: 'append',\n",
              "          file: file.name,\n",
              "          data: base64,\n",
              "        },\n",
              "      };\n",
              "\n",
              "      let percentDone = fileData.byteLength === 0 ?\n",
              "          100 :\n",
              "          Math.round((position / fileData.byteLength) * 100);\n",
              "      percent.textContent = `${percentDone}% done`;\n",
              "\n",
              "    } while (position < fileData.byteLength);\n",
              "  }\n",
              "\n",
              "  // All done.\n",
              "  yield {\n",
              "    response: {\n",
              "      action: 'complete',\n",
              "    }\n",
              "  };\n",
              "}\n",
              "\n",
              "scope.google = scope.google || {};\n",
              "scope.google.colab = scope.google.colab || {};\n",
              "scope.google.colab._files = {\n",
              "  _uploadFiles,\n",
              "  _uploadFilesContinue,\n",
              "};\n",
              "})(self);\n",
              "</script> "
            ]
          },
          "metadata": {}
        },
        {
          "output_type": "stream",
          "name": "stdout",
          "text": [
            "Saving stations.csv to stations.csv\n"
          ]
        }
      ]
    },
    {
      "cell_type": "code",
      "source": [
        "warandpeace = sc.textFile(\"warandsociety.txt\")\n",
        "print(warandpeace.count())\n",
        "\n",
        "nilFile = sc.textFile(\"nil\")\n",
        "print(nilFile.count())"
      ],
      "metadata": {
        "colab": {
          "base_uri": "https://localhost:8080/",
          "height": 946
        },
        "id": "-lN5bpsNYmo-",
        "outputId": "8f74e185-4d18-4540-c662-28b1a09e5438"
      },
      "execution_count": null,
      "outputs": [
        {
          "output_type": "stream",
          "name": "stdout",
          "text": [
            "12851\n"
          ]
        },
        {
          "output_type": "error",
          "ename": "Py4JJavaError",
          "evalue": "An error occurred while calling z:org.apache.spark.api.python.PythonRDD.collectAndServe.\n: org.apache.hadoop.mapred.InvalidInputException: Input path does not exist: file:/content/nil\n\tat org.apache.hadoop.mapred.FileInputFormat.singleThreadedListStatus(FileInputFormat.java:297)\n\tat org.apache.hadoop.mapred.FileInputFormat.listStatus(FileInputFormat.java:239)\n\tat org.apache.hadoop.mapred.FileInputFormat.getSplits(FileInputFormat.java:325)\n\tat org.apache.spark.rdd.HadoopRDD.getPartitions(HadoopRDD.scala:205)\n\tat org.apache.spark.rdd.RDD.$anonfun$partitions$2(RDD.scala:300)\n\tat scala.Option.getOrElse(Option.scala:189)\n\tat org.apache.spark.rdd.RDD.partitions(RDD.scala:296)\n\tat org.apache.spark.rdd.MapPartitionsRDD.getPartitions(MapPartitionsRDD.scala:49)\n\tat org.apache.spark.rdd.RDD.$anonfun$partitions$2(RDD.scala:300)\n\tat scala.Option.getOrElse(Option.scala:189)\n\tat org.apache.spark.rdd.RDD.partitions(RDD.scala:296)\n\tat org.apache.spark.api.python.PythonRDD.getPartitions(PythonRDD.scala:55)\n\tat org.apache.spark.rdd.RDD.$anonfun$partitions$2(RDD.scala:300)\n\tat scala.Option.getOrElse(Option.scala:189)\n\tat org.apache.spark.rdd.RDD.partitions(RDD.scala:296)\n\tat org.apache.spark.SparkContext.runJob(SparkContext.scala:2267)\n\tat org.apache.spark.rdd.RDD.$anonfun$collect$1(RDD.scala:1030)\n\tat org.apache.spark.rdd.RDDOperationScope$.withScope(RDDOperationScope.scala:151)\n\tat org.apache.spark.rdd.RDDOperationScope$.withScope(RDDOperationScope.scala:112)\n\tat org.apache.spark.rdd.RDD.withScope(RDD.scala:414)\n\tat org.apache.spark.rdd.RDD.collect(RDD.scala:1029)\n\tat org.apache.spark.api.python.PythonRDD$.collectAndServe(PythonRDD.scala:180)\n\tat org.apache.spark.api.python.PythonRDD.collectAndServe(PythonRDD.scala)\n\tat sun.reflect.NativeMethodAccessorImpl.invoke0(Native Method)\n\tat sun.reflect.NativeMethodAccessorImpl.invoke(NativeMethodAccessorImpl.java:62)\n\tat sun.reflect.DelegatingMethodAccessorImpl.invoke(DelegatingMethodAccessorImpl.java:43)\n\tat java.lang.reflect.Method.invoke(Method.java:498)\n\tat py4j.reflection.MethodInvoker.invoke(MethodInvoker.java:244)\n\tat py4j.reflection.ReflectionEngine.invoke(ReflectionEngine.java:357)\n\tat py4j.Gateway.invoke(Gateway.java:282)\n\tat py4j.commands.AbstractCommand.invokeMethod(AbstractCommand.java:132)\n\tat py4j.commands.CallCommand.execute(CallCommand.java:79)\n\tat py4j.GatewayConnection.run(GatewayConnection.java:238)\n\tat java.lang.Thread.run(Thread.java:750)\n",
          "traceback": [
            "\u001b[0;31m---------------------------------------------------------------------------\u001b[0m",
            "\u001b[0;31mPy4JJavaError\u001b[0m                             Traceback (most recent call last)",
            "\u001b[0;32m<ipython-input-21-01ed065a517c>\u001b[0m in \u001b[0;36m<cell line: 5>\u001b[0;34m()\u001b[0m\n\u001b[1;32m      3\u001b[0m \u001b[0;34m\u001b[0m\u001b[0m\n\u001b[1;32m      4\u001b[0m \u001b[0mnilFile\u001b[0m \u001b[0;34m=\u001b[0m \u001b[0msc\u001b[0m\u001b[0;34m.\u001b[0m\u001b[0mtextFile\u001b[0m\u001b[0;34m(\u001b[0m\u001b[0;34m\"nil\"\u001b[0m\u001b[0;34m)\u001b[0m\u001b[0;34m\u001b[0m\u001b[0;34m\u001b[0m\u001b[0m\n\u001b[0;32m----> 5\u001b[0;31m \u001b[0mprint\u001b[0m\u001b[0;34m(\u001b[0m\u001b[0mnilFile\u001b[0m\u001b[0;34m.\u001b[0m\u001b[0mcount\u001b[0m\u001b[0;34m(\u001b[0m\u001b[0;34m)\u001b[0m\u001b[0;34m)\u001b[0m\u001b[0;34m\u001b[0m\u001b[0;34m\u001b[0m\u001b[0m\n\u001b[0m",
            "\u001b[0;32m/content/spark-3.1.1-bin-hadoop3.2/python/pyspark/rdd.py\u001b[0m in \u001b[0;36mcount\u001b[0;34m(self)\u001b[0m\n\u001b[1;32m   1233\u001b[0m         \u001b[0;36m3\u001b[0m\u001b[0;34m\u001b[0m\u001b[0;34m\u001b[0m\u001b[0m\n\u001b[1;32m   1234\u001b[0m         \"\"\"\n\u001b[0;32m-> 1235\u001b[0;31m         \u001b[0;32mreturn\u001b[0m \u001b[0mself\u001b[0m\u001b[0;34m.\u001b[0m\u001b[0mmapPartitions\u001b[0m\u001b[0;34m(\u001b[0m\u001b[0;32mlambda\u001b[0m \u001b[0mi\u001b[0m\u001b[0;34m:\u001b[0m \u001b[0;34m[\u001b[0m\u001b[0msum\u001b[0m\u001b[0;34m(\u001b[0m\u001b[0;36m1\u001b[0m \u001b[0;32mfor\u001b[0m \u001b[0m_\u001b[0m \u001b[0;32min\u001b[0m \u001b[0mi\u001b[0m\u001b[0;34m)\u001b[0m\u001b[0;34m]\u001b[0m\u001b[0;34m)\u001b[0m\u001b[0;34m.\u001b[0m\u001b[0msum\u001b[0m\u001b[0;34m(\u001b[0m\u001b[0;34m)\u001b[0m\u001b[0;34m\u001b[0m\u001b[0;34m\u001b[0m\u001b[0m\n\u001b[0m\u001b[1;32m   1236\u001b[0m \u001b[0;34m\u001b[0m\u001b[0m\n\u001b[1;32m   1237\u001b[0m     \u001b[0;32mdef\u001b[0m \u001b[0mstats\u001b[0m\u001b[0;34m(\u001b[0m\u001b[0mself\u001b[0m\u001b[0;34m)\u001b[0m\u001b[0;34m:\u001b[0m\u001b[0;34m\u001b[0m\u001b[0;34m\u001b[0m\u001b[0m\n",
            "\u001b[0;32m/content/spark-3.1.1-bin-hadoop3.2/python/pyspark/rdd.py\u001b[0m in \u001b[0;36msum\u001b[0;34m(self)\u001b[0m\n\u001b[1;32m   1222\u001b[0m         \u001b[0;36m6.0\u001b[0m\u001b[0;34m\u001b[0m\u001b[0;34m\u001b[0m\u001b[0m\n\u001b[1;32m   1223\u001b[0m         \"\"\"\n\u001b[0;32m-> 1224\u001b[0;31m         \u001b[0;32mreturn\u001b[0m \u001b[0mself\u001b[0m\u001b[0;34m.\u001b[0m\u001b[0mmapPartitions\u001b[0m\u001b[0;34m(\u001b[0m\u001b[0;32mlambda\u001b[0m \u001b[0mx\u001b[0m\u001b[0;34m:\u001b[0m \u001b[0;34m[\u001b[0m\u001b[0msum\u001b[0m\u001b[0;34m(\u001b[0m\u001b[0mx\u001b[0m\u001b[0;34m)\u001b[0m\u001b[0;34m]\u001b[0m\u001b[0;34m)\u001b[0m\u001b[0;34m.\u001b[0m\u001b[0mfold\u001b[0m\u001b[0;34m(\u001b[0m\u001b[0;36m0\u001b[0m\u001b[0;34m,\u001b[0m \u001b[0moperator\u001b[0m\u001b[0;34m.\u001b[0m\u001b[0madd\u001b[0m\u001b[0;34m)\u001b[0m\u001b[0;34m\u001b[0m\u001b[0;34m\u001b[0m\u001b[0m\n\u001b[0m\u001b[1;32m   1225\u001b[0m \u001b[0;34m\u001b[0m\u001b[0m\n\u001b[1;32m   1226\u001b[0m     \u001b[0;32mdef\u001b[0m \u001b[0mcount\u001b[0m\u001b[0;34m(\u001b[0m\u001b[0mself\u001b[0m\u001b[0;34m)\u001b[0m\u001b[0;34m:\u001b[0m\u001b[0;34m\u001b[0m\u001b[0;34m\u001b[0m\u001b[0m\n",
            "\u001b[0;32m/content/spark-3.1.1-bin-hadoop3.2/python/pyspark/rdd.py\u001b[0m in \u001b[0;36mfold\u001b[0;34m(self, zeroValue, op)\u001b[0m\n\u001b[1;32m   1076\u001b[0m         \u001b[0;31m# zeroValue provided to each partition is unique from the one provided\u001b[0m\u001b[0;34m\u001b[0m\u001b[0;34m\u001b[0m\u001b[0m\n\u001b[1;32m   1077\u001b[0m         \u001b[0;31m# to the final reduce call\u001b[0m\u001b[0;34m\u001b[0m\u001b[0;34m\u001b[0m\u001b[0m\n\u001b[0;32m-> 1078\u001b[0;31m         \u001b[0mvals\u001b[0m \u001b[0;34m=\u001b[0m \u001b[0mself\u001b[0m\u001b[0;34m.\u001b[0m\u001b[0mmapPartitions\u001b[0m\u001b[0;34m(\u001b[0m\u001b[0mfunc\u001b[0m\u001b[0;34m)\u001b[0m\u001b[0;34m.\u001b[0m\u001b[0mcollect\u001b[0m\u001b[0;34m(\u001b[0m\u001b[0;34m)\u001b[0m\u001b[0;34m\u001b[0m\u001b[0;34m\u001b[0m\u001b[0m\n\u001b[0m\u001b[1;32m   1079\u001b[0m         \u001b[0;32mreturn\u001b[0m \u001b[0mreduce\u001b[0m\u001b[0;34m(\u001b[0m\u001b[0mop\u001b[0m\u001b[0;34m,\u001b[0m \u001b[0mvals\u001b[0m\u001b[0;34m,\u001b[0m \u001b[0mzeroValue\u001b[0m\u001b[0;34m)\u001b[0m\u001b[0;34m\u001b[0m\u001b[0;34m\u001b[0m\u001b[0m\n\u001b[1;32m   1080\u001b[0m \u001b[0;34m\u001b[0m\u001b[0m\n",
            "\u001b[0;32m/content/spark-3.1.1-bin-hadoop3.2/python/pyspark/rdd.py\u001b[0m in \u001b[0;36mcollect\u001b[0;34m(self)\u001b[0m\n\u001b[1;32m    947\u001b[0m         \"\"\"\n\u001b[1;32m    948\u001b[0m         \u001b[0;32mwith\u001b[0m \u001b[0mSCCallSiteSync\u001b[0m\u001b[0;34m(\u001b[0m\u001b[0mself\u001b[0m\u001b[0;34m.\u001b[0m\u001b[0mcontext\u001b[0m\u001b[0;34m)\u001b[0m \u001b[0;32mas\u001b[0m \u001b[0mcss\u001b[0m\u001b[0;34m:\u001b[0m\u001b[0;34m\u001b[0m\u001b[0;34m\u001b[0m\u001b[0m\n\u001b[0;32m--> 949\u001b[0;31m             \u001b[0msock_info\u001b[0m \u001b[0;34m=\u001b[0m \u001b[0mself\u001b[0m\u001b[0;34m.\u001b[0m\u001b[0mctx\u001b[0m\u001b[0;34m.\u001b[0m\u001b[0m_jvm\u001b[0m\u001b[0;34m.\u001b[0m\u001b[0mPythonRDD\u001b[0m\u001b[0;34m.\u001b[0m\u001b[0mcollectAndServe\u001b[0m\u001b[0;34m(\u001b[0m\u001b[0mself\u001b[0m\u001b[0;34m.\u001b[0m\u001b[0m_jrdd\u001b[0m\u001b[0;34m.\u001b[0m\u001b[0mrdd\u001b[0m\u001b[0;34m(\u001b[0m\u001b[0;34m)\u001b[0m\u001b[0;34m)\u001b[0m\u001b[0;34m\u001b[0m\u001b[0;34m\u001b[0m\u001b[0m\n\u001b[0m\u001b[1;32m    950\u001b[0m         \u001b[0;32mreturn\u001b[0m \u001b[0mlist\u001b[0m\u001b[0;34m(\u001b[0m\u001b[0m_load_from_socket\u001b[0m\u001b[0;34m(\u001b[0m\u001b[0msock_info\u001b[0m\u001b[0;34m,\u001b[0m \u001b[0mself\u001b[0m\u001b[0;34m.\u001b[0m\u001b[0m_jrdd_deserializer\u001b[0m\u001b[0;34m)\u001b[0m\u001b[0;34m)\u001b[0m\u001b[0;34m\u001b[0m\u001b[0;34m\u001b[0m\u001b[0m\n\u001b[1;32m    951\u001b[0m \u001b[0;34m\u001b[0m\u001b[0m\n",
            "\u001b[0;32m/content/spark-3.1.1-bin-hadoop3.2/python/lib/py4j-0.10.9-src.zip/py4j/java_gateway.py\u001b[0m in \u001b[0;36m__call__\u001b[0;34m(self, *args)\u001b[0m\n\u001b[1;32m   1302\u001b[0m \u001b[0;34m\u001b[0m\u001b[0m\n\u001b[1;32m   1303\u001b[0m         \u001b[0manswer\u001b[0m \u001b[0;34m=\u001b[0m \u001b[0mself\u001b[0m\u001b[0;34m.\u001b[0m\u001b[0mgateway_client\u001b[0m\u001b[0;34m.\u001b[0m\u001b[0msend_command\u001b[0m\u001b[0;34m(\u001b[0m\u001b[0mcommand\u001b[0m\u001b[0;34m)\u001b[0m\u001b[0;34m\u001b[0m\u001b[0;34m\u001b[0m\u001b[0m\n\u001b[0;32m-> 1304\u001b[0;31m         return_value = get_return_value(\n\u001b[0m\u001b[1;32m   1305\u001b[0m             answer, self.gateway_client, self.target_id, self.name)\n\u001b[1;32m   1306\u001b[0m \u001b[0;34m\u001b[0m\u001b[0m\n",
            "\u001b[0;32m/content/spark-3.1.1-bin-hadoop3.2/python/pyspark/sql/utils.py\u001b[0m in \u001b[0;36mdeco\u001b[0;34m(*a, **kw)\u001b[0m\n\u001b[1;32m    109\u001b[0m     \u001b[0;32mdef\u001b[0m \u001b[0mdeco\u001b[0m\u001b[0;34m(\u001b[0m\u001b[0;34m*\u001b[0m\u001b[0ma\u001b[0m\u001b[0;34m,\u001b[0m \u001b[0;34m**\u001b[0m\u001b[0mkw\u001b[0m\u001b[0;34m)\u001b[0m\u001b[0;34m:\u001b[0m\u001b[0;34m\u001b[0m\u001b[0;34m\u001b[0m\u001b[0m\n\u001b[1;32m    110\u001b[0m         \u001b[0;32mtry\u001b[0m\u001b[0;34m:\u001b[0m\u001b[0;34m\u001b[0m\u001b[0;34m\u001b[0m\u001b[0m\n\u001b[0;32m--> 111\u001b[0;31m             \u001b[0;32mreturn\u001b[0m \u001b[0mf\u001b[0m\u001b[0;34m(\u001b[0m\u001b[0;34m*\u001b[0m\u001b[0ma\u001b[0m\u001b[0;34m,\u001b[0m \u001b[0;34m**\u001b[0m\u001b[0mkw\u001b[0m\u001b[0;34m)\u001b[0m\u001b[0;34m\u001b[0m\u001b[0;34m\u001b[0m\u001b[0m\n\u001b[0m\u001b[1;32m    112\u001b[0m         \u001b[0;32mexcept\u001b[0m \u001b[0mpy4j\u001b[0m\u001b[0;34m.\u001b[0m\u001b[0mprotocol\u001b[0m\u001b[0;34m.\u001b[0m\u001b[0mPy4JJavaError\u001b[0m \u001b[0;32mas\u001b[0m \u001b[0me\u001b[0m\u001b[0;34m:\u001b[0m\u001b[0;34m\u001b[0m\u001b[0;34m\u001b[0m\u001b[0m\n\u001b[1;32m    113\u001b[0m             \u001b[0mconverted\u001b[0m \u001b[0;34m=\u001b[0m \u001b[0mconvert_exception\u001b[0m\u001b[0;34m(\u001b[0m\u001b[0me\u001b[0m\u001b[0;34m.\u001b[0m\u001b[0mjava_exception\u001b[0m\u001b[0;34m)\u001b[0m\u001b[0;34m\u001b[0m\u001b[0;34m\u001b[0m\u001b[0m\n",
            "\u001b[0;32m/content/spark-3.1.1-bin-hadoop3.2/python/lib/py4j-0.10.9-src.zip/py4j/protocol.py\u001b[0m in \u001b[0;36mget_return_value\u001b[0;34m(answer, gateway_client, target_id, name)\u001b[0m\n\u001b[1;32m    324\u001b[0m             \u001b[0mvalue\u001b[0m \u001b[0;34m=\u001b[0m \u001b[0mOUTPUT_CONVERTER\u001b[0m\u001b[0;34m[\u001b[0m\u001b[0mtype\u001b[0m\u001b[0;34m]\u001b[0m\u001b[0;34m(\u001b[0m\u001b[0manswer\u001b[0m\u001b[0;34m[\u001b[0m\u001b[0;36m2\u001b[0m\u001b[0;34m:\u001b[0m\u001b[0;34m]\u001b[0m\u001b[0;34m,\u001b[0m \u001b[0mgateway_client\u001b[0m\u001b[0;34m)\u001b[0m\u001b[0;34m\u001b[0m\u001b[0;34m\u001b[0m\u001b[0m\n\u001b[1;32m    325\u001b[0m             \u001b[0;32mif\u001b[0m \u001b[0manswer\u001b[0m\u001b[0;34m[\u001b[0m\u001b[0;36m1\u001b[0m\u001b[0;34m]\u001b[0m \u001b[0;34m==\u001b[0m \u001b[0mREFERENCE_TYPE\u001b[0m\u001b[0;34m:\u001b[0m\u001b[0;34m\u001b[0m\u001b[0;34m\u001b[0m\u001b[0m\n\u001b[0;32m--> 326\u001b[0;31m                 raise Py4JJavaError(\n\u001b[0m\u001b[1;32m    327\u001b[0m                     \u001b[0;34m\"An error occurred while calling {0}{1}{2}.\\n\"\u001b[0m\u001b[0;34m.\u001b[0m\u001b[0;34m\u001b[0m\u001b[0;34m\u001b[0m\u001b[0m\n\u001b[1;32m    328\u001b[0m                     format(target_id, \".\", name), value)\n",
            "\u001b[0;31mPy4JJavaError\u001b[0m: An error occurred while calling z:org.apache.spark.api.python.PythonRDD.collectAndServe.\n: org.apache.hadoop.mapred.InvalidInputException: Input path does not exist: file:/content/nil\n\tat org.apache.hadoop.mapred.FileInputFormat.singleThreadedListStatus(FileInputFormat.java:297)\n\tat org.apache.hadoop.mapred.FileInputFormat.listStatus(FileInputFormat.java:239)\n\tat org.apache.hadoop.mapred.FileInputFormat.getSplits(FileInputFormat.java:325)\n\tat org.apache.spark.rdd.HadoopRDD.getPartitions(HadoopRDD.scala:205)\n\tat org.apache.spark.rdd.RDD.$anonfun$partitions$2(RDD.scala:300)\n\tat scala.Option.getOrElse(Option.scala:189)\n\tat org.apache.spark.rdd.RDD.partitions(RDD.scala:296)\n\tat org.apache.spark.rdd.MapPartitionsRDD.getPartitions(MapPartitionsRDD.scala:49)\n\tat org.apache.spark.rdd.RDD.$anonfun$partitions$2(RDD.scala:300)\n\tat scala.Option.getOrElse(Option.scala:189)\n\tat org.apache.spark.rdd.RDD.partitions(RDD.scala:296)\n\tat org.apache.spark.api.python.PythonRDD.getPartitions(PythonRDD.scala:55)\n\tat org.apache.spark.rdd.RDD.$anonfun$partitions$2(RDD.scala:300)\n\tat scala.Option.getOrElse(Option.scala:189)\n\tat org.apache.spark.rdd.RDD.partitions(RDD.scala:296)\n\tat org.apache.spark.SparkContext.runJob(SparkContext.scala:2267)\n\tat org.apache.spark.rdd.RDD.$anonfun$collect$1(RDD.scala:1030)\n\tat org.apache.spark.rdd.RDDOperationScope$.withScope(RDDOperationScope.scala:151)\n\tat org.apache.spark.rdd.RDDOperationScope$.withScope(RDDOperationScope.scala:112)\n\tat org.apache.spark.rdd.RDD.withScope(RDD.scala:414)\n\tat org.apache.spark.rdd.RDD.collect(RDD.scala:1029)\n\tat org.apache.spark.api.python.PythonRDD$.collectAndServe(PythonRDD.scala:180)\n\tat org.apache.spark.api.python.PythonRDD.collectAndServe(PythonRDD.scala)\n\tat sun.reflect.NativeMethodAccessorImpl.invoke0(Native Method)\n\tat sun.reflect.NativeMethodAccessorImpl.invoke(NativeMethodAccessorImpl.java:62)\n\tat sun.reflect.DelegatingMethodAccessorImpl.invoke(DelegatingMethodAccessorImpl.java:43)\n\tat java.lang.reflect.Method.invoke(Method.java:498)\n\tat py4j.reflection.MethodInvoker.invoke(MethodInvoker.java:244)\n\tat py4j.reflection.ReflectionEngine.invoke(ReflectionEngine.java:357)\n\tat py4j.Gateway.invoke(Gateway.java:282)\n\tat py4j.commands.AbstractCommand.invokeMethod(AbstractCommand.java:132)\n\tat py4j.commands.CallCommand.execute(CallCommand.java:79)\n\tat py4j.GatewayConnection.run(GatewayConnection.java:238)\n\tat java.lang.Thread.run(Thread.java:750)\n"
          ]
        }
      ]
    },
    {
      "cell_type": "code",
      "source": [
        "print(warandpeace.take(10))\n",
        "print(warandpeace.getNumPartitions())"
      ],
      "metadata": {
        "colab": {
          "base_uri": "https://localhost:8080/"
        },
        "id": "v15Ekp9VaF4I",
        "outputId": "0f61a3ac-062b-4bed-b69e-5bf04484e3b8"
      },
      "execution_count": null,
      "outputs": [
        {
          "output_type": "stream",
          "name": "stdout",
          "text": [
            "['Лев Николаевич Толстой', 'Война и мир. Книга 1', '', 'Война и мир – 1', '', ' ', ' http://www.lib.ru', '', 'Аннотация ', '']\n",
            "2\n"
          ]
        }
      ]
    },
    {
      "cell_type": "code",
      "source": [
        "linesWithWar = warandpeace.filter(lambda x: \"война\" in x)\n",
        "linesWithWar.first()"
      ],
      "metadata": {
        "colab": {
          "base_uri": "https://localhost:8080/",
          "height": 105
        },
        "id": "rPkxIwlRcXc2",
        "outputId": "e31d0039-46c9-4d30-fa16-533749b72488"
      },
      "execution_count": null,
      "outputs": [
        {
          "output_type": "execute_result",
          "data": {
            "text/plain": [
              "\"– Еh bien, mon prince. Genes et Lucques ne sont plus que des apanages, des поместья, de la famille Buonaparte. Non, je vous previens, que si vous ne me dites pas, que nous avons la guerre, si vous vous permettez encore de pallier toutes les infamies, toutes les atrocites de cet Antichrist (ma parole, j'y crois) – je ne vous connais plus, vous n'etes plus mon ami, vous n'etes plus мой верный раб, comme vous dites. [Ну, что, князь, Генуа и Лукка стали не больше, как поместьями фамилии Бонапарте. Нет, я вас предупреждаю, если вы мне не скажете, что у нас война, если вы еще позволите себе защищать все гадости, все ужасы этого Антихриста (право, я верю, что он Антихрист) – я вас больше не знаю, вы уж не друг мой, вы уж не мой верный раб, как вы говорите.] Ну, здравствуйте, здравствуйте. Je vois que je vous fais peur, [Я вижу, что я вас пугаю,] садитесь и рассказывайте.\""
            ],
            "application/vnd.google.colaboratory.intrinsic+json": {
              "type": "string"
            }
          },
          "metadata": {},
          "execution_count": 36
        }
      ]
    },
    {
      "cell_type": "code",
      "source": [
        "def time(f):\n",
        "    import time\n",
        "    t = time.process_time()\n",
        "    f()\n",
        "    print(f\"Elapsed time: {int((time.process_time() - t)*1e9)} ns\")\n",
        "\n",
        "linesWithWar.cache()\n",
        "time(lambda: linesWithWar.count() )\n",
        "time(lambda: linesWithWar.count() )"
      ],
      "metadata": {
        "colab": {
          "base_uri": "https://localhost:8080/"
        },
        "id": "9d9KpIAnc6OI",
        "outputId": "f3873d1f-2f8b-45cc-cf80-856186f6194e"
      },
      "execution_count": null,
      "outputs": [
        {
          "output_type": "stream",
          "name": "stdout",
          "text": [
            "Elapsed time: 6774192 ns\n",
            "Elapsed time: 11663164 ns\n"
          ]
        }
      ]
    },
    {
      "cell_type": "code",
      "source": [
        "wordCounts = linesWithWar.flatMap(lambda line: line.split(\" \")).map(lambda word: (word, 1)).reduceByKey(lambda a, b: a + b)\n",
        "wordCounts.saveAsTextFile(\"warandpeace_histogram.txt\")"
      ],
      "metadata": {
        "id": "ZOFSwdbtdUWa"
      },
      "execution_count": null,
      "outputs": []
    },
    {
      "cell_type": "code",
      "source": [
        "!ls -l warandpeace_histogram.txt\n",
        "!head -10 warandpeace_histogram.txt/*"
      ],
      "metadata": {
        "colab": {
          "base_uri": "https://localhost:8080/"
        },
        "id": "7hPr15JSdsGL",
        "outputId": "a189c60c-da5f-4096-f7da-17777a1e051b"
      },
      "execution_count": null,
      "outputs": [
        {
          "output_type": "stream",
          "name": "stdout",
          "text": [
            "total 64\n",
            "-rw-r--r-- 1 root root 32428 Apr 22 10:59 part-00000\n",
            "-rw-r--r-- 1 root root 32489 Apr 22 10:59 part-00001\n",
            "-rw-r--r-- 1 root root     0 Apr 22 10:59 _SUCCESS\n",
            "==> warandpeace_histogram.txt/part-00000 <==\n",
            "('Еh', 1)\n",
            "('mon', 6)\n",
            "('prince.', 1)\n",
            "('sont', 1)\n",
            "('que', 9)\n",
            "('des', 2)\n",
            "('поместья,', 1)\n",
            "('Buonaparte.', 1)\n",
            "('Non,', 2)\n",
            "('previens,', 1)\n",
            "\n",
            "==> warandpeace_histogram.txt/part-00001 <==\n",
            "('–', 92)\n",
            "('bien,', 1)\n",
            "('Genes', 1)\n",
            "('et', 4)\n",
            "('Lucques', 1)\n",
            "('ne', 4)\n",
            "('plus', 3)\n",
            "('apanages,', 1)\n",
            "('de', 13)\n",
            "('la', 6)\n",
            "\n",
            "==> warandpeace_histogram.txt/_SUCCESS <==\n"
          ]
        }
      ]
    },
    {
      "cell_type": "code",
      "source": [
        "import re\n",
        "def dashrepl(matchobj):\n",
        "    return re.sub(r'[^\\w]', '', matchobj.group(0)).lower()\n",
        "wordCounts = linesWithWar.flatMap(lambda line: line.split(\" \")).map(lambda word: (re.sub(r\"[A-Z,А-Я]+|['-]\", dashrepl, word), 1)).reduceByKey(lambda a, b: a + b)\n",
        "wordCounts.saveAsTextFile(\"warandpeace_histogram1.txt\")\n",
        "!ls -l warandpeace_histogram1.txt\n",
        "!head -10 warandpeace_histogram1.txt/*"
      ],
      "metadata": {
        "colab": {
          "base_uri": "https://localhost:8080/"
        },
        "id": "7hlrZEtofho1",
        "outputId": "f98556cd-d76b-424a-9658-9be85f7a7296"
      },
      "execution_count": null,
      "outputs": [
        {
          "output_type": "stream",
          "name": "stdout",
          "text": [
            "total 64\n",
            "-rw-r--r-- 1 root root 30095 Apr 22 13:30 part-00000\n",
            "-rw-r--r-- 1 root root 29044 Apr 22 13:30 part-00001\n",
            "-rw-r--r-- 1 root root     0 Apr 22 13:30 _SUCCESS\n",
            "==> warandpeace_histogram1.txt/part-00000 <==\n",
            "('bien', 1)\n",
            "('mon', 6)\n",
            "('prince.', 1)\n",
            "('genes', 1)\n",
            "('lucques', 1)\n",
            "('sont', 1)\n",
            "('que', 9)\n",
            "('des', 2)\n",
            "('apanages', 1)\n",
            "('buonaparte.', 1)\n",
            "\n",
            "==> warandpeace_histogram1.txt/part-00001 <==\n",
            "('–', 92)\n",
            "('еh', 1)\n",
            "('et', 4)\n",
            "('ne', 4)\n",
            "('plus', 5)\n",
            "('поместья', 1)\n",
            "('de', 14)\n",
            "('la', 7)\n",
            "('famille', 1)\n",
            "('non', 2)\n",
            "\n",
            "==> warandpeace_histogram1.txt/_SUCCESS <==\n"
          ]
        }
      ]
    },
    {
      "cell_type": "markdown",
      "source": [
        "#### Операции с множествами"
      ],
      "metadata": {
        "id": "VIHyZCZjAM22"
      }
    },
    {
      "cell_type": "code",
      "source": [
        "a = sc.parallelize([1,2,3,4])\n",
        "b = sc.parallelize([3,4,6,7])"
      ],
      "metadata": {
        "id": "HdHLZm4t78Dx"
      },
      "execution_count": null,
      "outputs": []
    },
    {
      "cell_type": "code",
      "source": [
        "print(a.union(b).distinct().collect())\n",
        "print(a.intersection(b).collect())\n",
        "print(a.subtract(b).collect())"
      ],
      "metadata": {
        "colab": {
          "base_uri": "https://localhost:8080/"
        },
        "id": "-t3tkfBLA1g7",
        "outputId": "a8252907-2f1a-40c0-b32b-7c70b8e427e6"
      },
      "execution_count": null,
      "outputs": [
        {
          "output_type": "stream",
          "name": "stdout",
          "text": [
            "[4, 1, 2, 6, 3, 7]\n",
            "[4, 3]\n",
            "[1, 2]\n"
          ]
        }
      ]
    },
    {
      "cell_type": "markdown",
      "source": [
        "def distinct(self: \"RDD[T]\", numPartitions: Optional[int] = None) -> \"RDD[T]\":\n",
        "        \n",
        "  \n",
        "        return (\n",
        "            self.map(lambda x: (x, None))\n",
        "            .reduceByKey(lambda x, _: x, numPartitions)\n",
        "            .map(lambda x: x[0])\n",
        "        )"
      ],
      "metadata": {
        "id": "1lBFjo6-BeMb"
      }
    },
    {
      "cell_type": "markdown",
      "source": [
        "Упражнение. Найдите в исходном коде Spark определение функции distinct. Объясните почему реализация этой операции действительно убирает дубликаты.\n",
        "Очень просто - элементы попадают на этап редьюс как ключи, каждый элемент в итоге дает одно значение"
      ],
      "metadata": {
        "id": "jOKPHU5yCEGk"
      }
    },
    {
      "cell_type": "markdown",
      "source": [
        "#### Общие переменные и аккумуляирующие переменные"
      ],
      "metadata": {
        "id": "yIxrWfOgDA-v"
      }
    },
    {
      "cell_type": "code",
      "source": [
        "broadcastVar = sc.broadcast([1,2,3])\n",
        "broadcastVar.value"
      ],
      "metadata": {
        "colab": {
          "base_uri": "https://localhost:8080/"
        },
        "id": "LzUCJuBKDDVE",
        "outputId": "7e3e1648-33b5-493f-91ed-01fd4bd4127e"
      },
      "execution_count": null,
      "outputs": [
        {
          "output_type": "execute_result",
          "data": {
            "text/plain": [
              "[1, 2, 3]"
            ]
          },
          "metadata": {},
          "execution_count": 79
        }
      ]
    },
    {
      "cell_type": "code",
      "source": [
        "accum = sc.accumulator(0)\n",
        "sc.parallelize([1,2,3,4]).foreach(lambda x: accum.add(x))\n",
        "accum.value"
      ],
      "metadata": {
        "colab": {
          "base_uri": "https://localhost:8080/"
        },
        "id": "tYnJ0RnsDmVE",
        "outputId": "89b7a2cc-05c6-41e8-95a7-edf183b20e95"
      },
      "execution_count": null,
      "outputs": [
        {
          "output_type": "execute_result",
          "data": {
            "text/plain": [
              "10"
            ]
          },
          "metadata": {},
          "execution_count": 81
        }
      ]
    },
    {
      "cell_type": "code",
      "source": [
        "pair = ('a', 'b')"
      ],
      "metadata": {
        "id": "JnPmnZ4HD2Pm"
      },
      "execution_count": null,
      "outputs": []
    },
    {
      "cell_type": "markdown",
      "source": [
        "#### Топ 10 популярных номеров такси"
      ],
      "metadata": {
        "id": "QIljRmKkEBvH"
      }
    },
    {
      "cell_type": "code",
      "source": [
        "taxi = sc.textFile(\"nyctaxi.csv\")\n",
        "for t in taxi.take(5):\n",
        "    print(t)\n",
        "import itertools\n",
        "taxi.mapPartitionsWithIndex(lambda idx, it:  itertools.islice(it,1,None) if (idx==0) else it  )"
      ],
      "metadata": {
        "colab": {
          "base_uri": "https://localhost:8080/"
        },
        "id": "M6C5gqd6EGhS",
        "outputId": "06db5256-5582-4453-ed41-4fe47da8e2b8"
      },
      "execution_count": null,
      "outputs": [
        {
          "output_type": "stream",
          "name": "stdout",
          "text": [
            "\"_id\",\"_rev\",\"dropoff_datetime\",\"dropoff_latitude\",\"dropoff_longitude\",\"hack_license\",\"medallion\",\"passenger_count\",\"pickup_datetime\",\"pickup_latitude\",\"pickup_longitude\",\"rate_code\",\"store_and_fwd_flag\",\"trip_distance\",\"trip_time_in_secs\",\"vendor_id\"\n",
            "\"29b3f4a30dea6688d4c289c9672cb996\",\"1-ddfdec8050c7ef4dc694eeeda6c4625e\",\"2013-01-11 22:03:00\",+4.07033460000000E+001,-7.40144200000000E+001,\"A93D1F7F8998FFB75EEF477EB6077516\",\"68BC16A99E915E44ADA7E639B4DD5F59\",2,\"2013-01-11 21:48:00\",+4.06760670000000E+001,-7.39810790000000E+001,1,,+4.08000000000000E+000,900,\"VTS\"\n",
            "\"2a80cfaa425dcec0861e02ae44354500\",\"1-b72234b58a7b0018a1ec5d2ea0797e32\",\"2013-01-11 04:28:00\",+4.08190960000000E+001,-7.39467470000000E+001,\"64CE1B03FDE343BB8DFB512123A525A4\",\"60150AA39B2F654ED6F0C3AF8174A48A\",1,\"2013-01-11 04:07:00\",+4.07280540000000E+001,-7.40020370000000E+001,1,,+8.53000000000000E+000,1260,\"VTS\"\n",
            "\"29b3f4a30dea6688d4c289c96758d87e\",\"1-387ec30eac5abda89d2abefdf947b2c1\",\"2013-01-11 22:02:00\",+4.07277180000000E+001,-7.39942860000000E+001,\"2D73B0C44F1699C67AB8AE322433BDB7\",\"6F907BC9A85B7034C8418A24A0A75489\",5,\"2013-01-11 21:46:00\",+4.07577480000000E+001,-7.39649810000000E+001,1,,+3.01000000000000E+000,960,\"VTS\"\n",
            "\"2a80cfaa425dcec0861e02ae446226e4\",\"1-aa8b16d6ae44ad906a46cc6581ffea50\",\"2013-01-11 10:03:00\",+4.07643050000000E+001,-7.39544600000000E+001,\"E90018250F0A009433F03BD1E4A4CE53\",\"1AFFD48CC07161DA651625B562FE4D06\",5,\"2013-01-11 09:44:00\",+4.07308080000000E+001,-7.39928280000000E+001,1,,+3.64000000000000E+000,1140,\"VTS\"\n"
          ]
        },
        {
          "output_type": "execute_result",
          "data": {
            "text/plain": [
              "PythonRDD[133] at RDD at PythonRDD.scala:53"
            ]
          },
          "metadata": {},
          "execution_count": 85
        }
      ]
    },
    {
      "cell_type": "code",
      "source": [
        "taxiParse = taxi.map(lambda line: line.split(\",\"))\n",
        "taxiMedKey = taxiParse.map(lambda row: (row[6], 1))\n",
        "taxiMedCounts = taxiMedKey.reduceByKey(lambda v1, v2: v1+v2)\n",
        "top10 = taxiMedCounts.map(lambda x: x[::-1]).top(10)\n",
        "for x in top10:\n",
        "    print(x[::-1])"
      ],
      "metadata": {
        "colab": {
          "base_uri": "https://localhost:8080/"
        },
        "id": "0wjztz82IXTB",
        "outputId": "7d8b94ed-9569-4749-8632-afc5b1366fd1"
      },
      "execution_count": null,
      "outputs": [
        {
          "output_type": "stream",
          "name": "stdout",
          "text": [
            "('\"AB44AD9A03B7CFAF3925103BDCC0AF23\"', 44)\n",
            "('\"71CACFBADF9568AAE88A843DB511D172\"', 41)\n",
            "('\"6483B9BFCB216EC88986EA3AB13064E7\"', 41)\n",
            "('\"4C73459B430339981D78795300433438\"', 41)\n",
            "('\"67E71D24AF704D814A0A825005ADA72E\"', 40)\n",
            "('\"02E5A4136FD0A775A023A005A4EABC62\"', 40)\n",
            "('\"9DFBCD218E7116F34C044F0680A0FB8A\"', 39)\n",
            "('\"8DEB70907D00AA1D7FF5E2683240549B\"', 39)\n",
            "('\"7989C2AB3F345F4AB54D3CF1E0480D67\"', 39)\n",
            "('\"6C9F67DF658DC5636F9E7752F203F70A\"', 39)\n"
          ]
        }
      ]
    },
    {
      "cell_type": "code",
      "source": [
        "taxiMedCounts.cache()\n",
        "time(lambda: taxiMedCounts.count())\n",
        "time(lambda: taxiMedCounts.count())"
      ],
      "metadata": {
        "colab": {
          "base_uri": "https://localhost:8080/"
        },
        "id": "DeFUkxoJIt_r",
        "outputId": "37bae986-ab22-45af-89c4-927922a41955"
      },
      "execution_count": null,
      "outputs": [
        {
          "output_type": "stream",
          "name": "stdout",
          "text": [
            "Elapsed time: 5412668 ns\n",
            "Elapsed time: 11958155 ns\n"
          ]
        }
      ]
    },
    {
      "cell_type": "markdown",
      "source": [
        "#### Настройка способа хранения RDD"
      ],
      "metadata": {
        "id": "gqY0-NgxJEak"
      }
    },
    {
      "cell_type": "code",
      "source": [
        "from pyspark import StorageLevel\n",
        "taxi.persist(storageLevel=StorageLevel.MEMORY_ONLY)"
      ],
      "metadata": {
        "colab": {
          "base_uri": "https://localhost:8080/"
        },
        "id": "Df4_qH_UJNTr",
        "outputId": "441eaf9f-0124-4886-d935-a8233a5d016c"
      },
      "execution_count": null,
      "outputs": [
        {
          "output_type": "execute_result",
          "data": {
            "text/plain": [
              "nyctaxi.csv MapPartitionsRDD[131] at textFile at NativeMethodAccessorImpl.java:0"
            ]
          },
          "metadata": {},
          "execution_count": 93
        }
      ]
    },
    {
      "cell_type": "markdown",
      "source": [
        "#### 1. Проведите анализ данных велопарковок на языке Python в интерактивном режиме из Jupyter книг:"
      ],
      "metadata": {
        "id": "pkYVNrccJiKn"
      }
    },
    {
      "cell_type": "code",
      "source": [
        "tripData = sc.textFile(\"trips.csv\")\n",
        "# запомним заголовок, чтобы затем его исключить из данных\n",
        "tripsHeader = tripData.first()\n",
        "trips = tripData.filter(lambda row: row != tripsHeader).map(lambda row: row.split(\",\", -1))\n",
        "\n",
        "stationData = sc.textFile(\"stations.csv\")\n",
        "stationsHeader = stationData.first()\n",
        "stations = stationData.filter(lambda row: row != stationsHeader).map(lambda row: row.split(\",\", -1))"
      ],
      "metadata": {
        "id": "SUnDRqleJk3l"
      },
      "execution_count": null,
      "outputs": []
    },
    {
      "cell_type": "code",
      "source": [
        "list(enumerate(tripsHeader.split(\",\")))"
      ],
      "metadata": {
        "colab": {
          "base_uri": "https://localhost:8080/"
        },
        "id": "O8Aki0-QP9C4",
        "outputId": "396c6b97-4e2d-4591-f454-39099e776fe7"
      },
      "execution_count": null,
      "outputs": [
        {
          "output_type": "execute_result",
          "data": {
            "text/plain": [
              "[(0, 'id'),\n",
              " (1, 'duration'),\n",
              " (2, 'start_date'),\n",
              " (3, 'start_station_name'),\n",
              " (4, 'start_station_id'),\n",
              " (5, 'end_date'),\n",
              " (6, 'end_station_name'),\n",
              " (7, 'end_station_id'),\n",
              " (8, 'bike_id'),\n",
              " (9, 'subscription_type'),\n",
              " (10, 'zip_code')]"
            ]
          },
          "metadata": {},
          "execution_count": 102
        }
      ]
    },
    {
      "cell_type": "code",
      "source": [
        "list(enumerate(stationsHeader.split(\",\")))"
      ],
      "metadata": {
        "colab": {
          "base_uri": "https://localhost:8080/"
        },
        "id": "PHqxI-qvQBAs",
        "outputId": "fc1f40cc-a071-4851-f45e-fea06504b04f"
      },
      "execution_count": null,
      "outputs": [
        {
          "output_type": "execute_result",
          "data": {
            "text/plain": [
              "[(0, 'id'),\n",
              " (1, 'name'),\n",
              " (2, 'lat'),\n",
              " (3, 'long'),\n",
              " (4, 'dock_count'),\n",
              " (5, 'city'),\n",
              " (6, 'installation_date')]"
            ]
          },
          "metadata": {},
          "execution_count": 103
        }
      ]
    },
    {
      "cell_type": "code",
      "source": [
        "trips.take(2)"
      ],
      "metadata": {
        "colab": {
          "base_uri": "https://localhost:8080/"
        },
        "id": "_qUUp2eFQDyh",
        "outputId": "1b2b0ccd-ee65-4397-891a-bd96885bba34"
      },
      "execution_count": null,
      "outputs": [
        {
          "output_type": "execute_result",
          "data": {
            "text/plain": [
              "[['4576',\n",
              "  '63',\n",
              "  '',\n",
              "  'South Van Ness at Market',\n",
              "  '66',\n",
              "  '8/29/2013 14:14',\n",
              "  'South Van Ness at Market',\n",
              "  '66',\n",
              "  '520',\n",
              "  'Subscriber',\n",
              "  '94127'],\n",
              " ['4607',\n",
              "  '',\n",
              "  '8/29/2013 14:42',\n",
              "  'San Jose City Hall',\n",
              "  '10',\n",
              "  '8/29/2013 14:43',\n",
              "  'San Jose City Hall',\n",
              "  '10',\n",
              "  '661',\n",
              "  'Subscriber',\n",
              "  '95138']]"
            ]
          },
          "metadata": {},
          "execution_count": 104
        }
      ]
    },
    {
      "cell_type": "code",
      "source": [
        "stations.take(2)"
      ],
      "metadata": {
        "colab": {
          "base_uri": "https://localhost:8080/"
        },
        "id": "tpieyfC-QQIM",
        "outputId": "cfdd6bb2-6d54-403a-f025-34a2d496156c"
      },
      "execution_count": null,
      "outputs": [
        {
          "output_type": "execute_result",
          "data": {
            "text/plain": [
              "[['2',\n",
              "  'San Jose Diridon Caltrain Station',\n",
              "  '37.329732',\n",
              "  '-121.90178200000001',\n",
              "  '27',\n",
              "  'San Jose',\n",
              "  '8/6/2013'],\n",
              " ['3',\n",
              "  'San Jose Civic Center',\n",
              "  '37.330698',\n",
              "  '-121.888979',\n",
              "  '15',\n",
              "  'San Jose',\n",
              "  '8/5/2013']]"
            ]
          },
          "metadata": {},
          "execution_count": 105
        }
      ]
    },
    {
      "cell_type": "code",
      "source": [
        "stationsIndexed = stations.keyBy(lambda station: station[0])\n",
        "stationsIndexed.take(2)"
      ],
      "metadata": {
        "colab": {
          "base_uri": "https://localhost:8080/"
        },
        "id": "iYrde7J6QS7k",
        "outputId": "70085e26-75d0-4544-bdbe-e41c15abb58d"
      },
      "execution_count": null,
      "outputs": [
        {
          "output_type": "execute_result",
          "data": {
            "text/plain": [
              "[('2',\n",
              "  ['2',\n",
              "   'San Jose Diridon Caltrain Station',\n",
              "   '37.329732',\n",
              "   '-121.90178200000001',\n",
              "   '27',\n",
              "   'San Jose',\n",
              "   '8/6/2013']),\n",
              " ('3',\n",
              "  ['3',\n",
              "   'San Jose Civic Center',\n",
              "   '37.330698',\n",
              "   '-121.888979',\n",
              "   '15',\n",
              "   'San Jose',\n",
              "   '8/5/2013'])]"
            ]
          },
          "metadata": {},
          "execution_count": 107
        }
      ]
    },
    {
      "cell_type": "code",
      "source": [
        "tripsByStartTerminals = trips.keyBy(lambda trip: trip[4])\n",
        "tripsByEndTerminals = trips.keyBy(lambda trip: trip[7])"
      ],
      "metadata": {
        "id": "yaGnxsfHbkbR"
      },
      "execution_count": null,
      "outputs": []
    },
    {
      "cell_type": "code",
      "source": [
        "startTrips = stationsIndexed.join(tripsByStartTerminals)\n",
        "endTrips = stationsIndexed.join(tripsByEndTerminals)"
      ],
      "metadata": {
        "id": "nwzwtcNRcwiF"
      },
      "execution_count": null,
      "outputs": []
    },
    {
      "cell_type": "code",
      "source": [
        "print(startTrips.toDebugString().decode(\"utf-8\"))"
      ],
      "metadata": {
        "colab": {
          "base_uri": "https://localhost:8080/"
        },
        "id": "LXqJTMXzf-mI",
        "outputId": "9dcf8f8b-6473-47b7-d0b3-7b4371e7541f"
      },
      "execution_count": null,
      "outputs": [
        {
          "output_type": "stream",
          "name": "stdout",
          "text": [
            "(5) PythonRDD[175] at RDD at PythonRDD.scala:53 []\n",
            " |  MapPartitionsRDD[167] at mapPartitions at PythonRDD.scala:145 []\n",
            " |  ShuffledRDD[166] at partitionBy at NativeMethodAccessorImpl.java:0 []\n",
            " +-(5) PairwiseRDD[165] at join at <ipython-input-109-d9b5f12a0e8e>:1 []\n",
            "    |  PythonRDD[164] at join at <ipython-input-109-d9b5f12a0e8e>:1 []\n",
            "    |  UnionRDD[163] at union at NativeMethodAccessorImpl.java:0 []\n",
            "    |  PythonRDD[161] at RDD at PythonRDD.scala:53 []\n",
            "    |  stations.csv MapPartitionsRDD[156] at textFile at NativeMethodAccessorImpl.java:0 []\n",
            "    |  stations.csv HadoopRDD[155] at textFile at NativeMethodAccessorImpl.java:0 []\n",
            "    |  PythonRDD[162] at RDD at PythonRDD.scala:53 []\n",
            "    |  trips.csv MapPartitionsRDD[153] at textFile at NativeMethodAccessorImpl.java:0 []\n",
            "    |  trips.csv HadoopRDD[152] at textFile at NativeMethodAccessorImpl.java:0 []\n"
          ]
        }
      ]
    },
    {
      "cell_type": "code",
      "source": [
        "print(endTrips.toDebugString().decode(\"utf-8\"))"
      ],
      "metadata": {
        "colab": {
          "base_uri": "https://localhost:8080/"
        },
        "id": "3pchANhjgJRO",
        "outputId": "b27cad16-b95f-44ba-a9b9-4d40e9a00580"
      },
      "execution_count": null,
      "outputs": [
        {
          "output_type": "stream",
          "name": "stdout",
          "text": [
            "(5) PythonRDD[176] at RDD at PythonRDD.scala:53 []\n",
            " |  MapPartitionsRDD[174] at mapPartitions at PythonRDD.scala:145 []\n",
            " |  ShuffledRDD[173] at partitionBy at NativeMethodAccessorImpl.java:0 []\n",
            " +-(5) PairwiseRDD[172] at join at <ipython-input-109-d9b5f12a0e8e>:2 []\n",
            "    |  PythonRDD[171] at join at <ipython-input-109-d9b5f12a0e8e>:2 []\n",
            "    |  UnionRDD[170] at union at NativeMethodAccessorImpl.java:0 []\n",
            "    |  PythonRDD[168] at RDD at PythonRDD.scala:53 []\n",
            "    |  stations.csv MapPartitionsRDD[156] at textFile at NativeMethodAccessorImpl.java:0 []\n",
            "    |  stations.csv HadoopRDD[155] at textFile at NativeMethodAccessorImpl.java:0 []\n",
            "    |  PythonRDD[169] at RDD at PythonRDD.scala:53 []\n",
            "    |  trips.csv MapPartitionsRDD[153] at textFile at NativeMethodAccessorImpl.java:0 []\n",
            "    |  trips.csv HadoopRDD[152] at textFile at NativeMethodAccessorImpl.java:0 []\n"
          ]
        }
      ]
    },
    {
      "cell_type": "code",
      "source": [
        "startTrips.count()"
      ],
      "metadata": {
        "colab": {
          "base_uri": "https://localhost:8080/"
        },
        "id": "E4IdXZtAgNIe",
        "outputId": "2112f04f-321c-42ee-9c04-22ad5faeb683"
      },
      "execution_count": null,
      "outputs": [
        {
          "output_type": "execute_result",
          "data": {
            "text/plain": [
              "669959"
            ]
          },
          "metadata": {},
          "execution_count": 112
        }
      ]
    },
    {
      "cell_type": "code",
      "source": [
        "endTrips.count()"
      ],
      "metadata": {
        "colab": {
          "base_uri": "https://localhost:8080/"
        },
        "id": "GNiT5t8WgRME",
        "outputId": "467cee37-3639-423f-8af5-36b2cbc92ecc"
      },
      "execution_count": null,
      "outputs": [
        {
          "output_type": "execute_result",
          "data": {
            "text/plain": [
              "669959"
            ]
          },
          "metadata": {},
          "execution_count": 113
        }
      ]
    },
    {
      "cell_type": "code",
      "source": [
        "from pyspark.rdd import portable_hash\n",
        "\n",
        "stationsIndexed.partitionBy(numPartitions=trips.getNumPartitions(), partitionFunc=lambda x: portable_hash(x[0]))"
      ],
      "metadata": {
        "colab": {
          "base_uri": "https://localhost:8080/"
        },
        "id": "-XI6jNOGgsYG",
        "outputId": "ca7cf07f-350e-4211-fe63-f90a4e1231fd"
      },
      "execution_count": null,
      "outputs": [
        {
          "output_type": "execute_result",
          "data": {
            "text/plain": [
              "MapPartitionsRDD[182] at mapPartitions at PythonRDD.scala:145"
            ]
          },
          "metadata": {},
          "execution_count": 114
        }
      ]
    },
    {
      "cell_type": "code",
      "source": [
        "from typing import NamedTuple\n",
        "from datetime import datetime"
      ],
      "metadata": {
        "id": "Y94KFsDDg8G3"
      },
      "execution_count": null,
      "outputs": []
    },
    {
      "cell_type": "code",
      "source": [
        "def initStation(stations):\n",
        "    class Station(NamedTuple):\n",
        "        station_id: int\n",
        "        name: str\n",
        "        lat: float\n",
        "        long: float\n",
        "        dockcount: int\n",
        "        landmark: str\n",
        "        installation: str\n",
        "\n",
        "    for station in stations:\n",
        "        yield Station(\n",
        "            station_id = int(station[0]),\n",
        "            name = station[1],\n",
        "            lat = float(station[2]),\n",
        "            long = float(station[3]),\n",
        "            dockcount = int(station[4]),\n",
        "            landmark = station[5],\n",
        "            installation = datetime.strptime(station[6], '%m/%d/%Y')\n",
        "        )\n",
        "stationsInternal = stations.mapPartitions(initStation)\n",
        "stationsInternal.first()"
      ],
      "metadata": {
        "colab": {
          "base_uri": "https://localhost:8080/"
        },
        "id": "HGrMwIgdg-V3",
        "outputId": "ce0363b3-ae16-4f51-9741-3abbda804e73"
      },
      "execution_count": null,
      "outputs": [
        {
          "output_type": "execute_result",
          "data": {
            "text/plain": [
              "Station(station_id=2, name='San Jose Diridon Caltrain Station', lat=37.329732, long=-121.90178200000001, dockcount=27, landmark='San Jose', installation=datetime.datetime(2013, 8, 6, 0, 0))"
            ]
          },
          "metadata": {},
          "execution_count": 116
        }
      ]
    },
    {
      "cell_type": "code",
      "source": [
        "def initTrip(trips):\n",
        "    class Trip(NamedTuple):\n",
        "        trip_id: int\n",
        "        duration: int\n",
        "        start_date: datetime\n",
        "        start_station_name: str\n",
        "        start_station_id: int\n",
        "        end_date: datetime\n",
        "        end_station_name: str\n",
        "        end_station_id: int\n",
        "        bike_id: int\n",
        "        subscription_type: str\n",
        "        zip_code: str\n",
        "\n",
        "    for trip in trips:\n",
        "        try:\n",
        "            yield Trip(\n",
        "             trip_id = int(trip[0]),\n",
        "             duration = int(trip[1]),\n",
        "             start_date = datetime.strptime(trip[2], '%m/%d/%Y %H:%M'),\n",
        "             start_station_name = trip[3],\n",
        "             start_station_id = int(trip[4]),\n",
        "             end_date = datetime.strptime(trip[5], '%m/%d/%Y %H:%M'),\n",
        "             end_station_name = trip[6],\n",
        "             end_station_id = trip[7],\n",
        "             bike_id = int(trip[8]),\n",
        "             subscription_type = trip[9],\n",
        "             zip_code = trip[10]\n",
        "            )\n",
        "        except:\n",
        "            pass\n",
        "tripsInternal = trips.mapPartitions(initTrip)\n",
        "tripsInternal.take(10)"
      ],
      "metadata": {
        "colab": {
          "base_uri": "https://localhost:8080/"
        },
        "id": "Q3JQdkoBhBqg",
        "outputId": "9140d95d-5d9e-40c9-b232-bdab62d08b63"
      },
      "execution_count": null,
      "outputs": [
        {
          "output_type": "execute_result",
          "data": {
            "text/plain": [
              "[Trip(trip_id=4130, duration=71, start_date=datetime.datetime(2013, 8, 29, 10, 16), start_station_name='Mountain View City Hall', start_station_id=27, end_date=datetime.datetime(2013, 8, 29, 10, 17), end_station_name='Mountain View City Hall', end_station_id='27', bike_id=48, subscription_type='Subscriber', zip_code='97214'),\n",
              " Trip(trip_id=4251, duration=77, start_date=datetime.datetime(2013, 8, 29, 11, 29), start_station_name='San Jose City Hall', start_station_id=10, end_date=datetime.datetime(2013, 8, 29, 11, 30), end_station_name='San Jose City Hall', end_station_id='10', bike_id=26, subscription_type='Subscriber', zip_code='95060'),\n",
              " Trip(trip_id=4299, duration=83, start_date=datetime.datetime(2013, 8, 29, 12, 2), start_station_name='South Van Ness at Market', start_station_id=66, end_date=datetime.datetime(2013, 8, 29, 12, 4), end_station_name='Market at 10th', end_station_id='67', bike_id=319, subscription_type='Subscriber', zip_code='94103'),\n",
              " Trip(trip_id=4927, duration=103, start_date=datetime.datetime(2013, 8, 29, 18, 54), start_station_name='Golden Gate at Polk', start_station_id=59, end_date=datetime.datetime(2013, 8, 29, 18, 56), end_station_name='Golden Gate at Polk', end_station_id='59', bike_id=527, subscription_type='Subscriber', zip_code='94109'),\n",
              " Trip(trip_id=4500, duration=109, start_date=datetime.datetime(2013, 8, 29, 13, 25), start_station_name='Santa Clara at Almaden', start_station_id=4, end_date=datetime.datetime(2013, 8, 29, 13, 27), end_station_name='Adobe on Almaden', end_station_id='5', bike_id=679, subscription_type='Subscriber', zip_code='95112'),\n",
              " Trip(trip_id=4563, duration=111, start_date=datetime.datetime(2013, 8, 29, 14, 2), start_station_name='San Salvador at 1st', start_station_id=8, end_date=datetime.datetime(2013, 8, 29, 14, 4), end_station_name='San Salvador at 1st', end_station_id='8', bike_id=687, subscription_type='Subscriber', zip_code='95112'),\n",
              " Trip(trip_id=4760, duration=113, start_date=datetime.datetime(2013, 8, 29, 17, 1), start_station_name='South Van Ness at Market', start_station_id=66, end_date=datetime.datetime(2013, 8, 29, 17, 3), end_station_name='South Van Ness at Market', end_station_id='66', bike_id=553, subscription_type='Subscriber', zip_code='94103'),\n",
              " Trip(trip_id=4258, duration=114, start_date=datetime.datetime(2013, 8, 29, 11, 33), start_station_name='San Jose City Hall', start_station_id=10, end_date=datetime.datetime(2013, 8, 29, 11, 35), end_station_name='MLK Library', end_station_id='11', bike_id=107, subscription_type='Subscriber', zip_code='95060'),\n",
              " Trip(trip_id=4549, duration=125, start_date=datetime.datetime(2013, 8, 29, 13, 52), start_station_name='Spear at Folsom', start_station_id=49, end_date=datetime.datetime(2013, 8, 29, 13, 55), end_station_name='Embarcadero at Bryant', end_station_id='54', bike_id=368, subscription_type='Subscriber', zip_code='94109'),\n",
              " Trip(trip_id=4498, duration=126, start_date=datetime.datetime(2013, 8, 29, 13, 23), start_station_name='San Pedro Square', start_station_id=6, end_date=datetime.datetime(2013, 8, 29, 13, 25), end_station_name='Santa Clara at Almaden', end_station_id='4', bike_id=26, subscription_type='Subscriber', zip_code='95112')]"
            ]
          },
          "metadata": {},
          "execution_count": 117
        }
      ]
    },
    {
      "cell_type": "code",
      "source": [
        "tripsByStartStation = tripsInternal.keyBy(lambda trip: trip.start_station_name)"
      ],
      "metadata": {
        "id": "QRDndhl_hLHt"
      },
      "execution_count": null,
      "outputs": []
    },
    {
      "cell_type": "code",
      "source": [
        "import numpy as np\n",
        "\n",
        "avgDurationByStartStation = tripsByStartStation\\\n",
        " .mapValues(lambda trip: trip.duration)\\\n",
        " .groupByKey()\\\n",
        " .mapValues(lambda trip_durations: np.mean(list(trip_durations)))"
      ],
      "metadata": {
        "id": "1EbfL1XehLOe"
      },
      "execution_count": null,
      "outputs": []
    },
    {
      "cell_type": "code",
      "source": [
        "%%time\n",
        "\n",
        "avgDurationByStartStation.top(10, key=lambda x: x[1])"
      ],
      "metadata": {
        "colab": {
          "base_uri": "https://localhost:8080/"
        },
        "id": "rAdAangrht9n",
        "outputId": "0a414ee8-e180-4950-d9ae-799d35bd7d3c"
      },
      "execution_count": null,
      "outputs": [
        {
          "output_type": "stream",
          "name": "stdout",
          "text": [
            "CPU times: user 138 ms, sys: 7.06 ms, total: 145 ms\n",
            "Wall time: 21.2 s\n"
          ]
        },
        {
          "output_type": "execute_result",
          "data": {
            "text/plain": [
              "[('University and Emerson', 7090.239417989418),\n",
              " ('California Ave Caltrain Station', 4628.005847953216),\n",
              " ('Redwood City Public Library', 4579.234741784037),\n",
              " ('Park at Olive', 4438.1613333333335),\n",
              " ('San Jose Civic Center', 4208.016938519448),\n",
              " ('Rengstorff Avenue / California Street', 4174.082373782108),\n",
              " ('Redwood City Medical Center', 3959.491961414791),\n",
              " ('Palo Alto Caltrain Station', 3210.6489815253435),\n",
              " ('San Mateo County Center', 2716.7700348432054),\n",
              " ('Broadway at Main', 2481.2537313432836)]"
            ]
          },
          "metadata": {},
          "execution_count": 120
        }
      ]
    },
    {
      "cell_type": "code",
      "source": [
        "def seqFunc(acc, duration):\n",
        "    duration_sum, count = acc\n",
        "    return (duration_sum + duration, count + 1)\n",
        "\n",
        "def combFunc(acc1, acc2):\n",
        "    duration_sum1, count1 = acc1\n",
        "    duration_sum2, count2 = acc2\n",
        "    return (duration_sum1+duration_sum2, count1+count2)\n",
        "\n",
        "def meanFunc(acc):\n",
        "    duration_sum, count = acc\n",
        "    return duration_sum/count\n",
        "\n",
        "avgDurationByStartStation2 = tripsByStartStation\\\n",
        "  .mapValues(lambda trip: trip.duration)\\\n",
        "  .aggregateByKey(\n",
        "    zeroValue=(0,0),\n",
        "    seqFunc=seqFunc,\n",
        "    combFunc=combFunc)\\\n",
        "  .mapValues(meanFunc)"
      ],
      "metadata": {
        "id": "_SR39x4piH46"
      },
      "execution_count": null,
      "outputs": []
    },
    {
      "cell_type": "code",
      "source": [
        "%%time\n",
        "\n",
        "avgDurationByStartStation2.top(10, key=lambda x: x[1])"
      ],
      "metadata": {
        "colab": {
          "base_uri": "https://localhost:8080/"
        },
        "id": "FupUj0NriN33",
        "outputId": "3c6131cd-35d9-4879-f82d-7d921b7453a5"
      },
      "execution_count": null,
      "outputs": [
        {
          "output_type": "stream",
          "name": "stdout",
          "text": [
            "CPU times: user 126 ms, sys: 9.56 ms, total: 135 ms\n",
            "Wall time: 19.3 s\n"
          ]
        },
        {
          "output_type": "execute_result",
          "data": {
            "text/plain": [
              "[('University and Emerson', 7090.239417989418),\n",
              " ('California Ave Caltrain Station', 4628.005847953216),\n",
              " ('Redwood City Public Library', 4579.234741784037),\n",
              " ('Park at Olive', 4438.1613333333335),\n",
              " ('San Jose Civic Center', 4208.016938519448),\n",
              " ('Rengstorff Avenue / California Street', 4174.082373782108),\n",
              " ('Redwood City Medical Center', 3959.491961414791),\n",
              " ('Palo Alto Caltrain Station', 3210.6489815253435),\n",
              " ('San Mateo County Center', 2716.7700348432054),\n",
              " ('Broadway at Main', 2481.2537313432836)]"
            ]
          },
          "metadata": {},
          "execution_count": 122
        }
      ]
    },
    {
      "cell_type": "code",
      "source": [
        "def earliestTrip(trips):\n",
        "    if trips is None:\n",
        "        return None\n",
        "    if len(trips)==0:\n",
        "        return trips\n",
        "    trips = list(trips)\n",
        "    min_date = trips[0].start_date\n",
        "    min_trip = trips[0]\n",
        "    for trip in trips[1:]:\n",
        "        if min_date > trip.start_date:\n",
        "            min_date = trip.start_date\n",
        "            min_trip = trip\n",
        "    return min_trip\n",
        "\n",
        "firstGrouped = tripsByStartStation\\\n",
        "  .groupByKey()\\\n",
        "  .mapValues(lambda trips: earliestTrip(trips))"
      ],
      "metadata": {
        "id": "KWiF7MzQiXyS"
      },
      "execution_count": null,
      "outputs": []
    },
    {
      "cell_type": "code",
      "source": [
        "%%time\n",
        "\n",
        "firstGrouped.take(5)"
      ],
      "metadata": {
        "colab": {
          "base_uri": "https://localhost:8080/"
        },
        "id": "BXVujWg6iaHI",
        "outputId": "c623b71c-e34c-454b-d9b2-32d33fd602d4"
      },
      "execution_count": null,
      "outputs": [
        {
          "output_type": "stream",
          "name": "stdout",
          "text": [
            "CPU times: user 178 ms, sys: 19.6 ms, total: 197 ms\n",
            "Wall time: 30 s\n"
          ]
        },
        {
          "output_type": "execute_result",
          "data": {
            "text/plain": [
              "[('South Van Ness at Market',\n",
              "  Trip(trip_id=4073, duration=1067, start_date=datetime.datetime(2013, 8, 29, 9, 24), start_station_name='South Van Ness at Market', start_station_id=66, end_date=datetime.datetime(2013, 8, 29, 9, 42), end_station_name='San Francisco Caltrain 2 (330 Townsend)', end_station_id='69', bike_id=321, subscription_type='Subscriber', zip_code='94703')),\n",
              " ('Santa Clara at Almaden',\n",
              "  Trip(trip_id=4500, duration=109, start_date=datetime.datetime(2013, 8, 29, 13, 25), start_station_name='Santa Clara at Almaden', start_station_id=4, end_date=datetime.datetime(2013, 8, 29, 13, 27), end_station_name='Adobe on Almaden', end_station_id='5', bike_id=679, subscription_type='Subscriber', zip_code='95112')),\n",
              " ('Clay at Battery',\n",
              "  Trip(trip_id=4283, duration=1712, start_date=datetime.datetime(2013, 8, 29, 11, 55), start_station_name='Clay at Battery', start_station_id=41, end_date=datetime.datetime(2013, 8, 29, 12, 23), end_station_name='Harry Bridges Plaza (Ferry Building)', end_station_id='50', bike_id=544, subscription_type='Subscriber', zip_code='94070')),\n",
              " ('Market at 10th',\n",
              "  Trip(trip_id=4206, duration=1066, start_date=datetime.datetime(2013, 8, 29, 11, 9), start_station_name='Market at 10th', start_station_id=67, end_date=datetime.datetime(2013, 8, 29, 11, 27), end_station_name='Steuart at Market', end_station_id='74', bike_id=632, subscription_type='Customer', zip_code='98034')),\n",
              " ('Powell Street BART',\n",
              "  Trip(trip_id=4225, duration=21612, start_date=datetime.datetime(2013, 8, 29, 11, 18), start_station_name='Powell Street BART', start_station_id=39, end_date=datetime.datetime(2013, 8, 29, 17, 18), end_station_name='Market at 10th', end_station_id='67', bike_id=464, subscription_type='Customer', zip_code='58553'))]"
            ]
          },
          "metadata": {},
          "execution_count": 124
        }
      ]
    },
    {
      "cell_type": "code",
      "source": [
        "firstGrouped = tripsByStartStation\\\n",
        "  .reduceByKey(lambda tripA, tripB: tripA if tripA.start_date < tripB.start_date else tripB)"
      ],
      "metadata": {
        "id": "fYD0mkNtid-S"
      },
      "execution_count": null,
      "outputs": []
    },
    {
      "cell_type": "code",
      "source": [
        "%%time\n",
        "\n",
        "firstGrouped.take(5)"
      ],
      "metadata": {
        "colab": {
          "base_uri": "https://localhost:8080/"
        },
        "id": "a1Ongc4lifU4",
        "outputId": "93f5b156-4789-4173-f8c5-b2edb73a4651"
      },
      "execution_count": null,
      "outputs": [
        {
          "output_type": "stream",
          "name": "stdout",
          "text": [
            "CPU times: user 137 ms, sys: 30.5 ms, total: 168 ms\n",
            "Wall time: 21.7 s\n"
          ]
        },
        {
          "output_type": "execute_result",
          "data": {
            "text/plain": [
              "[('South Van Ness at Market',\n",
              "  Trip(trip_id=4074, duration=1131, start_date=datetime.datetime(2013, 8, 29, 9, 24), start_station_name='South Van Ness at Market', start_station_id=66, end_date=datetime.datetime(2013, 8, 29, 9, 43), end_station_name='San Francisco Caltrain 2 (330 Townsend)', end_station_id='69', bike_id=317, subscription_type='Subscriber', zip_code='94115')),\n",
              " ('Santa Clara at Almaden',\n",
              "  Trip(trip_id=4500, duration=109, start_date=datetime.datetime(2013, 8, 29, 13, 25), start_station_name='Santa Clara at Almaden', start_station_id=4, end_date=datetime.datetime(2013, 8, 29, 13, 27), end_station_name='Adobe on Almaden', end_station_id='5', bike_id=679, subscription_type='Subscriber', zip_code='95112')),\n",
              " ('Clay at Battery',\n",
              "  Trip(trip_id=4283, duration=1712, start_date=datetime.datetime(2013, 8, 29, 11, 55), start_station_name='Clay at Battery', start_station_id=41, end_date=datetime.datetime(2013, 8, 29, 12, 23), end_station_name='Harry Bridges Plaza (Ferry Building)', end_station_id='50', bike_id=544, subscription_type='Subscriber', zip_code='94070')),\n",
              " ('Market at 10th',\n",
              "  Trip(trip_id=4206, duration=1066, start_date=datetime.datetime(2013, 8, 29, 11, 9), start_station_name='Market at 10th', start_station_id=67, end_date=datetime.datetime(2013, 8, 29, 11, 27), end_station_name='Steuart at Market', end_station_id='74', bike_id=632, subscription_type='Customer', zip_code='98034')),\n",
              " ('Powell Street BART',\n",
              "  Trip(trip_id=4225, duration=21612, start_date=datetime.datetime(2013, 8, 29, 11, 18), start_station_name='Powell Street BART', start_station_id=39, end_date=datetime.datetime(2013, 8, 29, 17, 18), end_station_name='Market at 10th', end_station_id='67', bike_id=464, subscription_type='Customer', zip_code='58553'))]"
            ]
          },
          "metadata": {},
          "execution_count": 126
        }
      ]
    },
    {
      "cell_type": "code",
      "source": [
        "tripData = spark.read\\\n",
        ".option(\"header\", True)\\\n",
        ".option(\"inferSchema\", True)\\\n",
        ".option(\"timestampFormat\", 'M/d/y H:m')\\\n",
        ".csv(\"trips.csv\")\n",
        "\n",
        "tripData"
      ],
      "metadata": {
        "colab": {
          "base_uri": "https://localhost:8080/",
          "height": 511
        },
        "id": "TjmM0PY2izvI",
        "outputId": "11285a99-3839-4d28-92e4-0247ee6e3e79"
      },
      "execution_count": null,
      "outputs": [
        {
          "output_type": "execute_result",
          "data": {
            "text/plain": [
              "+----+--------+-------------------+--------------------+----------------+-------------------+--------------------+--------------+-------+-----------------+--------+\n",
              "|  id|duration|         start_date|  start_station_name|start_station_id|           end_date|    end_station_name|end_station_id|bike_id|subscription_type|zip_code|\n",
              "+----+--------+-------------------+--------------------+----------------+-------------------+--------------------+--------------+-------+-----------------+--------+\n",
              "|4576|      63|               null|South Van Ness at...|              66|2013-08-29 14:14:00|South Van Ness at...|            66|    520|       Subscriber|   94127|\n",
              "|4607|    null|2013-08-29 14:42:00|  San Jose City Hall|              10|2013-08-29 14:43:00|  San Jose City Hall|            10|    661|       Subscriber|   95138|\n",
              "|4130|      71|2013-08-29 10:16:00|Mountain View Cit...|              27|2013-08-29 10:17:00|Mountain View Cit...|            27|     48|       Subscriber|   97214|\n",
              "|4251|      77|2013-08-29 11:29:00|  San Jose City Hall|              10|2013-08-29 11:30:00|  San Jose City Hall|            10|     26|       Subscriber|   95060|\n",
              "|4299|      83|2013-08-29 12:02:00|South Van Ness at...|              66|2013-08-29 12:04:00|      Market at 10th|            67|    319|       Subscriber|   94103|\n",
              "|4927|     103|2013-08-29 18:54:00| Golden Gate at Polk|              59|2013-08-29 18:56:00| Golden Gate at Polk|            59|    527|       Subscriber|   94109|\n",
              "|4500|     109|2013-08-29 13:25:00|Santa Clara at Al...|               4|2013-08-29 13:27:00|    Adobe on Almaden|             5|    679|       Subscriber|   95112|\n",
              "|4563|     111|2013-08-29 14:02:00| San Salvador at 1st|               8|2013-08-29 14:04:00| San Salvador at 1st|             8|    687|       Subscriber|   95112|\n",
              "|4760|     113|2013-08-29 17:01:00|South Van Ness at...|              66|2013-08-29 17:03:00|South Van Ness at...|            66|    553|       Subscriber|   94103|\n",
              "|4258|     114|2013-08-29 11:33:00|  San Jose City Hall|              10|2013-08-29 11:35:00|         MLK Library|            11|    107|       Subscriber|   95060|\n",
              "|4549|     125|2013-08-29 13:52:00|     Spear at Folsom|              49|2013-08-29 13:55:00|Embarcadero at Br...|            54|    368|       Subscriber|   94109|\n",
              "|4498|     126|2013-08-29 13:23:00|    San Pedro Square|               6|2013-08-29 13:25:00|Santa Clara at Al...|             4|     26|       Subscriber|   95112|\n",
              "|4965|     129|2013-08-29 19:32:00|Mountain View Cal...|              28|2013-08-29 19:35:00|Mountain View Cal...|            28|    140|       Subscriber|   94041|\n",
              "|4557|     130|2013-08-29 13:57:00|   2nd at South Park|              64|2013-08-29 13:59:00|   2nd at South Park|            64|    371|       Subscriber|   94122|\n",
              "|4386|     134|2013-08-29 12:31:00|     Clay at Battery|              41|2013-08-29 12:33:00|     Beale at Market|            56|    503|       Subscriber|   94109|\n",
              "|4749|     138|2013-08-29 16:57:00|     Post at Kearney|              47|2013-08-29 16:59:00|     Post at Kearney|            47|    408|       Subscriber|   94117|\n",
              "|4242|     141|2013-08-29 11:25:00|  San Jose City Hall|              10|2013-08-29 11:27:00|  San Jose City Hall|            10|     26|       Subscriber|   95060|\n",
              "|4329|     142|2013-08-29 12:11:00|      Market at 10th|              67|2013-08-29 12:14:00|      Market at 10th|            67|    319|       Subscriber|   94103|\n",
              "|5097|     142|2013-08-29 22:21:00|   Steuart at Market|              74|2013-08-29 22:24:00|Harry Bridges Pla...|            50|    564|       Subscriber|   94115|\n",
              "|5084|     144|2013-08-29 22:06:00|  Powell Street BART|              39|2013-08-29 22:08:00|       Market at 4th|            76|    574|       Subscriber|   94115|\n",
              "+----+--------+-------------------+--------------------+----------------+-------------------+--------------------+--------------+-------+-----------------+--------+\n",
              "only showing top 20 rows"
            ],
            "text/html": [
              "<table border='1'>\n",
              "<tr><th>id</th><th>duration</th><th>start_date</th><th>start_station_name</th><th>start_station_id</th><th>end_date</th><th>end_station_name</th><th>end_station_id</th><th>bike_id</th><th>subscription_type</th><th>zip_code</th></tr>\n",
              "<tr><td>4576</td><td>63</td><td>null</td><td>South Van Ness at...</td><td>66</td><td>2013-08-29 14:14:00</td><td>South Van Ness at...</td><td>66</td><td>520</td><td>Subscriber</td><td>94127</td></tr>\n",
              "<tr><td>4607</td><td>null</td><td>2013-08-29 14:42:00</td><td>San Jose City Hall</td><td>10</td><td>2013-08-29 14:43:00</td><td>San Jose City Hall</td><td>10</td><td>661</td><td>Subscriber</td><td>95138</td></tr>\n",
              "<tr><td>4130</td><td>71</td><td>2013-08-29 10:16:00</td><td>Mountain View Cit...</td><td>27</td><td>2013-08-29 10:17:00</td><td>Mountain View Cit...</td><td>27</td><td>48</td><td>Subscriber</td><td>97214</td></tr>\n",
              "<tr><td>4251</td><td>77</td><td>2013-08-29 11:29:00</td><td>San Jose City Hall</td><td>10</td><td>2013-08-29 11:30:00</td><td>San Jose City Hall</td><td>10</td><td>26</td><td>Subscriber</td><td>95060</td></tr>\n",
              "<tr><td>4299</td><td>83</td><td>2013-08-29 12:02:00</td><td>South Van Ness at...</td><td>66</td><td>2013-08-29 12:04:00</td><td>Market at 10th</td><td>67</td><td>319</td><td>Subscriber</td><td>94103</td></tr>\n",
              "<tr><td>4927</td><td>103</td><td>2013-08-29 18:54:00</td><td>Golden Gate at Polk</td><td>59</td><td>2013-08-29 18:56:00</td><td>Golden Gate at Polk</td><td>59</td><td>527</td><td>Subscriber</td><td>94109</td></tr>\n",
              "<tr><td>4500</td><td>109</td><td>2013-08-29 13:25:00</td><td>Santa Clara at Al...</td><td>4</td><td>2013-08-29 13:27:00</td><td>Adobe on Almaden</td><td>5</td><td>679</td><td>Subscriber</td><td>95112</td></tr>\n",
              "<tr><td>4563</td><td>111</td><td>2013-08-29 14:02:00</td><td>San Salvador at 1st</td><td>8</td><td>2013-08-29 14:04:00</td><td>San Salvador at 1st</td><td>8</td><td>687</td><td>Subscriber</td><td>95112</td></tr>\n",
              "<tr><td>4760</td><td>113</td><td>2013-08-29 17:01:00</td><td>South Van Ness at...</td><td>66</td><td>2013-08-29 17:03:00</td><td>South Van Ness at...</td><td>66</td><td>553</td><td>Subscriber</td><td>94103</td></tr>\n",
              "<tr><td>4258</td><td>114</td><td>2013-08-29 11:33:00</td><td>San Jose City Hall</td><td>10</td><td>2013-08-29 11:35:00</td><td>MLK Library</td><td>11</td><td>107</td><td>Subscriber</td><td>95060</td></tr>\n",
              "<tr><td>4549</td><td>125</td><td>2013-08-29 13:52:00</td><td>Spear at Folsom</td><td>49</td><td>2013-08-29 13:55:00</td><td>Embarcadero at Br...</td><td>54</td><td>368</td><td>Subscriber</td><td>94109</td></tr>\n",
              "<tr><td>4498</td><td>126</td><td>2013-08-29 13:23:00</td><td>San Pedro Square</td><td>6</td><td>2013-08-29 13:25:00</td><td>Santa Clara at Al...</td><td>4</td><td>26</td><td>Subscriber</td><td>95112</td></tr>\n",
              "<tr><td>4965</td><td>129</td><td>2013-08-29 19:32:00</td><td>Mountain View Cal...</td><td>28</td><td>2013-08-29 19:35:00</td><td>Mountain View Cal...</td><td>28</td><td>140</td><td>Subscriber</td><td>94041</td></tr>\n",
              "<tr><td>4557</td><td>130</td><td>2013-08-29 13:57:00</td><td>2nd at South Park</td><td>64</td><td>2013-08-29 13:59:00</td><td>2nd at South Park</td><td>64</td><td>371</td><td>Subscriber</td><td>94122</td></tr>\n",
              "<tr><td>4386</td><td>134</td><td>2013-08-29 12:31:00</td><td>Clay at Battery</td><td>41</td><td>2013-08-29 12:33:00</td><td>Beale at Market</td><td>56</td><td>503</td><td>Subscriber</td><td>94109</td></tr>\n",
              "<tr><td>4749</td><td>138</td><td>2013-08-29 16:57:00</td><td>Post at Kearney</td><td>47</td><td>2013-08-29 16:59:00</td><td>Post at Kearney</td><td>47</td><td>408</td><td>Subscriber</td><td>94117</td></tr>\n",
              "<tr><td>4242</td><td>141</td><td>2013-08-29 11:25:00</td><td>San Jose City Hall</td><td>10</td><td>2013-08-29 11:27:00</td><td>San Jose City Hall</td><td>10</td><td>26</td><td>Subscriber</td><td>95060</td></tr>\n",
              "<tr><td>4329</td><td>142</td><td>2013-08-29 12:11:00</td><td>Market at 10th</td><td>67</td><td>2013-08-29 12:14:00</td><td>Market at 10th</td><td>67</td><td>319</td><td>Subscriber</td><td>94103</td></tr>\n",
              "<tr><td>5097</td><td>142</td><td>2013-08-29 22:21:00</td><td>Steuart at Market</td><td>74</td><td>2013-08-29 22:24:00</td><td>Harry Bridges Pla...</td><td>50</td><td>564</td><td>Subscriber</td><td>94115</td></tr>\n",
              "<tr><td>5084</td><td>144</td><td>2013-08-29 22:06:00</td><td>Powell Street BART</td><td>39</td><td>2013-08-29 22:08:00</td><td>Market at 4th</td><td>76</td><td>574</td><td>Subscriber</td><td>94115</td></tr>\n",
              "</table>\n",
              "only showing top 20 rows\n"
            ]
          },
          "metadata": {},
          "execution_count": 127
        }
      ]
    },
    {
      "cell_type": "code",
      "source": [
        "tripData.printSchema()"
      ],
      "metadata": {
        "colab": {
          "base_uri": "https://localhost:8080/"
        },
        "id": "zyyD85z7jaON",
        "outputId": "7a687dee-34cb-4587-c374-546e563edcb6"
      },
      "execution_count": null,
      "outputs": [
        {
          "output_type": "stream",
          "name": "stdout",
          "text": [
            "root\n",
            " |-- id: integer (nullable = true)\n",
            " |-- duration: integer (nullable = true)\n",
            " |-- start_date: timestamp (nullable = true)\n",
            " |-- start_station_name: string (nullable = true)\n",
            " |-- start_station_id: integer (nullable = true)\n",
            " |-- end_date: timestamp (nullable = true)\n",
            " |-- end_station_name: string (nullable = true)\n",
            " |-- end_station_id: integer (nullable = true)\n",
            " |-- bike_id: integer (nullable = true)\n",
            " |-- subscription_type: string (nullable = true)\n",
            " |-- zip_code: string (nullable = true)\n",
            "\n"
          ]
        }
      ]
    },
    {
      "cell_type": "code",
      "source": [
        "tripData.show(n=5)"
      ],
      "metadata": {
        "colab": {
          "base_uri": "https://localhost:8080/"
        },
        "id": "Y1qBYHE9kaEG",
        "outputId": "ab2ccd90-a09d-443e-ca78-7d0900909091"
      },
      "execution_count": null,
      "outputs": [
        {
          "output_type": "stream",
          "name": "stdout",
          "text": [
            "+----+--------+-------------------+--------------------+----------------+-------------------+--------------------+--------------+-------+-----------------+--------+\n",
            "|  id|duration|         start_date|  start_station_name|start_station_id|           end_date|    end_station_name|end_station_id|bike_id|subscription_type|zip_code|\n",
            "+----+--------+-------------------+--------------------+----------------+-------------------+--------------------+--------------+-------+-----------------+--------+\n",
            "|4576|      63|               null|South Van Ness at...|              66|2013-08-29 14:14:00|South Van Ness at...|            66|    520|       Subscriber|   94127|\n",
            "|4607|    null|2013-08-29 14:42:00|  San Jose City Hall|              10|2013-08-29 14:43:00|  San Jose City Hall|            10|    661|       Subscriber|   95138|\n",
            "|4130|      71|2013-08-29 10:16:00|Mountain View Cit...|              27|2013-08-29 10:17:00|Mountain View Cit...|            27|     48|       Subscriber|   97214|\n",
            "|4251|      77|2013-08-29 11:29:00|  San Jose City Hall|              10|2013-08-29 11:30:00|  San Jose City Hall|            10|     26|       Subscriber|   95060|\n",
            "|4299|      83|2013-08-29 12:02:00|South Van Ness at...|              66|2013-08-29 12:04:00|      Market at 10th|            67|    319|       Subscriber|   94103|\n",
            "+----+--------+-------------------+--------------------+----------------+-------------------+--------------------+--------------+-------+-----------------+--------+\n",
            "only showing top 5 rows\n",
            "\n"
          ]
        }
      ]
    },
    {
      "cell_type": "code",
      "source": [
        "tripData.dropna().show(n=5)"
      ],
      "metadata": {
        "colab": {
          "base_uri": "https://localhost:8080/"
        },
        "id": "Oq1f0eyHkaHw",
        "outputId": "d396599e-9158-474b-dc38-631c9ab63f2c"
      },
      "execution_count": null,
      "outputs": [
        {
          "output_type": "stream",
          "name": "stdout",
          "text": [
            "+----+--------+-------------------+--------------------+----------------+-------------------+--------------------+--------------+-------+-----------------+--------+\n",
            "|  id|duration|         start_date|  start_station_name|start_station_id|           end_date|    end_station_name|end_station_id|bike_id|subscription_type|zip_code|\n",
            "+----+--------+-------------------+--------------------+----------------+-------------------+--------------------+--------------+-------+-----------------+--------+\n",
            "|4130|      71|2013-08-29 10:16:00|Mountain View Cit...|              27|2013-08-29 10:17:00|Mountain View Cit...|            27|     48|       Subscriber|   97214|\n",
            "|4251|      77|2013-08-29 11:29:00|  San Jose City Hall|              10|2013-08-29 11:30:00|  San Jose City Hall|            10|     26|       Subscriber|   95060|\n",
            "|4299|      83|2013-08-29 12:02:00|South Van Ness at...|              66|2013-08-29 12:04:00|      Market at 10th|            67|    319|       Subscriber|   94103|\n",
            "|4927|     103|2013-08-29 18:54:00| Golden Gate at Polk|              59|2013-08-29 18:56:00| Golden Gate at Polk|            59|    527|       Subscriber|   94109|\n",
            "|4500|     109|2013-08-29 13:25:00|Santa Clara at Al...|               4|2013-08-29 13:27:00|    Adobe on Almaden|             5|    679|       Subscriber|   95112|\n",
            "+----+--------+-------------------+--------------------+----------------+-------------------+--------------------+--------------+-------+-----------------+--------+\n",
            "only showing top 5 rows\n",
            "\n"
          ]
        }
      ]
    },
    {
      "cell_type": "code",
      "source": [
        "tripData.describe().show()"
      ],
      "metadata": {
        "colab": {
          "base_uri": "https://localhost:8080/"
        },
        "id": "VzYYRW_ukhEf",
        "outputId": "f4818018-ce50-4dd5-8e6f-2aab172e1d19"
      },
      "execution_count": null,
      "outputs": [
        {
          "output_type": "stream",
          "name": "stdout",
          "text": [
            "+-------+-----------------+------------------+--------------------+------------------+--------------------+------------------+------------------+-----------------+--------------------+\n",
            "|summary|               id|          duration|  start_station_name|  start_station_id|    end_station_name|    end_station_id|           bike_id|subscription_type|            zip_code|\n",
            "+-------+-----------------+------------------+--------------------+------------------+--------------------+------------------+------------------+-----------------+--------------------+\n",
            "|  count|           669959|            669958|              669959|            669959|              669959|            669959|            669959|           669959|              663340|\n",
            "|   mean|460382.0098991132| 1107.951395460611|                null| 57.85187601032302|                null|57.837437813358726|427.58761954089726|             null|  1576245.3147059095|\n",
            "| stddev|264584.4584872604|22255.453593552545|                null|17.112473968397165|                null|17.200141653222516|153.45098794073212|             null|1.0683651175200045E9|\n",
            "|    min|             4069|                60|       2nd at Folsom|                 2|       2nd at Folsom|                 2|                 9|         Customer|                   0|\n",
            "|    max|           913460|          17270400|Yerba Buena Cente...|                84|Yerba Buena Cente...|                84|               878|       Subscriber|               v6z2x|\n",
            "+-------+-----------------+------------------+--------------------+------------------+--------------------+------------------+------------------+-----------------+--------------------+\n",
            "\n"
          ]
        }
      ]
    },
    {
      "cell_type": "code",
      "source": [
        "stationData = spark.read\\\n",
        ".option(\"header\", True)\\\n",
        ".option(\"inferSchema\", True)\\\n",
        ".option(\"timestampFormat\", 'M/d/y')\\\n",
        ".csv(\"stations.csv\")\n",
        "\n",
        "stationData.printSchema()"
      ],
      "metadata": {
        "colab": {
          "base_uri": "https://localhost:8080/"
        },
        "id": "Qqgfo6l3kkf7",
        "outputId": "224d3a9a-023b-4e35-97e6-7cdc51cd3d05"
      },
      "execution_count": null,
      "outputs": [
        {
          "output_type": "stream",
          "name": "stdout",
          "text": [
            "root\n",
            " |-- id: integer (nullable = true)\n",
            " |-- name: string (nullable = true)\n",
            " |-- lat: double (nullable = true)\n",
            " |-- long: double (nullable = true)\n",
            " |-- dock_count: integer (nullable = true)\n",
            " |-- city: string (nullable = true)\n",
            " |-- installation_date: timestamp (nullable = true)\n",
            "\n"
          ]
        }
      ]
    },
    {
      "cell_type": "code",
      "source": [
        "stationData.show(n=5)"
      ],
      "metadata": {
        "colab": {
          "base_uri": "https://localhost:8080/"
        },
        "id": "D4UlMUILkmc4",
        "outputId": "ce181df1-e98c-4244-b5ae-f776369560ab"
      },
      "execution_count": null,
      "outputs": [
        {
          "output_type": "stream",
          "name": "stdout",
          "text": [
            "+---+--------------------+------------------+-------------------+----------+--------+-------------------+\n",
            "| id|                name|               lat|               long|dock_count|    city|  installation_date|\n",
            "+---+--------------------+------------------+-------------------+----------+--------+-------------------+\n",
            "|  2|San Jose Diridon ...|         37.329732|-121.90178200000001|        27|San Jose|2013-08-06 00:00:00|\n",
            "|  3|San Jose Civic Ce...|         37.330698|        -121.888979|        15|San Jose|2013-08-05 00:00:00|\n",
            "|  4|Santa Clara at Al...|         37.333988|        -121.894902|        11|San Jose|2013-08-06 00:00:00|\n",
            "|  5|    Adobe on Almaden|         37.331415|          -121.8932|        19|San Jose|2013-08-05 00:00:00|\n",
            "|  6|    San Pedro Square|37.336721000000004|        -121.894074|        15|San Jose|2013-08-07 00:00:00|\n",
            "+---+--------------------+------------------+-------------------+----------+--------+-------------------+\n",
            "only showing top 5 rows\n",
            "\n"
          ]
        }
      ]
    },
    {
      "cell_type": "code",
      "source": [
        "stationData.describe().show()"
      ],
      "metadata": {
        "colab": {
          "base_uri": "https://localhost:8080/"
        },
        "id": "Vb0ZeNnnkqJR",
        "outputId": "b312aa4e-6a2c-489f-cfcb-2d5c304aac1a"
      },
      "execution_count": null,
      "outputs": [
        {
          "output_type": "stream",
          "name": "stdout",
          "text": [
            "+-------+------------------+--------------------+-------------------+-------------------+-----------------+-------------+\n",
            "|summary|                id|                name|                lat|               long|       dock_count|         city|\n",
            "+-------+------------------+--------------------+-------------------+-------------------+-----------------+-------------+\n",
            "|  count|                70|                  70|                 70|                 70|               70|           70|\n",
            "|   mean|              43.0|                null|  37.59024338428572|-122.21841616428571|17.65714285714286|         null|\n",
            "| stddev|24.166091947189145|                null|0.20347253639672502|0.20944604979644524|4.010441857493954|         null|\n",
            "|    min|                 2|       2nd at Folsom|          37.329732|        -122.418954|               11|Mountain View|\n",
            "|    max|                84|Yerba Buena Cente...|           37.80477|        -121.877349|               27|     San Jose|\n",
            "+-------+------------------+--------------------+-------------------+-------------------+-----------------+-------------+\n",
            "\n"
          ]
        }
      ]
    },
    {
      "cell_type": "code",
      "source": [
        "stationsView = stationData.select(stationData['id'], stationData['name'], stationData['lat'], stationData['long'])\n",
        "stationsView.show()"
      ],
      "metadata": {
        "colab": {
          "base_uri": "https://localhost:8080/"
        },
        "id": "XIj3TinKl1RA",
        "outputId": "842b8e19-277b-447c-ac0c-9850a70350ac"
      },
      "execution_count": null,
      "outputs": [
        {
          "output_type": "stream",
          "name": "stdout",
          "text": [
            "+---+--------------------+------------------+-------------------+\n",
            "| id|                name|               lat|               long|\n",
            "+---+--------------------+------------------+-------------------+\n",
            "|  2|San Jose Diridon ...|         37.329732|-121.90178200000001|\n",
            "|  3|San Jose Civic Ce...|         37.330698|        -121.888979|\n",
            "|  4|Santa Clara at Al...|         37.333988|        -121.894902|\n",
            "|  5|    Adobe on Almaden|         37.331415|          -121.8932|\n",
            "|  6|    San Pedro Square|37.336721000000004|        -121.894074|\n",
            "|  7|Paseo de San Antonio|         37.333798|-121.88694299999999|\n",
            "|  8| San Salvador at 1st|         37.330165|-121.88583100000001|\n",
            "|  9|           Japantown|         37.348742|-121.89471499999999|\n",
            "| 10|  San Jose City Hall|         37.337391|        -121.886995|\n",
            "| 11|         MLK Library|         37.335885|-121.88566000000002|\n",
            "| 12|SJSU 4th at San C...|         37.332808|-121.88389099999999|\n",
            "| 13|       St James Park|         37.339301|-121.88993700000002|\n",
            "| 14|Arena Green / SAP...|         37.332692|        -121.900084|\n",
            "| 16|SJSU - San Salvad...|37.333954999999996|        -121.877349|\n",
            "| 21|   Franklin at Maple|         37.481758|        -122.226904|\n",
            "| 22|Redwood City Calt...|37.486078000000006|-122.23208899999999|\n",
            "| 23|San Mateo County ...|37.487615999999996|        -122.229951|\n",
            "| 24|Redwood City Publ...|         37.484219|        -122.227424|\n",
            "| 25|Stanford in Redwo...|          37.48537|-122.20328799999999|\n",
            "| 26|Redwood City Medi...|         37.487682|        -122.223492|\n",
            "+---+--------------------+------------------+-------------------+\n",
            "only showing top 20 rows\n",
            "\n"
          ]
        }
      ]
    },
    {
      "cell_type": "code",
      "source": [
        "startTrips = tripData.select(tripData.id, tripData.duration, tripData.start_station_id).withColumnRenamed('id', 'trip_id').join(stationsView, tripData.start_station_id == stationsView.id)\n",
        "startTrips = startTrips.drop('id')"
      ],
      "metadata": {
        "id": "e7L5tcnLl3Sf"
      },
      "execution_count": null,
      "outputs": []
    },
    {
      "cell_type": "code",
      "source": [
        "startTrips.show()"
      ],
      "metadata": {
        "colab": {
          "base_uri": "https://localhost:8080/"
        },
        "id": "mEVW3_nal5SU",
        "outputId": "64305b74-56c3-4372-a67b-b4b9d12ef941"
      },
      "execution_count": null,
      "outputs": [
        {
          "output_type": "stream",
          "name": "stdout",
          "text": [
            "+-------+--------+----------------+--------------------+------------------+-------------------+\n",
            "|trip_id|duration|start_station_id|                name|               lat|               long|\n",
            "+-------+--------+----------------+--------------------+------------------+-------------------+\n",
            "|   4576|      63|              66|South Van Ness at...|         37.774814|        -122.418954|\n",
            "|   4607|    null|              10|  San Jose City Hall|         37.337391|        -121.886995|\n",
            "|   4130|      71|              27|Mountain View Cit...|         37.389218|        -122.081896|\n",
            "|   4251|      77|              10|  San Jose City Hall|         37.337391|        -121.886995|\n",
            "|   4299|      83|              66|South Van Ness at...|         37.774814|        -122.418954|\n",
            "|   4927|     103|              59| Golden Gate at Polk|         37.781332|        -122.418603|\n",
            "|   4500|     109|               4|Santa Clara at Al...|         37.333988|        -121.894902|\n",
            "|   4563|     111|               8| San Salvador at 1st|         37.330165|-121.88583100000001|\n",
            "|   4760|     113|              66|South Van Ness at...|         37.774814|        -122.418954|\n",
            "|   4258|     114|              10|  San Jose City Hall|         37.337391|        -121.886995|\n",
            "|   4549|     125|              49|     Spear at Folsom|37.790302000000004|-122.39063700000001|\n",
            "|   4498|     126|               6|    San Pedro Square|37.336721000000004|        -121.894074|\n",
            "|   4965|     129|              28|Mountain View Cal...|37.394358000000004|-122.07671299999998|\n",
            "|   4557|     130|              64|   2nd at South Park|         37.782259|        -122.392738|\n",
            "|   4386|     134|              41|     Clay at Battery|         37.795001|         -122.39997|\n",
            "|   4749|     138|              47|     Post at Kearney|         37.788975|        -122.403452|\n",
            "|   4242|     141|              10|  San Jose City Hall|         37.337391|        -121.886995|\n",
            "|   4329|     142|              67|      Market at 10th|37.776619000000004|-122.41738500000001|\n",
            "|   5097|     142|              74|   Steuart at Market|         37.794139|        -122.394434|\n",
            "|   5084|     144|              39|  Powell Street BART|37.783871000000005|        -122.408433|\n",
            "+-------+--------+----------------+--------------------+------------------+-------------------+\n",
            "only showing top 20 rows\n",
            "\n"
          ]
        }
      ]
    },
    {
      "cell_type": "code",
      "source": [
        "tripData.printSchema()\n",
        "stationData.printSchema()"
      ],
      "metadata": {
        "colab": {
          "base_uri": "https://localhost:8080/"
        },
        "id": "noqegAaQl7Q4",
        "outputId": "92ea781c-1b95-41af-b7ac-693658a9f532"
      },
      "execution_count": null,
      "outputs": [
        {
          "output_type": "stream",
          "name": "stdout",
          "text": [
            "root\n",
            " |-- id: integer (nullable = true)\n",
            " |-- duration: integer (nullable = true)\n",
            " |-- start_date: timestamp (nullable = true)\n",
            " |-- start_station_name: string (nullable = true)\n",
            " |-- start_station_id: integer (nullable = true)\n",
            " |-- end_date: timestamp (nullable = true)\n",
            " |-- end_station_name: string (nullable = true)\n",
            " |-- end_station_id: integer (nullable = true)\n",
            " |-- bike_id: integer (nullable = true)\n",
            " |-- subscription_type: string (nullable = true)\n",
            " |-- zip_code: string (nullable = true)\n",
            "\n",
            "root\n",
            " |-- id: integer (nullable = true)\n",
            " |-- name: string (nullable = true)\n",
            " |-- lat: double (nullable = true)\n",
            " |-- long: double (nullable = true)\n",
            " |-- dock_count: integer (nullable = true)\n",
            " |-- city: string (nullable = true)\n",
            " |-- installation_date: timestamp (nullable = true)\n",
            "\n"
          ]
        }
      ]
    },
    {
      "cell_type": "code",
      "source": [
        "stationData.createOrReplaceTempView(\"stations\")\n",
        "tripData.createOrReplaceTempView(\"trips\")"
      ],
      "metadata": {
        "id": "pQby6jOWmA-f"
      },
      "execution_count": null,
      "outputs": []
    },
    {
      "cell_type": "code",
      "source": [
        "endTrips = spark.sql(\"\"\"\n",
        "SELECT trips.id as trip_id, trips.end_station_id, trips.duration, stations.name as station_name, stations.lat, stations.long\n",
        "FROM trips INNER JOIN stations\n",
        "    ON trips.end_station_id==stations.id\n",
        "\"\"\")\n",
        "endTrips.show()"
      ],
      "metadata": {
        "colab": {
          "base_uri": "https://localhost:8080/"
        },
        "id": "jP_wuvELmD3a",
        "outputId": "439fe592-7c85-4b6d-c69c-7ddd23389cf6"
      },
      "execution_count": null,
      "outputs": [
        {
          "output_type": "stream",
          "name": "stdout",
          "text": [
            "+-------+--------------+--------+--------------------+------------------+-------------------+\n",
            "|trip_id|end_station_id|duration|        station_name|               lat|               long|\n",
            "+-------+--------------+--------+--------------------+------------------+-------------------+\n",
            "|   4576|            66|      63|South Van Ness at...|         37.774814|        -122.418954|\n",
            "|   4607|            10|    null|  San Jose City Hall|         37.337391|        -121.886995|\n",
            "|   4130|            27|      71|Mountain View Cit...|         37.389218|        -122.081896|\n",
            "|   4251|            10|      77|  San Jose City Hall|         37.337391|        -121.886995|\n",
            "|   4299|            67|      83|      Market at 10th|37.776619000000004|-122.41738500000001|\n",
            "|   4927|            59|     103| Golden Gate at Polk|         37.781332|        -122.418603|\n",
            "|   4500|             5|     109|    Adobe on Almaden|         37.331415|          -121.8932|\n",
            "|   4563|             8|     111| San Salvador at 1st|         37.330165|-121.88583100000001|\n",
            "|   4760|            66|     113|South Van Ness at...|         37.774814|        -122.418954|\n",
            "|   4258|            11|     114|         MLK Library|         37.335885|-121.88566000000002|\n",
            "|   4549|            54|     125|Embarcadero at Br...|         37.787152|-122.38801299999999|\n",
            "|   4498|             4|     126|Santa Clara at Al...|         37.333988|        -121.894902|\n",
            "|   4965|            28|     129|Mountain View Cal...|37.394358000000004|-122.07671299999998|\n",
            "|   4557|            64|     130|   2nd at South Park|         37.782259|        -122.392738|\n",
            "|   4386|            56|     134|     Beale at Market|         37.792251|-122.39708600000002|\n",
            "|   4749|            47|     138|     Post at Kearney|         37.788975|        -122.403452|\n",
            "|   4242|            10|     141|  San Jose City Hall|         37.337391|        -121.886995|\n",
            "|   4329|            67|     142|      Market at 10th|37.776619000000004|-122.41738500000001|\n",
            "|   5097|            50|     142|Harry Bridges Pla...|         37.795392|        -122.394203|\n",
            "|   5084|            76|     144|       Market at 4th|         37.786305|-122.40496599999999|\n",
            "+-------+--------------+--------+--------------------+------------------+-------------------+\n",
            "only showing top 20 rows\n",
            "\n"
          ]
        }
      ]
    },
    {
      "cell_type": "code",
      "source": [
        "spark.sql(\"\"\"\n",
        "SELECT start_station_name, avg(duration)\n",
        "FROM trips\n",
        "GROUP BY trips.start_station_name\n",
        "ORDER BY avg(duration) DESC\n",
        "\"\"\").show()"
      ],
      "metadata": {
        "colab": {
          "base_uri": "https://localhost:8080/"
        },
        "id": "rRa878QOmH4g",
        "outputId": "dc9fba3e-fb83-4e3f-c2e7-96d72a1a76c4"
      },
      "execution_count": null,
      "outputs": [
        {
          "output_type": "stream",
          "name": "stdout",
          "text": [
            "+--------------------+------------------+\n",
            "|  start_station_name|     avg(duration)|\n",
            "+--------------------+------------------+\n",
            "|University and Em...| 7090.239417989418|\n",
            "|California Ave Ca...| 4628.005847953216|\n",
            "|Redwood City Publ...| 4579.234741784037|\n",
            "|       Park at Olive|4438.1613333333335|\n",
            "|San Jose Civic Ce...| 4208.016938519448|\n",
            "|Rengstorff Avenue...| 4174.082373782108|\n",
            "|Redwood City Medi...| 3959.491961414791|\n",
            "|Palo Alto Caltrai...|3210.6489815253435|\n",
            "|San Mateo County ...|2716.7700348432054|\n",
            "|    Broadway at Main|2481.2537313432836|\n",
            "|Cowper at University|2477.2379912663755|\n",
            "|Redwood City Calt...|2415.7175032175032|\n",
            "|South Van Ness at...| 2401.603338509317|\n",
            "|San Antonio Caltr...| 2377.497487437186|\n",
            "|San Antonio Shopp...| 2285.981298129813|\n",
            "|           Japantown| 2207.809947643979|\n",
            "|Washington at Kea...|1979.3077445652175|\n",
            "|Arena Green / SAP...|1963.9679144385027|\n",
            "|SJSU 4th at San C...| 1962.280341880342|\n",
            "|Castro Street and...|1868.3135135135135|\n",
            "+--------------------+------------------+\n",
            "only showing top 20 rows\n",
            "\n"
          ]
        }
      ]
    },
    {
      "cell_type": "code",
      "source": [
        "! pip install h3 h3_pyspark pandas folium"
      ],
      "metadata": {
        "colab": {
          "base_uri": "https://localhost:8080/"
        },
        "id": "zx2xfyf3mK4Z",
        "outputId": "f979c7ff-74da-4dcb-8aa7-ab8613b467c5"
      },
      "execution_count": null,
      "outputs": [
        {
          "output_type": "stream",
          "name": "stdout",
          "text": [
            "Collecting h3\n",
            "  Downloading h3-3.7.7-cp310-cp310-manylinux_2_17_x86_64.manylinux2014_x86_64.whl (1.2 MB)\n",
            "\u001b[?25l     \u001b[90m━━━━━━━━━━━━━━━━━━━━━━━━━━━━━━━━━━━━━━━━\u001b[0m \u001b[32m0.0/1.2 MB\u001b[0m \u001b[31m?\u001b[0m eta \u001b[36m-:--:--\u001b[0m\r\u001b[2K     \u001b[91m━━━━━━━━━━\u001b[0m\u001b[91m╸\u001b[0m\u001b[90m━━━━━━━━━━━━━━━━━━━━━━━━━━━━━\u001b[0m \u001b[32m0.3/1.2 MB\u001b[0m \u001b[31m9.3 MB/s\u001b[0m eta \u001b[36m0:00:01\u001b[0m\r\u001b[2K     \u001b[91m━━━━━━━━━━━━━━━━━━━━━━━━━━━━━━━━━━━━\u001b[0m\u001b[91m╸\u001b[0m\u001b[90m━━━\u001b[0m \u001b[32m1.1/1.2 MB\u001b[0m \u001b[31m16.1 MB/s\u001b[0m eta \u001b[36m0:00:01\u001b[0m\r\u001b[2K     \u001b[90m━━━━━━━━━━━━━━━━━━━━━━━━━━━━━━━━━━━━━━━━\u001b[0m \u001b[32m1.2/1.2 MB\u001b[0m \u001b[31m12.1 MB/s\u001b[0m eta \u001b[36m0:00:00\u001b[0m\n",
            "\u001b[?25hCollecting h3_pyspark\n",
            "  Downloading h3_pyspark-1.2.6-py3-none-any.whl (13 kB)\n",
            "Requirement already satisfied: pandas in /usr/local/lib/python3.10/dist-packages (2.0.3)\n",
            "Requirement already satisfied: folium in /usr/local/lib/python3.10/dist-packages (0.14.0)\n",
            "Requirement already satisfied: python-dateutil>=2.8.2 in /usr/local/lib/python3.10/dist-packages (from pandas) (2.8.2)\n",
            "Requirement already satisfied: pytz>=2020.1 in /usr/local/lib/python3.10/dist-packages (from pandas) (2023.4)\n",
            "Requirement already satisfied: tzdata>=2022.1 in /usr/local/lib/python3.10/dist-packages (from pandas) (2024.1)\n",
            "Requirement already satisfied: numpy>=1.21.0 in /usr/local/lib/python3.10/dist-packages (from pandas) (1.25.2)\n",
            "Requirement already satisfied: branca>=0.6.0 in /usr/local/lib/python3.10/dist-packages (from folium) (0.7.1)\n",
            "Requirement already satisfied: jinja2>=2.9 in /usr/local/lib/python3.10/dist-packages (from folium) (3.1.3)\n",
            "Requirement already satisfied: requests in /usr/local/lib/python3.10/dist-packages (from folium) (2.31.0)\n",
            "Requirement already satisfied: MarkupSafe>=2.0 in /usr/local/lib/python3.10/dist-packages (from jinja2>=2.9->folium) (2.1.5)\n",
            "Requirement already satisfied: six>=1.5 in /usr/local/lib/python3.10/dist-packages (from python-dateutil>=2.8.2->pandas) (1.16.0)\n",
            "Requirement already satisfied: charset-normalizer<4,>=2 in /usr/local/lib/python3.10/dist-packages (from requests->folium) (3.3.2)\n",
            "Requirement already satisfied: idna<4,>=2.5 in /usr/local/lib/python3.10/dist-packages (from requests->folium) (3.7)\n",
            "Requirement already satisfied: urllib3<3,>=1.21.1 in /usr/local/lib/python3.10/dist-packages (from requests->folium) (2.0.7)\n",
            "Requirement already satisfied: certifi>=2017.4.17 in /usr/local/lib/python3.10/dist-packages (from requests->folium) (2024.2.2)\n",
            "Installing collected packages: h3, h3_pyspark\n",
            "Successfully installed h3-3.7.7 h3_pyspark-1.2.6\n"
          ]
        }
      ]
    },
    {
      "cell_type": "code",
      "source": [
        "spark.sql(\"\"\"\n",
        "SELECT bike_id, start_date, end_date\n",
        "FROM trips\n",
        "WHERE\n",
        "    start_date > make_timestamp(2014, 12, 25, 0, 0, 0)\n",
        "    AND start_date <  make_timestamp(2014, 12, 26, 0, 0, 0)\n",
        "\"\"\").show()"
      ],
      "metadata": {
        "colab": {
          "base_uri": "https://localhost:8080/"
        },
        "id": "JZ7VsETimNHB",
        "outputId": "93df707c-637d-4e8c-87be-617ab796b460"
      },
      "execution_count": null,
      "outputs": [
        {
          "output_type": "stream",
          "name": "stdout",
          "text": [
            "+-------+-------------------+-------------------+\n",
            "|bike_id|         start_date|           end_date|\n",
            "+-------+-------------------+-------------------+\n",
            "|    379|2014-12-25 22:10:00|2014-12-25 22:18:00|\n",
            "|    709|2014-12-25 21:21:00|2014-12-25 21:27:00|\n",
            "|    376|2014-12-25 20:40:00|2014-12-25 20:46:00|\n",
            "|    541|2014-12-25 20:27:00|2014-12-25 20:32:00|\n",
            "|    283|2014-12-25 19:56:00|2014-12-25 20:01:00|\n",
            "|    519|2014-12-25 19:56:00|2014-12-25 20:01:00|\n",
            "|    583|2014-12-25 19:05:00|2014-12-25 19:07:00|\n",
            "|    495|2014-12-25 18:42:00|2014-12-25 18:44:00|\n",
            "|    541|2014-12-25 18:28:00|2014-12-25 18:37:00|\n",
            "|    585|2014-12-25 18:27:00|2014-12-25 18:37:00|\n",
            "|    574|2014-12-25 18:12:00|2014-12-25 18:21:00|\n",
            "|    630|2014-12-25 18:12:00|2014-12-25 18:22:00|\n",
            "|    583|2014-12-25 18:05:00|2014-12-25 18:22:00|\n",
            "|    290|2014-12-25 18:01:00|2014-12-25 18:15:00|\n",
            "|    451|2014-12-25 17:55:00|2014-12-25 18:04:00|\n",
            "|    630|2014-12-25 17:55:00|2014-12-25 17:59:00|\n",
            "|    574|2014-12-25 17:54:00|2014-12-25 17:59:00|\n",
            "|    463|2014-12-25 17:46:00|2014-12-25 17:53:00|\n",
            "|    628|2014-12-25 17:46:00|2014-12-25 17:53:00|\n",
            "|     58|2014-12-25 16:32:00|2014-12-25 17:04:00|\n",
            "+-------+-------------------+-------------------+\n",
            "only showing top 20 rows\n",
            "\n"
          ]
        }
      ]
    },
    {
      "cell_type": "code",
      "source": [
        "spark.sql(\"\"\"\n",
        "SELECT trips.bike_id, trips.start_date, trips.end_date, stations.name\n",
        "FROM trips INNER JOIN stations\n",
        "    ON trips.start_station_id == stations.id\n",
        "WHERE\n",
        "    bike_id == 583\n",
        "    AND start_date > make_timestamp(2014, 12, 25, 0, 0, 0)\n",
        "    AND start_date <  make_timestamp(2014, 12, 26, 0, 0, 0)\n",
        "\"\"\").show()"
      ],
      "metadata": {
        "colab": {
          "base_uri": "https://localhost:8080/"
        },
        "id": "YH8PYsh3mTzo",
        "outputId": "6cfe1d1d-154b-4a82-e196-810f7db0bb43"
      },
      "execution_count": null,
      "outputs": [
        {
          "output_type": "stream",
          "name": "stdout",
          "text": [
            "+-------+-------------------+-------------------+--------------+\n",
            "|bike_id|         start_date|           end_date|          name|\n",
            "+-------+-------------------+-------------------+--------------+\n",
            "|    583|2014-12-25 19:05:00|2014-12-25 19:07:00|Market at 10th|\n",
            "|    583|2014-12-25 18:05:00|2014-12-25 18:22:00|Market at 10th|\n",
            "|    583|2014-12-25 12:14:00|2014-12-25 12:21:00| Market at 4th|\n",
            "+-------+-------------------+-------------------+--------------+\n",
            "\n"
          ]
        }
      ]
    },
    {
      "cell_type": "code",
      "source": [
        "from pyspark.sql import functions as F\n",
        "import h3_pyspark\n",
        "import h3"
      ],
      "metadata": {
        "id": "oGmQ4TmqmVb2"
      },
      "execution_count": null,
      "outputs": []
    },
    {
      "cell_type": "code",
      "source": [
        "resolution = 8\n",
        "stationData.withColumn('h3', h3_pyspark.geo_to_h3('lat', 'long', F.lit(resolution))).createOrReplaceTempView(\"stations_h3\")"
      ],
      "metadata": {
        "id": "Q7Xf69JUmYhB"
      },
      "execution_count": null,
      "outputs": []
    },
    {
      "cell_type": "code",
      "source": [
        "christmas_583_contacts = spark.sql(\"\"\"\n",
        "SELECT trips.bike_id, trips.start_date, stations_h3.h3, stations_h3.lat, stations_h3.long, stations_h3.name\n",
        "FROM trips INNER JOIN stations_h3\n",
        "    ON trips.start_station_id == stations_h3.id\n",
        "WHERE\n",
        "    stations_h3.h3 in (SELECT stations_h3.h3\n",
        "                            FROM trips INNER JOIN stations_h3\n",
        "                                ON trips.start_station_id == stations_h3.id\n",
        "                            WHERE\n",
        "                                bike_id == 583\n",
        "                                AND start_date > make_timestamp(2014, 12, 25, 0, 0, 0)\n",
        "                                AND start_date <  make_timestamp(2014, 12, 26, 0, 0, 0))\n",
        "    AND start_date > make_timestamp(2014, 12, 25, 0, 0, 0)\n",
        "    AND start_date < make_timestamp(2014, 12, 26, 0, 0, 0)\n",
        "ORDER BY trips.start_date\n",
        "\"\"\")\n",
        "christmas_583_contacts.cache()\n",
        "christmas_583_contacts.show()"
      ],
      "metadata": {
        "colab": {
          "base_uri": "https://localhost:8080/"
        },
        "id": "hJtRS3qHm0RC",
        "outputId": "563766df-cc9a-4dab-e6da-1183c7ea414e"
      },
      "execution_count": null,
      "outputs": [
        {
          "output_type": "stream",
          "name": "stdout",
          "text": [
            "+-------+-------------------+---------------+------------------+-------------------+------------------+\n",
            "|bike_id|         start_date|             h3|               lat|               long|              name|\n",
            "+-------+-------------------+---------------+------------------+-------------------+------------------+\n",
            "|    439|2014-12-25 01:40:00|8828308281fffff|37.776619000000004|-122.41738500000001|    Market at 10th|\n",
            "|    659|2014-12-25 09:49:00|88283082abfffff|37.781752000000004|-122.40512700000001|     5th at Howard|\n",
            "|    465|2014-12-25 09:49:00|88283082abfffff|37.781752000000004|-122.40512700000001|     5th at Howard|\n",
            "|    583|2014-12-25 12:14:00|88283082abfffff|         37.786305|-122.40496599999999|     Market at 4th|\n",
            "|    479|2014-12-25 12:22:00|88283082abfffff|37.781752000000004|-122.40512700000001|     5th at Howard|\n",
            "|    331|2014-12-25 12:22:00|88283082abfffff|37.781752000000004|-122.40512700000001|     5th at Howard|\n",
            "|    330|2014-12-25 12:27:00|88283082abfffff|37.781752000000004|-122.40512700000001|     5th at Howard|\n",
            "|    438|2014-12-25 12:27:00|88283082abfffff|37.781752000000004|-122.40512700000001|     5th at Howard|\n",
            "|    428|2014-12-25 12:35:00|88283082abfffff|37.781752000000004|-122.40512700000001|     5th at Howard|\n",
            "|    214|2014-12-25 12:38:00|88283082abfffff|37.781752000000004|-122.40512700000001|     5th at Howard|\n",
            "|    292|2014-12-25 12:38:00|88283082abfffff|         37.786305|-122.40496599999999|     Market at 4th|\n",
            "|    363|2014-12-25 12:39:00|88283082abfffff|         37.786305|-122.40496599999999|     Market at 4th|\n",
            "|    501|2014-12-25 13:00:00|88283082abfffff|         37.786305|-122.40496599999999|     Market at 4th|\n",
            "|    620|2014-12-25 13:01:00|88283082abfffff|         37.786305|-122.40496599999999|     Market at 4th|\n",
            "|    335|2014-12-25 13:16:00|8828308281fffff|37.776619000000004|-122.41738500000001|    Market at 10th|\n",
            "|    589|2014-12-25 13:16:00|8828308281fffff|37.776619000000004|-122.41738500000001|    Market at 10th|\n",
            "|    372|2014-12-25 13:17:00|8828308281fffff|37.776619000000004|-122.41738500000001|    Market at 10th|\n",
            "|    354|2014-12-25 13:17:00|8828308281fffff|37.776619000000004|-122.41738500000001|    Market at 10th|\n",
            "|    354|2014-12-25 13:25:00|88283082abfffff|37.783871000000005|        -122.408433|Powell Street BART|\n",
            "|    424|2014-12-25 15:30:00|88283082abfffff|         37.786305|-122.40496599999999|     Market at 4th|\n",
            "+-------+-------------------+---------------+------------------+-------------------+------------------+\n",
            "only showing top 20 rows\n",
            "\n"
          ]
        }
      ]
    },
    {
      "cell_type": "code",
      "source": [
        "import pandas as pd\n",
        "import h3\n",
        "\n",
        "h3_places = christmas_583_contacts.select('lat','long', 'name', 'h3').toPandas()"
      ],
      "metadata": {
        "id": "PTGlyl45m5lu"
      },
      "execution_count": null,
      "outputs": []
    },
    {
      "cell_type": "code",
      "source": [
        "# source code from https://nbviewer.org/github/uber/h3-py-notebooks/blob/master/notebooks/usage.ipynb\n",
        "import folium\n",
        "\n",
        "def init_map(hexagons, width=1100, height=900):\n",
        "    lats = []\n",
        "    longs = []\n",
        "    for hexagon in hexagons:\n",
        "        lat, long = h3.h3_to_geo(hexagon)\n",
        "        lats.append(lat)\n",
        "        longs.append(long)\n",
        "    return folium.Map(location=[sum(lats)/len(lats), sum(longs)/len(longs)], zoom_start=15, tiles='cartodbpositron', width=width, height=height)\n",
        "\n",
        "def visualize_hexagons(folium_map, hexagons, color=\"red\"):\n",
        "    \"\"\"\n",
        "    hexagons is a list of hexcluster. Each hexcluster is a list of hexagons.\n",
        "    eg. [[hex1, hex2], [hex3, hex4]]\n",
        "    \"\"\"\n",
        "    polylines = []\n",
        "    lat = []\n",
        "    lng = []\n",
        "    for hex in hexagons:\n",
        "        polygons = h3.h3_set_to_multi_polygon([hex], geo_json=False)\n",
        "        # flatten polygons into loops.\n",
        "        outlines = [loop for polygon in polygons for loop in polygon]\n",
        "        polyline = [outline + [outline[0]] for outline in outlines][0]\n",
        "        lat.extend(map(lambda v:v[0], polyline))\n",
        "        lng.extend(map(lambda v:v[1], polyline))\n",
        "        polylines.append(polyline)\n",
        "\n",
        "    for polyline in polylines:\n",
        "        my_PolyLine = folium.PolyLine(locations=polyline, weight=8, color=color)\n",
        "        folium_map.add_child(my_PolyLine)\n",
        "\n",
        "    return folium_map\n",
        "\n",
        "def visualize_stations(folium_map, stations, color=\"red\"):\n",
        "    \"\"\"\n",
        "    stations is a dataframe with columns: lat, long, station_name\n",
        "    \"\"\"\n",
        "    for idx, lat, long, station_name in stations.itertuples():\n",
        "        folium_map.add_child(folium.map.Marker(location=(lat, long)))\n",
        "        folium_map.add_child(folium.map.Marker(location=(lat, long),\n",
        "                        icon=folium.features.DivIcon(\n",
        "                          icon_size=(500,36),\n",
        "                          icon_anchor=(-17,37),\n",
        "                          html=f'<div style=\"display: inline-block;font-size: 10pt; background: rgba(255, 255, 255, 0.8)\">{station_name}</div>',\n",
        "        )))\n",
        "    return folium_map"
      ],
      "metadata": {
        "id": "dOcGEd2Um9SM"
      },
      "execution_count": null,
      "outputs": []
    },
    {
      "cell_type": "code",
      "source": [
        "m = init_map(h3_places.h3.unique())\n",
        "visualize_hexagons(m, h3_places.h3.unique(), color=\"black\")\n",
        "visualize_stations(m, h3_places.loc[:, ['lat', 'long', 'name']])\n",
        "display(m)"
      ],
      "metadata": {
        "colab": {
          "base_uri": "https://localhost:8080/",
          "height": 865
        },
        "id": "vvbk9aEwnBFC",
        "outputId": "af2c7845-161a-45dd-e89e-468efca44a85"
      },
      "execution_count": null,
      "outputs": [
        {
          "output_type": "display_data",
          "data": {
            "text/plain": [
              "<folium.folium.Map at 0x78b7353807f0>"
            ],
            "text/html": [
              "<div style=\"width:100%;\"><div style=\"position:relative;width:100%;height:0;padding-bottom:60%;\"><span style=\"color:#565656\">Make this Notebook Trusted to load map: File -> Trust Notebook</span><iframe srcdoc=\"&lt;!DOCTYPE html&gt;\n",
              "&lt;html&gt;\n",
              "&lt;head&gt;\n",
              "    \n",
              "    &lt;meta http-equiv=&quot;content-type&quot; content=&quot;text/html; charset=UTF-8&quot; /&gt;\n",
              "    \n",
              "        &lt;script&gt;\n",
              "            L_NO_TOUCH = false;\n",
              "            L_DISABLE_3D = false;\n",
              "        &lt;/script&gt;\n",
              "    \n",
              "    &lt;style&gt;html, body {width: 100%;height: 100%;margin: 0;padding: 0;}&lt;/style&gt;\n",
              "    &lt;style&gt;#map {position:absolute;top:0;bottom:0;right:0;left:0;}&lt;/style&gt;\n",
              "    &lt;script src=&quot;https://cdn.jsdelivr.net/npm/leaflet@1.9.3/dist/leaflet.js&quot;&gt;&lt;/script&gt;\n",
              "    &lt;script src=&quot;https://code.jquery.com/jquery-1.12.4.min.js&quot;&gt;&lt;/script&gt;\n",
              "    &lt;script src=&quot;https://cdn.jsdelivr.net/npm/bootstrap@5.2.2/dist/js/bootstrap.bundle.min.js&quot;&gt;&lt;/script&gt;\n",
              "    &lt;script src=&quot;https://cdnjs.cloudflare.com/ajax/libs/Leaflet.awesome-markers/2.0.2/leaflet.awesome-markers.js&quot;&gt;&lt;/script&gt;\n",
              "    &lt;link rel=&quot;stylesheet&quot; href=&quot;https://cdn.jsdelivr.net/npm/leaflet@1.9.3/dist/leaflet.css&quot;/&gt;\n",
              "    &lt;link rel=&quot;stylesheet&quot; href=&quot;https://cdn.jsdelivr.net/npm/bootstrap@5.2.2/dist/css/bootstrap.min.css&quot;/&gt;\n",
              "    &lt;link rel=&quot;stylesheet&quot; href=&quot;https://netdna.bootstrapcdn.com/bootstrap/3.0.0/css/bootstrap.min.css&quot;/&gt;\n",
              "    &lt;link rel=&quot;stylesheet&quot; href=&quot;https://cdn.jsdelivr.net/npm/@fortawesome/fontawesome-free@6.2.0/css/all.min.css&quot;/&gt;\n",
              "    &lt;link rel=&quot;stylesheet&quot; href=&quot;https://cdnjs.cloudflare.com/ajax/libs/Leaflet.awesome-markers/2.0.2/leaflet.awesome-markers.css&quot;/&gt;\n",
              "    &lt;link rel=&quot;stylesheet&quot; href=&quot;https://cdn.jsdelivr.net/gh/python-visualization/folium/folium/templates/leaflet.awesome.rotate.min.css&quot;/&gt;\n",
              "    \n",
              "            &lt;meta name=&quot;viewport&quot; content=&quot;width=device-width,\n",
              "                initial-scale=1.0, maximum-scale=1.0, user-scalable=no&quot; /&gt;\n",
              "            &lt;style&gt;\n",
              "                #map_2e230c5fd733a1efed33d55874119f39 {\n",
              "                    position: relative;\n",
              "                    width: 1100.0px;\n",
              "                    height: 900.0px;\n",
              "                    left: 0.0%;\n",
              "                    top: 0.0%;\n",
              "                }\n",
              "                .leaflet-container { font-size: 1rem; }\n",
              "            &lt;/style&gt;\n",
              "        \n",
              "&lt;/head&gt;\n",
              "&lt;body&gt;\n",
              "    \n",
              "    \n",
              "            &lt;div class=&quot;folium-map&quot; id=&quot;map_2e230c5fd733a1efed33d55874119f39&quot; &gt;&lt;/div&gt;\n",
              "        \n",
              "&lt;/body&gt;\n",
              "&lt;script&gt;\n",
              "    \n",
              "    \n",
              "            var map_2e230c5fd733a1efed33d55874119f39 = L.map(\n",
              "                &quot;map_2e230c5fd733a1efed33d55874119f39&quot;,\n",
              "                {\n",
              "                    center: [37.77882996018252, -122.41155985360115],\n",
              "                    crs: L.CRS.EPSG3857,\n",
              "                    zoom: 15,\n",
              "                    zoomControl: true,\n",
              "                    preferCanvas: false,\n",
              "                }\n",
              "            );\n",
              "\n",
              "            \n",
              "\n",
              "        \n",
              "    \n",
              "            var tile_layer_bec436417e3f401478ef754a14e29e74 = L.tileLayer(\n",
              "                &quot;https://cartodb-basemaps-{s}.global.ssl.fastly.net/light_all/{z}/{x}/{y}.png&quot;,\n",
              "                {&quot;attribution&quot;: &quot;\\u0026copy; \\u003ca target=\\&quot;_blank\\&quot; href=\\&quot;http://www.openstreetmap.org/copyright\\&quot;\\u003eOpenStreetMap\\u003c/a\\u003e contributors \\u0026copy; \\u003ca target=\\&quot;_blank\\&quot; href=\\&quot;http://cartodb.com/attributions\\&quot;\\u003eCartoDB\\u003c/a\\u003e, CartoDB \\u003ca target=\\&quot;_blank\\&quot; href =\\&quot;http://cartodb.com/attributions\\&quot;\\u003eattributions\\u003c/a\\u003e&quot;, &quot;detectRetina&quot;: false, &quot;maxNativeZoom&quot;: 18, &quot;maxZoom&quot;: 18, &quot;minZoom&quot;: 0, &quot;noWrap&quot;: false, &quot;opacity&quot;: 1, &quot;subdomains&quot;: &quot;abc&quot;, &quot;tms&quot;: false}\n",
              "            ).addTo(map_2e230c5fd733a1efed33d55874119f39);\n",
              "        \n",
              "    \n",
              "            var poly_line_b68c35bcc1ba2ed57a2c4bceb6656dde = L.polyline(\n",
              "                [[37.772366518697744, -122.41234965984782], [37.77705850389021, -122.41379734925398], [37.77820687262237, -122.41971895414808], [37.774663325175815, -122.42419231791122], [37.7699715260203, -122.42274429006201], [37.76882308826446, -122.41682323684428], [37.772366518697744, -122.41234965984782]],\n",
              "                {&quot;bubblingMouseEvents&quot;: true, &quot;color&quot;: &quot;black&quot;, &quot;dashArray&quot;: null, &quot;dashOffset&quot;: null, &quot;fill&quot;: false, &quot;fillColor&quot;: &quot;black&quot;, &quot;fillOpacity&quot;: 0.2, &quot;fillRule&quot;: &quot;evenodd&quot;, &quot;lineCap&quot;: &quot;round&quot;, &quot;lineJoin&quot;: &quot;round&quot;, &quot;noClip&quot;: false, &quot;opacity&quot;: 1.0, &quot;smoothFactor&quot;: 1.0, &quot;stroke&quot;: true, &quot;weight&quot;: 8}\n",
              "            ).addTo(map_2e230c5fd733a1efed33d55874119f39);\n",
              "        \n",
              "    \n",
              "            var poly_line_401429758917dae2810df8f2fff577af = L.polyline(\n",
              "                [[37.78883652694052, -122.40629625534778], [37.78529347359727, -122.41077092287512], [37.78060174588399, -122.40932322704121], [37.77945288562527, -122.40340120235786], [37.782995821934385, -122.39892632184691], [37.78768773552642, -122.4003736789545], [37.78883652694052, -122.40629625534778]],\n",
              "                {&quot;bubblingMouseEvents&quot;: true, &quot;color&quot;: &quot;black&quot;, &quot;dashArray&quot;: null, &quot;dashOffset&quot;: null, &quot;fill&quot;: false, &quot;fillColor&quot;: &quot;black&quot;, &quot;fillOpacity&quot;: 0.2, &quot;fillRule&quot;: &quot;evenodd&quot;, &quot;lineCap&quot;: &quot;round&quot;, &quot;lineJoin&quot;: &quot;round&quot;, &quot;noClip&quot;: false, &quot;opacity&quot;: 1.0, &quot;smoothFactor&quot;: 1.0, &quot;stroke&quot;: true, &quot;weight&quot;: 8}\n",
              "            ).addTo(map_2e230c5fd733a1efed33d55874119f39);\n",
              "        \n",
              "    \n",
              "            var marker_0a979173124dce7c8e993c50df4387e8 = L.marker(\n",
              "                [37.776619000000004, -122.41738500000001],\n",
              "                {}\n",
              "            ).addTo(map_2e230c5fd733a1efed33d55874119f39);\n",
              "        \n",
              "    \n",
              "            var marker_b2b8a4349bc1bf8a2f4209262b73c8f0 = L.marker(\n",
              "                [37.776619000000004, -122.41738500000001],\n",
              "                {}\n",
              "            ).addTo(map_2e230c5fd733a1efed33d55874119f39);\n",
              "        \n",
              "    \n",
              "            var div_icon_5a3b06674be4cb08ef1c33509caf8ba7 = L.divIcon({&quot;className&quot;: &quot;empty&quot;, &quot;html&quot;: &quot;\\u003cdiv style=\\&quot;display: inline-block;font-size: 10pt; background: rgba(255, 255, 255, 0.8)\\&quot;\\u003eMarket at 10th\\u003c/div\\u003e&quot;, &quot;iconAnchor&quot;: [-17, 37], &quot;iconSize&quot;: [500, 36]});\n",
              "            marker_b2b8a4349bc1bf8a2f4209262b73c8f0.setIcon(div_icon_5a3b06674be4cb08ef1c33509caf8ba7);\n",
              "        \n",
              "    \n",
              "            var marker_dd824de2b697918f5823b8fabc5b81bd = L.marker(\n",
              "                [37.781752000000004, -122.40512700000001],\n",
              "                {}\n",
              "            ).addTo(map_2e230c5fd733a1efed33d55874119f39);\n",
              "        \n",
              "    \n",
              "            var marker_92f9abc365d0f4dba98ccc30e4c247e6 = L.marker(\n",
              "                [37.781752000000004, -122.40512700000001],\n",
              "                {}\n",
              "            ).addTo(map_2e230c5fd733a1efed33d55874119f39);\n",
              "        \n",
              "    \n",
              "            var div_icon_8fc7aa2ad6b4c65470f0ce5d476f2f18 = L.divIcon({&quot;className&quot;: &quot;empty&quot;, &quot;html&quot;: &quot;\\u003cdiv style=\\&quot;display: inline-block;font-size: 10pt; background: rgba(255, 255, 255, 0.8)\\&quot;\\u003e5th at Howard\\u003c/div\\u003e&quot;, &quot;iconAnchor&quot;: [-17, 37], &quot;iconSize&quot;: [500, 36]});\n",
              "            marker_92f9abc365d0f4dba98ccc30e4c247e6.setIcon(div_icon_8fc7aa2ad6b4c65470f0ce5d476f2f18);\n",
              "        \n",
              "    \n",
              "            var marker_112775fb8fb731fc17e5362dd50c8082 = L.marker(\n",
              "                [37.781752000000004, -122.40512700000001],\n",
              "                {}\n",
              "            ).addTo(map_2e230c5fd733a1efed33d55874119f39);\n",
              "        \n",
              "    \n",
              "            var marker_09557b168a964a2e6321618bfe4be691 = L.marker(\n",
              "                [37.781752000000004, -122.40512700000001],\n",
              "                {}\n",
              "            ).addTo(map_2e230c5fd733a1efed33d55874119f39);\n",
              "        \n",
              "    \n",
              "            var div_icon_ffc416bf1e9a0a8c5c596da1fcc319c5 = L.divIcon({&quot;className&quot;: &quot;empty&quot;, &quot;html&quot;: &quot;\\u003cdiv style=\\&quot;display: inline-block;font-size: 10pt; background: rgba(255, 255, 255, 0.8)\\&quot;\\u003e5th at Howard\\u003c/div\\u003e&quot;, &quot;iconAnchor&quot;: [-17, 37], &quot;iconSize&quot;: [500, 36]});\n",
              "            marker_09557b168a964a2e6321618bfe4be691.setIcon(div_icon_ffc416bf1e9a0a8c5c596da1fcc319c5);\n",
              "        \n",
              "    \n",
              "            var marker_14d61d6d573ea93a1b91599e74dcdf6b = L.marker(\n",
              "                [37.786305, -122.40496599999999],\n",
              "                {}\n",
              "            ).addTo(map_2e230c5fd733a1efed33d55874119f39);\n",
              "        \n",
              "    \n",
              "            var marker_2e2ed4840e8c8ebdec395214308b9d26 = L.marker(\n",
              "                [37.786305, -122.40496599999999],\n",
              "                {}\n",
              "            ).addTo(map_2e230c5fd733a1efed33d55874119f39);\n",
              "        \n",
              "    \n",
              "            var div_icon_103eb1efd3dcb651b46bc911f6b105cd = L.divIcon({&quot;className&quot;: &quot;empty&quot;, &quot;html&quot;: &quot;\\u003cdiv style=\\&quot;display: inline-block;font-size: 10pt; background: rgba(255, 255, 255, 0.8)\\&quot;\\u003eMarket at 4th\\u003c/div\\u003e&quot;, &quot;iconAnchor&quot;: [-17, 37], &quot;iconSize&quot;: [500, 36]});\n",
              "            marker_2e2ed4840e8c8ebdec395214308b9d26.setIcon(div_icon_103eb1efd3dcb651b46bc911f6b105cd);\n",
              "        \n",
              "    \n",
              "            var marker_2ea461da7c4ac8d8a2cb2363f31aa4ff = L.marker(\n",
              "                [37.781752000000004, -122.40512700000001],\n",
              "                {}\n",
              "            ).addTo(map_2e230c5fd733a1efed33d55874119f39);\n",
              "        \n",
              "    \n",
              "            var marker_83ea8e52d1013078b0e9fa0304addd0c = L.marker(\n",
              "                [37.781752000000004, -122.40512700000001],\n",
              "                {}\n",
              "            ).addTo(map_2e230c5fd733a1efed33d55874119f39);\n",
              "        \n",
              "    \n",
              "            var div_icon_cb911e665920290eb574fbe25328dad5 = L.divIcon({&quot;className&quot;: &quot;empty&quot;, &quot;html&quot;: &quot;\\u003cdiv style=\\&quot;display: inline-block;font-size: 10pt; background: rgba(255, 255, 255, 0.8)\\&quot;\\u003e5th at Howard\\u003c/div\\u003e&quot;, &quot;iconAnchor&quot;: [-17, 37], &quot;iconSize&quot;: [500, 36]});\n",
              "            marker_83ea8e52d1013078b0e9fa0304addd0c.setIcon(div_icon_cb911e665920290eb574fbe25328dad5);\n",
              "        \n",
              "    \n",
              "            var marker_1b4488163d018b2cac85f4a3fe0ffa66 = L.marker(\n",
              "                [37.781752000000004, -122.40512700000001],\n",
              "                {}\n",
              "            ).addTo(map_2e230c5fd733a1efed33d55874119f39);\n",
              "        \n",
              "    \n",
              "            var marker_d0c0981bc0be539b1009137fa107f215 = L.marker(\n",
              "                [37.781752000000004, -122.40512700000001],\n",
              "                {}\n",
              "            ).addTo(map_2e230c5fd733a1efed33d55874119f39);\n",
              "        \n",
              "    \n",
              "            var div_icon_94e6e4f50d9772d9394696b89bf06608 = L.divIcon({&quot;className&quot;: &quot;empty&quot;, &quot;html&quot;: &quot;\\u003cdiv style=\\&quot;display: inline-block;font-size: 10pt; background: rgba(255, 255, 255, 0.8)\\&quot;\\u003e5th at Howard\\u003c/div\\u003e&quot;, &quot;iconAnchor&quot;: [-17, 37], &quot;iconSize&quot;: [500, 36]});\n",
              "            marker_d0c0981bc0be539b1009137fa107f215.setIcon(div_icon_94e6e4f50d9772d9394696b89bf06608);\n",
              "        \n",
              "    \n",
              "            var marker_a6f8bc5dc3baa4bcd7b40161386755e9 = L.marker(\n",
              "                [37.781752000000004, -122.40512700000001],\n",
              "                {}\n",
              "            ).addTo(map_2e230c5fd733a1efed33d55874119f39);\n",
              "        \n",
              "    \n",
              "            var marker_12c8c6128cf526d21ff118720a867a30 = L.marker(\n",
              "                [37.781752000000004, -122.40512700000001],\n",
              "                {}\n",
              "            ).addTo(map_2e230c5fd733a1efed33d55874119f39);\n",
              "        \n",
              "    \n",
              "            var div_icon_79b3c5e88573557562e76b2905e3218e = L.divIcon({&quot;className&quot;: &quot;empty&quot;, &quot;html&quot;: &quot;\\u003cdiv style=\\&quot;display: inline-block;font-size: 10pt; background: rgba(255, 255, 255, 0.8)\\&quot;\\u003e5th at Howard\\u003c/div\\u003e&quot;, &quot;iconAnchor&quot;: [-17, 37], &quot;iconSize&quot;: [500, 36]});\n",
              "            marker_12c8c6128cf526d21ff118720a867a30.setIcon(div_icon_79b3c5e88573557562e76b2905e3218e);\n",
              "        \n",
              "    \n",
              "            var marker_e768e02ab9e4a0a7c8d9413b33560367 = L.marker(\n",
              "                [37.781752000000004, -122.40512700000001],\n",
              "                {}\n",
              "            ).addTo(map_2e230c5fd733a1efed33d55874119f39);\n",
              "        \n",
              "    \n",
              "            var marker_27a377003c0e801c3b58ae3580145d75 = L.marker(\n",
              "                [37.781752000000004, -122.40512700000001],\n",
              "                {}\n",
              "            ).addTo(map_2e230c5fd733a1efed33d55874119f39);\n",
              "        \n",
              "    \n",
              "            var div_icon_875b018432e5bde93557f81064b5d455 = L.divIcon({&quot;className&quot;: &quot;empty&quot;, &quot;html&quot;: &quot;\\u003cdiv style=\\&quot;display: inline-block;font-size: 10pt; background: rgba(255, 255, 255, 0.8)\\&quot;\\u003e5th at Howard\\u003c/div\\u003e&quot;, &quot;iconAnchor&quot;: [-17, 37], &quot;iconSize&quot;: [500, 36]});\n",
              "            marker_27a377003c0e801c3b58ae3580145d75.setIcon(div_icon_875b018432e5bde93557f81064b5d455);\n",
              "        \n",
              "    \n",
              "            var marker_3005fe1cad14055d61b90b21193e15b5 = L.marker(\n",
              "                [37.781752000000004, -122.40512700000001],\n",
              "                {}\n",
              "            ).addTo(map_2e230c5fd733a1efed33d55874119f39);\n",
              "        \n",
              "    \n",
              "            var marker_88fd6b6cd5fa4f36d4d3de311f10e7f6 = L.marker(\n",
              "                [37.781752000000004, -122.40512700000001],\n",
              "                {}\n",
              "            ).addTo(map_2e230c5fd733a1efed33d55874119f39);\n",
              "        \n",
              "    \n",
              "            var div_icon_c2ef0ddaec26a27786ce5fed6cea7069 = L.divIcon({&quot;className&quot;: &quot;empty&quot;, &quot;html&quot;: &quot;\\u003cdiv style=\\&quot;display: inline-block;font-size: 10pt; background: rgba(255, 255, 255, 0.8)\\&quot;\\u003e5th at Howard\\u003c/div\\u003e&quot;, &quot;iconAnchor&quot;: [-17, 37], &quot;iconSize&quot;: [500, 36]});\n",
              "            marker_88fd6b6cd5fa4f36d4d3de311f10e7f6.setIcon(div_icon_c2ef0ddaec26a27786ce5fed6cea7069);\n",
              "        \n",
              "    \n",
              "            var marker_1cf7535899a4d60393f5ba2cf2036e3a = L.marker(\n",
              "                [37.781752000000004, -122.40512700000001],\n",
              "                {}\n",
              "            ).addTo(map_2e230c5fd733a1efed33d55874119f39);\n",
              "        \n",
              "    \n",
              "            var marker_fc2921e7f5a6ec3e28aa0f84b60b0822 = L.marker(\n",
              "                [37.781752000000004, -122.40512700000001],\n",
              "                {}\n",
              "            ).addTo(map_2e230c5fd733a1efed33d55874119f39);\n",
              "        \n",
              "    \n",
              "            var div_icon_fc75461bde85426e16c0aeb34d8cffda = L.divIcon({&quot;className&quot;: &quot;empty&quot;, &quot;html&quot;: &quot;\\u003cdiv style=\\&quot;display: inline-block;font-size: 10pt; background: rgba(255, 255, 255, 0.8)\\&quot;\\u003e5th at Howard\\u003c/div\\u003e&quot;, &quot;iconAnchor&quot;: [-17, 37], &quot;iconSize&quot;: [500, 36]});\n",
              "            marker_fc2921e7f5a6ec3e28aa0f84b60b0822.setIcon(div_icon_fc75461bde85426e16c0aeb34d8cffda);\n",
              "        \n",
              "    \n",
              "            var marker_d4b5cbc47be6ff5f91b56c7429dfdfef = L.marker(\n",
              "                [37.786305, -122.40496599999999],\n",
              "                {}\n",
              "            ).addTo(map_2e230c5fd733a1efed33d55874119f39);\n",
              "        \n",
              "    \n",
              "            var marker_9ce74d4bfbcf0623333ad1d41c83be83 = L.marker(\n",
              "                [37.786305, -122.40496599999999],\n",
              "                {}\n",
              "            ).addTo(map_2e230c5fd733a1efed33d55874119f39);\n",
              "        \n",
              "    \n",
              "            var div_icon_222a0101361b624605df89d9f8b0d847 = L.divIcon({&quot;className&quot;: &quot;empty&quot;, &quot;html&quot;: &quot;\\u003cdiv style=\\&quot;display: inline-block;font-size: 10pt; background: rgba(255, 255, 255, 0.8)\\&quot;\\u003eMarket at 4th\\u003c/div\\u003e&quot;, &quot;iconAnchor&quot;: [-17, 37], &quot;iconSize&quot;: [500, 36]});\n",
              "            marker_9ce74d4bfbcf0623333ad1d41c83be83.setIcon(div_icon_222a0101361b624605df89d9f8b0d847);\n",
              "        \n",
              "    \n",
              "            var marker_173d7e0955123fe3f56c4d4c743b79b6 = L.marker(\n",
              "                [37.786305, -122.40496599999999],\n",
              "                {}\n",
              "            ).addTo(map_2e230c5fd733a1efed33d55874119f39);\n",
              "        \n",
              "    \n",
              "            var marker_ab1c30e72ca6ddcdda0a6ed58b1a1b39 = L.marker(\n",
              "                [37.786305, -122.40496599999999],\n",
              "                {}\n",
              "            ).addTo(map_2e230c5fd733a1efed33d55874119f39);\n",
              "        \n",
              "    \n",
              "            var div_icon_1a310a200581ea5c1ee05f57cc087032 = L.divIcon({&quot;className&quot;: &quot;empty&quot;, &quot;html&quot;: &quot;\\u003cdiv style=\\&quot;display: inline-block;font-size: 10pt; background: rgba(255, 255, 255, 0.8)\\&quot;\\u003eMarket at 4th\\u003c/div\\u003e&quot;, &quot;iconAnchor&quot;: [-17, 37], &quot;iconSize&quot;: [500, 36]});\n",
              "            marker_ab1c30e72ca6ddcdda0a6ed58b1a1b39.setIcon(div_icon_1a310a200581ea5c1ee05f57cc087032);\n",
              "        \n",
              "    \n",
              "            var marker_f9b01f2cd0b6bce699a620bd3537d46b = L.marker(\n",
              "                [37.786305, -122.40496599999999],\n",
              "                {}\n",
              "            ).addTo(map_2e230c5fd733a1efed33d55874119f39);\n",
              "        \n",
              "    \n",
              "            var marker_c0e822260540872f863e44b5a2432df0 = L.marker(\n",
              "                [37.786305, -122.40496599999999],\n",
              "                {}\n",
              "            ).addTo(map_2e230c5fd733a1efed33d55874119f39);\n",
              "        \n",
              "    \n",
              "            var div_icon_15c310e8988ba1732b1b7e4f155c3b50 = L.divIcon({&quot;className&quot;: &quot;empty&quot;, &quot;html&quot;: &quot;\\u003cdiv style=\\&quot;display: inline-block;font-size: 10pt; background: rgba(255, 255, 255, 0.8)\\&quot;\\u003eMarket at 4th\\u003c/div\\u003e&quot;, &quot;iconAnchor&quot;: [-17, 37], &quot;iconSize&quot;: [500, 36]});\n",
              "            marker_c0e822260540872f863e44b5a2432df0.setIcon(div_icon_15c310e8988ba1732b1b7e4f155c3b50);\n",
              "        \n",
              "    \n",
              "            var marker_ac4d27dc56d07a5eda70c2636f994ed9 = L.marker(\n",
              "                [37.786305, -122.40496599999999],\n",
              "                {}\n",
              "            ).addTo(map_2e230c5fd733a1efed33d55874119f39);\n",
              "        \n",
              "    \n",
              "            var marker_a3bbfef27c38d2e05a0f314751ca7108 = L.marker(\n",
              "                [37.786305, -122.40496599999999],\n",
              "                {}\n",
              "            ).addTo(map_2e230c5fd733a1efed33d55874119f39);\n",
              "        \n",
              "    \n",
              "            var div_icon_a0b1d1559f809279155359ae89e090ae = L.divIcon({&quot;className&quot;: &quot;empty&quot;, &quot;html&quot;: &quot;\\u003cdiv style=\\&quot;display: inline-block;font-size: 10pt; background: rgba(255, 255, 255, 0.8)\\&quot;\\u003eMarket at 4th\\u003c/div\\u003e&quot;, &quot;iconAnchor&quot;: [-17, 37], &quot;iconSize&quot;: [500, 36]});\n",
              "            marker_a3bbfef27c38d2e05a0f314751ca7108.setIcon(div_icon_a0b1d1559f809279155359ae89e090ae);\n",
              "        \n",
              "    \n",
              "            var marker_3f97f187356d19ff8ecaab4db4f9e95b = L.marker(\n",
              "                [37.776619000000004, -122.41738500000001],\n",
              "                {}\n",
              "            ).addTo(map_2e230c5fd733a1efed33d55874119f39);\n",
              "        \n",
              "    \n",
              "            var marker_1752bea68f0f6033d331d343eb687965 = L.marker(\n",
              "                [37.776619000000004, -122.41738500000001],\n",
              "                {}\n",
              "            ).addTo(map_2e230c5fd733a1efed33d55874119f39);\n",
              "        \n",
              "    \n",
              "            var div_icon_8e1810599dcbf32bbcac7ed01ddb4cb0 = L.divIcon({&quot;className&quot;: &quot;empty&quot;, &quot;html&quot;: &quot;\\u003cdiv style=\\&quot;display: inline-block;font-size: 10pt; background: rgba(255, 255, 255, 0.8)\\&quot;\\u003eMarket at 10th\\u003c/div\\u003e&quot;, &quot;iconAnchor&quot;: [-17, 37], &quot;iconSize&quot;: [500, 36]});\n",
              "            marker_1752bea68f0f6033d331d343eb687965.setIcon(div_icon_8e1810599dcbf32bbcac7ed01ddb4cb0);\n",
              "        \n",
              "    \n",
              "            var marker_76163cb453e1e9777592d2c1fb20b686 = L.marker(\n",
              "                [37.776619000000004, -122.41738500000001],\n",
              "                {}\n",
              "            ).addTo(map_2e230c5fd733a1efed33d55874119f39);\n",
              "        \n",
              "    \n",
              "            var marker_dc74206005a707c036760fb75ad6b2d1 = L.marker(\n",
              "                [37.776619000000004, -122.41738500000001],\n",
              "                {}\n",
              "            ).addTo(map_2e230c5fd733a1efed33d55874119f39);\n",
              "        \n",
              "    \n",
              "            var div_icon_f25ac5431059a83b7840dd96b49539c7 = L.divIcon({&quot;className&quot;: &quot;empty&quot;, &quot;html&quot;: &quot;\\u003cdiv style=\\&quot;display: inline-block;font-size: 10pt; background: rgba(255, 255, 255, 0.8)\\&quot;\\u003eMarket at 10th\\u003c/div\\u003e&quot;, &quot;iconAnchor&quot;: [-17, 37], &quot;iconSize&quot;: [500, 36]});\n",
              "            marker_dc74206005a707c036760fb75ad6b2d1.setIcon(div_icon_f25ac5431059a83b7840dd96b49539c7);\n",
              "        \n",
              "    \n",
              "            var marker_1d0abf6f8428cb84de09141c238289b4 = L.marker(\n",
              "                [37.776619000000004, -122.41738500000001],\n",
              "                {}\n",
              "            ).addTo(map_2e230c5fd733a1efed33d55874119f39);\n",
              "        \n",
              "    \n",
              "            var marker_bdf51fb812e05fab53ddd63090f1ca5b = L.marker(\n",
              "                [37.776619000000004, -122.41738500000001],\n",
              "                {}\n",
              "            ).addTo(map_2e230c5fd733a1efed33d55874119f39);\n",
              "        \n",
              "    \n",
              "            var div_icon_35b6274f98f3f17b635f2cce69fd3fd0 = L.divIcon({&quot;className&quot;: &quot;empty&quot;, &quot;html&quot;: &quot;\\u003cdiv style=\\&quot;display: inline-block;font-size: 10pt; background: rgba(255, 255, 255, 0.8)\\&quot;\\u003eMarket at 10th\\u003c/div\\u003e&quot;, &quot;iconAnchor&quot;: [-17, 37], &quot;iconSize&quot;: [500, 36]});\n",
              "            marker_bdf51fb812e05fab53ddd63090f1ca5b.setIcon(div_icon_35b6274f98f3f17b635f2cce69fd3fd0);\n",
              "        \n",
              "    \n",
              "            var marker_434e2ccdbdc1200a4b8664f04046d7ab = L.marker(\n",
              "                [37.776619000000004, -122.41738500000001],\n",
              "                {}\n",
              "            ).addTo(map_2e230c5fd733a1efed33d55874119f39);\n",
              "        \n",
              "    \n",
              "            var marker_353c04f8b7f2c7c71e401352c21c34f1 = L.marker(\n",
              "                [37.776619000000004, -122.41738500000001],\n",
              "                {}\n",
              "            ).addTo(map_2e230c5fd733a1efed33d55874119f39);\n",
              "        \n",
              "    \n",
              "            var div_icon_2c828a803a0b1cecd86cd7b634d044bf = L.divIcon({&quot;className&quot;: &quot;empty&quot;, &quot;html&quot;: &quot;\\u003cdiv style=\\&quot;display: inline-block;font-size: 10pt; background: rgba(255, 255, 255, 0.8)\\&quot;\\u003eMarket at 10th\\u003c/div\\u003e&quot;, &quot;iconAnchor&quot;: [-17, 37], &quot;iconSize&quot;: [500, 36]});\n",
              "            marker_353c04f8b7f2c7c71e401352c21c34f1.setIcon(div_icon_2c828a803a0b1cecd86cd7b634d044bf);\n",
              "        \n",
              "    \n",
              "            var marker_1191e7aaf3246768911f6486e7cf69cd = L.marker(\n",
              "                [37.783871000000005, -122.408433],\n",
              "                {}\n",
              "            ).addTo(map_2e230c5fd733a1efed33d55874119f39);\n",
              "        \n",
              "    \n",
              "            var marker_5d0d47ce87523c591a0496d75eaa996f = L.marker(\n",
              "                [37.783871000000005, -122.408433],\n",
              "                {}\n",
              "            ).addTo(map_2e230c5fd733a1efed33d55874119f39);\n",
              "        \n",
              "    \n",
              "            var div_icon_4ad20668c08bd655cf9d2db0d696e4aa = L.divIcon({&quot;className&quot;: &quot;empty&quot;, &quot;html&quot;: &quot;\\u003cdiv style=\\&quot;display: inline-block;font-size: 10pt; background: rgba(255, 255, 255, 0.8)\\&quot;\\u003ePowell Street BART\\u003c/div\\u003e&quot;, &quot;iconAnchor&quot;: [-17, 37], &quot;iconSize&quot;: [500, 36]});\n",
              "            marker_5d0d47ce87523c591a0496d75eaa996f.setIcon(div_icon_4ad20668c08bd655cf9d2db0d696e4aa);\n",
              "        \n",
              "    \n",
              "            var marker_642f560443bf6915eb8ce71f1b4ff977 = L.marker(\n",
              "                [37.786305, -122.40496599999999],\n",
              "                {}\n",
              "            ).addTo(map_2e230c5fd733a1efed33d55874119f39);\n",
              "        \n",
              "    \n",
              "            var marker_6828833bc8b6c03bc5728bbe9b90a13f = L.marker(\n",
              "                [37.786305, -122.40496599999999],\n",
              "                {}\n",
              "            ).addTo(map_2e230c5fd733a1efed33d55874119f39);\n",
              "        \n",
              "    \n",
              "            var div_icon_8d80ac950a604da858da8536f61a858e = L.divIcon({&quot;className&quot;: &quot;empty&quot;, &quot;html&quot;: &quot;\\u003cdiv style=\\&quot;display: inline-block;font-size: 10pt; background: rgba(255, 255, 255, 0.8)\\&quot;\\u003eMarket at 4th\\u003c/div\\u003e&quot;, &quot;iconAnchor&quot;: [-17, 37], &quot;iconSize&quot;: [500, 36]});\n",
              "            marker_6828833bc8b6c03bc5728bbe9b90a13f.setIcon(div_icon_8d80ac950a604da858da8536f61a858e);\n",
              "        \n",
              "    \n",
              "            var marker_3f5ad1522aa19f428c12363fc999061e = L.marker(\n",
              "                [37.774814, -122.418954],\n",
              "                {}\n",
              "            ).addTo(map_2e230c5fd733a1efed33d55874119f39);\n",
              "        \n",
              "    \n",
              "            var marker_dfb2d664490ffb13af900f51d9dcbf0e = L.marker(\n",
              "                [37.774814, -122.418954],\n",
              "                {}\n",
              "            ).addTo(map_2e230c5fd733a1efed33d55874119f39);\n",
              "        \n",
              "    \n",
              "            var div_icon_504d966d760a71fded05094a57d9a0ba = L.divIcon({&quot;className&quot;: &quot;empty&quot;, &quot;html&quot;: &quot;\\u003cdiv style=\\&quot;display: inline-block;font-size: 10pt; background: rgba(255, 255, 255, 0.8)\\&quot;\\u003eSouth Van Ness at Market\\u003c/div\\u003e&quot;, &quot;iconAnchor&quot;: [-17, 37], &quot;iconSize&quot;: [500, 36]});\n",
              "            marker_dfb2d664490ffb13af900f51d9dcbf0e.setIcon(div_icon_504d966d760a71fded05094a57d9a0ba);\n",
              "        \n",
              "    \n",
              "            var marker_b790f5dfc42032da84a3fe59fd91873a = L.marker(\n",
              "                [37.776619000000004, -122.41738500000001],\n",
              "                {}\n",
              "            ).addTo(map_2e230c5fd733a1efed33d55874119f39);\n",
              "        \n",
              "    \n",
              "            var marker_8dcc7961a6fb1a84dc85c4d7aaa43bf0 = L.marker(\n",
              "                [37.776619000000004, -122.41738500000001],\n",
              "                {}\n",
              "            ).addTo(map_2e230c5fd733a1efed33d55874119f39);\n",
              "        \n",
              "    \n",
              "            var div_icon_4f871cb57a763b7a4b8decf917a5e594 = L.divIcon({&quot;className&quot;: &quot;empty&quot;, &quot;html&quot;: &quot;\\u003cdiv style=\\&quot;display: inline-block;font-size: 10pt; background: rgba(255, 255, 255, 0.8)\\&quot;\\u003eMarket at 10th\\u003c/div\\u003e&quot;, &quot;iconAnchor&quot;: [-17, 37], &quot;iconSize&quot;: [500, 36]});\n",
              "            marker_8dcc7961a6fb1a84dc85c4d7aaa43bf0.setIcon(div_icon_4f871cb57a763b7a4b8decf917a5e594);\n",
              "        \n",
              "    \n",
              "            var marker_f531cf542ad4d098305e81b0efde2095 = L.marker(\n",
              "                [37.776619000000004, -122.41738500000001],\n",
              "                {}\n",
              "            ).addTo(map_2e230c5fd733a1efed33d55874119f39);\n",
              "        \n",
              "    \n",
              "            var marker_761e07be1cdecf65fa7d55b32de0d1f5 = L.marker(\n",
              "                [37.776619000000004, -122.41738500000001],\n",
              "                {}\n",
              "            ).addTo(map_2e230c5fd733a1efed33d55874119f39);\n",
              "        \n",
              "    \n",
              "            var div_icon_19d5c8476db8ffc59442e4c55411db0d = L.divIcon({&quot;className&quot;: &quot;empty&quot;, &quot;html&quot;: &quot;\\u003cdiv style=\\&quot;display: inline-block;font-size: 10pt; background: rgba(255, 255, 255, 0.8)\\&quot;\\u003eMarket at 10th\\u003c/div\\u003e&quot;, &quot;iconAnchor&quot;: [-17, 37], &quot;iconSize&quot;: [500, 36]});\n",
              "            marker_761e07be1cdecf65fa7d55b32de0d1f5.setIcon(div_icon_19d5c8476db8ffc59442e4c55411db0d);\n",
              "        \n",
              "    \n",
              "            var marker_5bc3629a41cb12fedcaa9759dbb3b86d = L.marker(\n",
              "                [37.784878000000006, -122.40101399999999],\n",
              "                {}\n",
              "            ).addTo(map_2e230c5fd733a1efed33d55874119f39);\n",
              "        \n",
              "    \n",
              "            var marker_ddcda48f1069166fe785d3b0d5f21687 = L.marker(\n",
              "                [37.784878000000006, -122.40101399999999],\n",
              "                {}\n",
              "            ).addTo(map_2e230c5fd733a1efed33d55874119f39);\n",
              "        \n",
              "    \n",
              "            var div_icon_223a3789db2de1c3ab72da575b84cb78 = L.divIcon({&quot;className&quot;: &quot;empty&quot;, &quot;html&quot;: &quot;\\u003cdiv style=\\&quot;display: inline-block;font-size: 10pt; background: rgba(255, 255, 255, 0.8)\\&quot;\\u003eYerba Buena Center of the Arts (3rd @ Howard)\\u003c/div\\u003e&quot;, &quot;iconAnchor&quot;: [-17, 37], &quot;iconSize&quot;: [500, 36]});\n",
              "            marker_ddcda48f1069166fe785d3b0d5f21687.setIcon(div_icon_223a3789db2de1c3ab72da575b84cb78);\n",
              "        \n",
              "&lt;/script&gt;\n",
              "&lt;/html&gt;\" style=\"position:absolute;width:100%;height:100%;left:0;top:0;border:none !important;\" allowfullscreen webkitallowfullscreen mozallowfullscreen></iframe></div></div>"
            ]
          },
          "metadata": {}
        }
      ]
    }
  ]
}