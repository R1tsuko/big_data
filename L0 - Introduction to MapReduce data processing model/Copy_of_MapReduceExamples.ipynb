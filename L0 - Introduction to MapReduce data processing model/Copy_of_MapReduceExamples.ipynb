{
  "nbformat": 4,
  "nbformat_minor": 0,
  "metadata": {
    "colab": {
      "provenance": [],
      "collapsed_sections": [
        "82OvPKEiEqjc",
        "Vq3EWRIpwSiJ",
        "BNhh5763w5Vn",
        "kNKYIeerx0nY",
        "ruZREYdi2o4O",
        "R7az-6DA6qr2",
        "gCJGx8IQ87xS",
        "cfvAeZm3S8S8",
        "k86bXnqZTk-U",
        "xanzszhsIlLe",
        "5SgEjCZyGnu6",
        "w27Ca-_Ku85V",
        "7gau6lKXvn2R",
        "dQ8TuEbjv4J8",
        "AVOpqoY3wE5k",
        "j8I58V2VwhSm",
        "kYdlr0YUxE27",
        "IIrRgvG4RIS4"
      ],
      "include_colab_link": true
    },
    "kernelspec": {
      "name": "python3",
      "display_name": "Python 3"
    }
  },
  "cells": [
    {
      "cell_type": "markdown",
      "metadata": {
        "id": "view-in-github",
        "colab_type": "text"
      },
      "source": [
        "<a href=\"https://colab.research.google.com/github/R1tsuko/big_data/blob/main/L0%20-%20Introduction%20to%20MapReduce%20data%20processing%20model/Copy_of_MapReduceExamples.ipynb\" target=\"_parent\"><img src=\"https://colab.research.google.com/assets/colab-badge.svg\" alt=\"Open In Colab\"/></a>"
      ]
    },
    {
      "cell_type": "markdown",
      "metadata": {
        "id": "82OvPKEiEqjc"
      },
      "source": [
        "# Введение в MapReduce модель на Python\n"
      ]
    },
    {
      "cell_type": "code",
      "metadata": {
        "id": "JQ2cvXLjICmI"
      },
      "source": [
        "from typing import NamedTuple # requires python 3.6+\n",
        "from typing import Iterator"
      ],
      "execution_count": null,
      "outputs": []
    },
    {
      "cell_type": "code",
      "metadata": {
        "id": "yjPHumVwEyEg"
      },
      "source": [
        "def MAP(_, row:NamedTuple):\n",
        "  if (row.gender == 'female'):\n",
        "    yield (row.age, row)\n",
        "\n",
        "def REDUCE(age:str, rows:Iterator[NamedTuple]):\n",
        "  sum = 0\n",
        "  count = 0\n",
        "  for row in rows:\n",
        "    sum += row.social_contacts\n",
        "    count += 1\n",
        "  if (count > 0):\n",
        "    yield (age, sum/count)\n",
        "  else:\n",
        "    yield (age, 0)"
      ],
      "execution_count": null,
      "outputs": []
    },
    {
      "cell_type": "markdown",
      "metadata": {
        "id": "vBKMgpG_ilaZ"
      },
      "source": [
        "Модель элемента данных"
      ]
    },
    {
      "cell_type": "code",
      "metadata": {
        "id": "Rv-XIjhTJPx3"
      },
      "source": [
        "class User(NamedTuple):\n",
        "  id: int\n",
        "  age: str\n",
        "  social_contacts: int\n",
        "  gender: str"
      ],
      "execution_count": null,
      "outputs": []
    },
    {
      "cell_type": "code",
      "metadata": {
        "id": "5KV0Ze2vQgu5"
      },
      "source": [
        "input_collection = [\n",
        "    User(id=0, age=55, gender='male', social_contacts=20),\n",
        "    User(id=1, age=25, gender='female', social_contacts=240),\n",
        "    User(id=2, age=25, gender='female', social_contacts=500),\n",
        "    User(id=3, age=33, gender='female', social_contacts=800)\n",
        "]"
      ],
      "execution_count": null,
      "outputs": []
    },
    {
      "cell_type": "markdown",
      "metadata": {
        "id": "YFeqzyZxZIFZ"
      },
      "source": [
        "Функция RECORDREADER моделирует чтение элементов с диска или по сети."
      ]
    },
    {
      "cell_type": "code",
      "metadata": {
        "id": "S5HR4E_GQoMJ"
      },
      "source": [
        "def RECORDREADER():\n",
        "  return [(u.id, u) for u in input_collection]"
      ],
      "execution_count": null,
      "outputs": []
    },
    {
      "cell_type": "code",
      "metadata": {
        "id": "NeEoWla-ROUy",
        "colab": {
          "base_uri": "https://localhost:8080/"
        },
        "outputId": "97311814-9c2e-4880-f571-3c3949e6a194"
      },
      "source": [
        "list(RECORDREADER())"
      ],
      "execution_count": null,
      "outputs": [
        {
          "output_type": "execute_result",
          "data": {
            "text/plain": [
              "[(0, User(id=0, age=55, social_contacts=20, gender='male')),\n",
              " (1, User(id=1, age=25, social_contacts=240, gender='female')),\n",
              " (2, User(id=2, age=25, social_contacts=500, gender='female')),\n",
              " (3, User(id=3, age=33, social_contacts=800, gender='female'))]"
            ]
          },
          "metadata": {},
          "execution_count": 21
        }
      ]
    },
    {
      "cell_type": "code",
      "metadata": {
        "id": "YB8orgPSZs8M"
      },
      "source": [
        "def flatten(nested_iterable):\n",
        "  for iterable in nested_iterable:\n",
        "    for element in iterable:\n",
        "      yield element"
      ],
      "execution_count": null,
      "outputs": []
    },
    {
      "cell_type": "code",
      "metadata": {
        "id": "74oyvDLaRmd5",
        "colab": {
          "base_uri": "https://localhost:8080/"
        },
        "outputId": "6e22e4b5-17af-41f6-bc7b-6d11eb96f0e5"
      },
      "source": [
        "map_output = flatten(map(lambda x: MAP(*x), RECORDREADER()))\n",
        "map_output = list(map_output) # materialize\n",
        "map_output"
      ],
      "execution_count": null,
      "outputs": [
        {
          "output_type": "execute_result",
          "data": {
            "text/plain": [
              "[(25, User(id=1, age=25, social_contacts=240, gender='female')),\n",
              " (25, User(id=2, age=25, social_contacts=500, gender='female')),\n",
              " (33, User(id=3, age=33, social_contacts=800, gender='female'))]"
            ]
          },
          "metadata": {},
          "execution_count": 23
        }
      ]
    },
    {
      "cell_type": "code",
      "metadata": {
        "id": "8ncYDJ3-VzDn"
      },
      "source": [
        "def groupbykey(iterable):\n",
        "  t = {}\n",
        "  for (k2, v2) in iterable:\n",
        "    t[k2] = t.get(k2, []) + [v2]\n",
        "  return t.items()"
      ],
      "execution_count": null,
      "outputs": []
    },
    {
      "cell_type": "code",
      "metadata": {
        "id": "cKzY_6COWOA2",
        "colab": {
          "base_uri": "https://localhost:8080/"
        },
        "outputId": "ba576bb6-83d2-46fc-97a9-537969dd13f8"
      },
      "source": [
        "shuffle_output = groupbykey(map_output)\n",
        "shuffle_output = list(shuffle_output)\n",
        "shuffle_output"
      ],
      "execution_count": null,
      "outputs": [
        {
          "output_type": "execute_result",
          "data": {
            "text/plain": [
              "[(25,\n",
              "  [User(id=1, age=25, social_contacts=240, gender='female'),\n",
              "   User(id=2, age=25, social_contacts=500, gender='female')]),\n",
              " (33, [User(id=3, age=33, social_contacts=800, gender='female')])]"
            ]
          },
          "metadata": {},
          "execution_count": 25
        }
      ]
    },
    {
      "cell_type": "code",
      "metadata": {
        "id": "NlA7lkDDYL0t",
        "colab": {
          "base_uri": "https://localhost:8080/"
        },
        "outputId": "09bc2362-8606-4152-ac52-127c7b425503"
      },
      "source": [
        "reduce_output = flatten(map(lambda x: REDUCE(*x), shuffle_output))\n",
        "reduce_output = list(reduce_output)\n",
        "reduce_output"
      ],
      "execution_count": null,
      "outputs": [
        {
          "output_type": "execute_result",
          "data": {
            "text/plain": [
              "[(25, 370.0), (33, 800.0)]"
            ]
          },
          "metadata": {},
          "execution_count": 26
        }
      ]
    },
    {
      "cell_type": "markdown",
      "metadata": {
        "id": "xf6qhHEtd6bI"
      },
      "source": [
        "Все действия одним конвейером!"
      ]
    },
    {
      "cell_type": "code",
      "metadata": {
        "id": "dZaQGYxCdpw5",
        "colab": {
          "base_uri": "https://localhost:8080/"
        },
        "outputId": "6ca04512-ef85-4d1b-de39-5257b96e3d20"
      },
      "source": [
        "list(flatten(map(lambda x: REDUCE(*x), groupbykey(flatten(map(lambda x: MAP(*x), RECORDREADER()))))))"
      ],
      "execution_count": null,
      "outputs": [
        {
          "output_type": "execute_result",
          "data": {
            "text/plain": [
              "[(25, 370.0), (33, 800.0)]"
            ]
          },
          "metadata": {},
          "execution_count": 27
        }
      ]
    },
    {
      "cell_type": "markdown",
      "metadata": {
        "id": "Vq3EWRIpwSiJ"
      },
      "source": [
        "# **MapReduce**\n",
        "Выделим общую для всех пользователей часть системы в отдельную функцию высшего порядка. Это наиболее простая модель MapReduce, без учёта распределённого хранения данных.\n",
        "\n",
        "Пользователь для решения своей задачи реализует RECORDREADER, MAP, REDUCE."
      ]
    },
    {
      "cell_type": "code",
      "metadata": {
        "id": "V1PZeQMwwVjc"
      },
      "source": [
        "def flatten(nested_iterable):\n",
        "  for iterable in nested_iterable:\n",
        "    for element in iterable:\n",
        "      yield element\n",
        "\n",
        "def groupbykey(iterable):\n",
        "  t = {}\n",
        "  for (k2, v2) in iterable:\n",
        "    t[k2] = t.get(k2, []) + [v2]\n",
        "  return t.items()\n",
        "\n",
        "def MapReduce(RECORDREADER, MAP, REDUCE):\n",
        "  return flatten(map(lambda x: REDUCE(*x), groupbykey(flatten(map(lambda x: MAP(*x), RECORDREADER())))))"
      ],
      "execution_count": null,
      "outputs": []
    },
    {
      "cell_type": "markdown",
      "metadata": {
        "id": "iFIVrimep678"
      },
      "source": [
        "## Спецификация MapReduce\n",
        "\n",
        "\n",
        "\n",
        "```\n",
        "f (k1, v1) -> (k2,v2)*\n",
        "g (k2, v2*) -> (k3,v3)*\n",
        "\n",
        "mapreduce ((k1,v1)*) -> (k3,v3)*\n",
        "groupby ((k2,v2)*) -> (k2,v2*)*\n",
        "flatten (e2**) -> e2*\n",
        "\n",
        "mapreduce .map(f).flatten.groupby(k2).map(g).flatten\n",
        "```\n",
        "\n",
        "\n"
      ]
    },
    {
      "cell_type": "markdown",
      "metadata": {
        "id": "QtTFyqke3KGe"
      },
      "source": [
        "# Примеры"
      ]
    },
    {
      "cell_type": "markdown",
      "metadata": {
        "id": "BNhh5763w5Vn"
      },
      "source": [
        "## SQL"
      ]
    },
    {
      "cell_type": "code",
      "metadata": {
        "id": "QkyurnvGxBGk",
        "colab": {
          "base_uri": "https://localhost:8080/"
        },
        "outputId": "e286277b-ebcd-47ce-9085-ddc9dd1140c5"
      },
      "source": [
        "from typing import NamedTuple # requires python 3.6+\n",
        "from typing import Iterator\n",
        "\n",
        "class User(NamedTuple):\n",
        "  id: int\n",
        "  age: str\n",
        "  social_contacts: int\n",
        "  gender: str\n",
        "\n",
        "input_collection = [\n",
        "    User(id=0, age=55, gender='male', social_contacts=20),\n",
        "    User(id=1, age=25, gender='female', social_contacts=240),\n",
        "    User(id=2, age=25, gender='female', social_contacts=500),\n",
        "    User(id=3, age=33, gender='female', social_contacts=800)\n",
        "]\n",
        "\n",
        "def MAP(_, row:NamedTuple):\n",
        "  if (row.gender == 'female'):\n",
        "    yield (row.age, row)\n",
        "\n",
        "def REDUCE(age:str, rows:Iterator[NamedTuple]):\n",
        "  sum = 0\n",
        "  count = 0\n",
        "  for row in rows:\n",
        "    sum += row.social_contacts\n",
        "    count += 1\n",
        "  if (count > 0):\n",
        "    yield (age, sum/count)\n",
        "  else:\n",
        "    yield (age, 0)\n",
        "\n",
        "def RECORDREADER():\n",
        "  return [(u.id, u) for u in input_collection]\n",
        "\n",
        "output = MapReduce(RECORDREADER, MAP, REDUCE)\n",
        "output = list(output)\n",
        "output"
      ],
      "execution_count": null,
      "outputs": [
        {
          "output_type": "execute_result",
          "data": {
            "text/plain": [
              "[(25, 370.0), (33, 800.0)]"
            ]
          },
          "metadata": {},
          "execution_count": 30
        }
      ]
    },
    {
      "cell_type": "markdown",
      "metadata": {
        "id": "kNKYIeerx0nY"
      },
      "source": [
        "## Matrix-Vector multiplication"
      ]
    },
    {
      "cell_type": "code",
      "metadata": {
        "id": "rwcntRcCyi1V",
        "colab": {
          "base_uri": "https://localhost:8080/"
        },
        "outputId": "225db72b-95cc-4f60-efb1-2e22935da634"
      },
      "source": [
        "from typing import Iterator\n",
        "import numpy as np\n",
        "\n",
        "mat = np.ones((5,4))\n",
        "vec = np.random.rand(4) # in-memory vector in all map tasks\n",
        "\n",
        "def MAP(coordinates:(int, int), value:int):\n",
        "  i, j = coordinates\n",
        "  yield (i, value*vec[j])\n",
        "\n",
        "def REDUCE(i:int, products:Iterator[NamedTuple]):\n",
        "  sum = 0\n",
        "  for p in products:\n",
        "    sum += p\n",
        "  yield (i, sum)\n",
        "\n",
        "def RECORDREADER():\n",
        "  for i in range(mat.shape[0]):\n",
        "    for j in range(mat.shape[1]):\n",
        "      yield ((i, j), mat[i,j])\n",
        "\n",
        "output = MapReduce(RECORDREADER, MAP, REDUCE)\n",
        "output = list(output)\n",
        "output"
      ],
      "execution_count": null,
      "outputs": [
        {
          "output_type": "execute_result",
          "data": {
            "text/plain": [
              "[(0, 1.8863821826000735),\n",
              " (1, 1.8863821826000735),\n",
              " (2, 1.8863821826000735),\n",
              " (3, 1.8863821826000735),\n",
              " (4, 1.8863821826000735)]"
            ]
          },
          "metadata": {},
          "execution_count": 16
        }
      ]
    },
    {
      "cell_type": "markdown",
      "metadata": {
        "id": "ruZREYdi2o4O"
      },
      "source": [
        "## Inverted index"
      ]
    },
    {
      "cell_type": "code",
      "metadata": {
        "id": "vt9H9Alf3TYv",
        "colab": {
          "base_uri": "https://localhost:8080/"
        },
        "outputId": "62cc2d93-d31a-4d0c-821c-eda7c14af568"
      },
      "source": [
        "from typing import Iterator\n",
        "\n",
        "d1 = \"it is what it is\"\n",
        "d2 = \"what is it\"\n",
        "d3 = \"it is a banana\"\n",
        "documents = [d1, d2, d3]\n",
        "\n",
        "def RECORDREADER():\n",
        "  for (docid, document) in enumerate(documents):\n",
        "    yield (\"{}\".format(docid), document)\n",
        "\n",
        "def MAP(docId:str, body:str):\n",
        "  for word in set(body.split(' ')):\n",
        "    yield (word, docId)\n",
        "\n",
        "def REDUCE(word:str, docIds:Iterator[str]):\n",
        "  yield (word, sorted(docIds))\n",
        "\n",
        "output = MapReduce(RECORDREADER, MAP, REDUCE)\n",
        "output = list(output)\n",
        "output"
      ],
      "execution_count": null,
      "outputs": [
        {
          "output_type": "execute_result",
          "data": {
            "text/plain": [
              "[('is', ['0', '1', '2']),\n",
              " ('what', ['0', '1']),\n",
              " ('it', ['0', '1', '2']),\n",
              " ('a', ['2']),\n",
              " ('banana', ['2'])]"
            ]
          },
          "metadata": {},
          "execution_count": 17
        }
      ]
    },
    {
      "cell_type": "markdown",
      "metadata": {
        "id": "R7az-6DA6qr2"
      },
      "source": [
        "## WordCount"
      ]
    },
    {
      "cell_type": "code",
      "metadata": {
        "id": "dN-nbtgG6uYG",
        "colab": {
          "base_uri": "https://localhost:8080/"
        },
        "outputId": "197d0708-b14d-49c8-af1a-ec99ddcc3ef2"
      },
      "source": [
        "from typing import Iterator\n",
        "\n",
        "d1 = \"\"\"\n",
        "it is what it is\n",
        "it is what it is\n",
        "it is what it is\"\"\"\n",
        "d2 = \"\"\"\n",
        "what is it\n",
        "what is it\"\"\"\n",
        "d3 = \"\"\"\n",
        "it is a banana\"\"\"\n",
        "documents = [d1, d2, d3]\n",
        "\n",
        "def RECORDREADER():\n",
        "  for (docid, document) in enumerate(documents):\n",
        "    for (lineid, line) in enumerate(document.split('\\n')):\n",
        "      yield (\"{}:{}\".format(docid,lineid), line)\n",
        "\n",
        "def MAP(docId:str, line:str):\n",
        "  for word in line.split(\" \"):\n",
        "    yield (word, 1)\n",
        "\n",
        "def REDUCE(word:str, counts:Iterator[int]):\n",
        "  sum = 0\n",
        "  for c in counts:\n",
        "    sum += c\n",
        "  yield (word, sum)\n",
        "\n",
        "output = MapReduce(RECORDREADER, MAP, REDUCE)\n",
        "output = list(output)\n",
        "output"
      ],
      "execution_count": null,
      "outputs": [
        {
          "output_type": "execute_result",
          "data": {
            "text/plain": [
              "[('', 3), ('it', 9), ('is', 9), ('what', 5), ('a', 1), ('banana', 1)]"
            ]
          },
          "metadata": {},
          "execution_count": 18
        }
      ]
    },
    {
      "cell_type": "markdown",
      "metadata": {
        "id": "h-jRAcYCAkkk"
      },
      "source": [
        "# MapReduce Distributed\n",
        "\n",
        "Добавляется в модель фабрика RECORDREARER-ов --- INPUTFORMAT, функция распределения промежуточных результатов по партициям PARTITIONER, и функция COMBINER для частичной аггрегации промежуточных результатов до распределения по новым партициям."
      ]
    },
    {
      "cell_type": "code",
      "metadata": {
        "id": "nw-b-xJsApgW"
      },
      "source": [
        "def flatten(nested_iterable):\n",
        "  for iterable in nested_iterable:\n",
        "    for element in iterable:\n",
        "      yield element\n",
        "\n",
        "def groupbykey(iterable):\n",
        "  t = {}\n",
        "  for (k2, v2) in iterable:\n",
        "    t[k2] = t.get(k2, []) + [v2]\n",
        "  return t.items()\n",
        "\n",
        "def groupbykey_distributed(map_partitions, PARTITIONER):\n",
        "  global reducers\n",
        "  partitions = [dict() for _ in range(reducers)]\n",
        "  for map_partition in map_partitions:\n",
        "    for (k2, v2) in map_partition:\n",
        "      p = partitions[PARTITIONER(k2)]\n",
        "      p[k2] = p.get(k2, []) + [v2]\n",
        "  return [(partition_id, sorted(partition.items(), key=lambda x: x[0])) for (partition_id, partition) in enumerate(partitions)]\n",
        "\n",
        "def PARTITIONER(obj):\n",
        "  global reducers\n",
        "  return hash(obj) % reducers\n",
        "\n",
        "def MapReduceDistributed(INPUTFORMAT, MAP, REDUCE, PARTITIONER=PARTITIONER, COMBINER=None):\n",
        "  map_partitions = map(lambda record_reader: flatten(map(lambda k1v1: MAP(*k1v1), record_reader)), INPUTFORMAT())\n",
        "  if COMBINER != None:\n",
        "    map_partitions = map(lambda map_partition: flatten(map(lambda k2v2: COMBINER(*k2v2), groupbykey(map_partition))), map_partitions)\n",
        "  reduce_partitions = groupbykey_distributed(map_partitions, PARTITIONER) # shuffle\n",
        "  reduce_outputs = map(lambda reduce_partition: (reduce_partition[0], flatten(map(lambda reduce_input_group: REDUCE(*reduce_input_group), reduce_partition[1]))), reduce_partitions)\n",
        "\n",
        "  print(\"{} key-value pairs were sent over a network.\".format(sum([len(vs) for (k,vs) in flatten([partition for (partition_id, partition) in reduce_partitions])])))\n",
        "  return reduce_outputs"
      ],
      "execution_count": null,
      "outputs": []
    },
    {
      "cell_type": "markdown",
      "metadata": {
        "id": "kxirlf3XqZxY"
      },
      "source": [
        "## Спецификация MapReduce Distributed\n",
        "\n",
        "\n",
        "```\n",
        "f (k1, v1) -> (k2,v2)*\n",
        "g (k2, v2*) -> (k3,v3)*\n",
        "\n",
        "e1 (k1, v1)\n",
        "e2 (k2, v2)\n",
        "partition1 (k2, v2)*\n",
        "partition2 (k2, v2*)*\n",
        "\n",
        "flatmap (e1->e2*, e1*) -> partition1*\n",
        "groupby (partition1*) -> partition2*\n",
        "\n",
        "mapreduce ((k1,v1)*) -> (k3,v3)*\n",
        "mapreduce .flatmap(f).groupby(k2).flatmap(g)\n",
        "```\n",
        "\n"
      ]
    },
    {
      "cell_type": "markdown",
      "metadata": {
        "id": "CWYw_CpbbY3C"
      },
      "source": [
        "## WordCount"
      ]
    },
    {
      "cell_type": "code",
      "metadata": {
        "id": "uR_zfGFkMZlp",
        "colab": {
          "base_uri": "https://localhost:8080/"
        },
        "outputId": "fb4527a9-e554-4d3b-88d2-defd15163e52"
      },
      "source": [
        "from typing import Iterator\n",
        "import numpy as np\n",
        "\n",
        "d1 = \"\"\"\n",
        "it is what it is\n",
        "it is what it is\n",
        "it is what it is\"\"\"\n",
        "d2 = \"\"\"\n",
        "what is it\n",
        "what is it\"\"\"\n",
        "d3 = \"\"\"\n",
        "it is a banana\"\"\"\n",
        "documents = [d1, d2, d3, d1, d2, d3]\n",
        "\n",
        "maps = 3\n",
        "reducers = 2\n",
        "\n",
        "def INPUTFORMAT():\n",
        "  global maps\n",
        "\n",
        "  def RECORDREADER(split):\n",
        "    for (docid, document) in enumerate(split):\n",
        "      for (lineid, line) in enumerate(document.split('\\n')):\n",
        "        yield (\"{}:{}\".format(docid,lineid), line)\n",
        "\n",
        "  split_size =  int(np.ceil(len(documents)/maps))\n",
        "  for i in range(0, len(documents), split_size):\n",
        "    yield RECORDREADER(documents[i:i+split_size])\n",
        "\n",
        "def MAP(docId:str, line:str):\n",
        "  for word in line.split(\" \"):\n",
        "    yield (word, 1)\n",
        "\n",
        "def REDUCE(word:str, counts:Iterator[int]):\n",
        "  sum = 0\n",
        "  for c in counts:\n",
        "    sum += c\n",
        "  yield (word, sum)\n",
        "\n",
        "# try to set COMBINER=REDUCER and look at the number of values sent over the network\n",
        "partitioned_output = MapReduceDistributed(INPUTFORMAT, MAP, REDUCE, COMBINER=None)\n",
        "partitioned_output = [(partition_id, list(partition)) for (partition_id, partition) in partitioned_output]\n",
        "partitioned_output"
      ],
      "execution_count": null,
      "outputs": [
        {
          "output_type": "stream",
          "name": "stdout",
          "text": [
            "56 key-value pairs were sent over a network.\n"
          ]
        },
        {
          "output_type": "execute_result",
          "data": {
            "text/plain": [
              "[(0, [('', 6), ('a', 2), ('banana', 2), ('is', 18), ('it', 18)]),\n",
              " (1, [('what', 10)])]"
            ]
          },
          "metadata": {},
          "execution_count": 44
        }
      ]
    },
    {
      "cell_type": "markdown",
      "metadata": {
        "id": "gCJGx8IQ87xS"
      },
      "source": [
        "## TeraSort"
      ]
    },
    {
      "cell_type": "code",
      "metadata": {
        "id": "P2v8v1v_8_YR",
        "colab": {
          "base_uri": "https://localhost:8080/",
          "height": 578
        },
        "outputId": "e0987c25-9757-46cb-8e55-d5d2adfbee2b"
      },
      "source": [
        "import numpy as np\n",
        "\n",
        "input_values = np.random.rand(30)\n",
        "maps = 3\n",
        "reducers = 2\n",
        "min_value = 0.0\n",
        "max_value = 1.0\n",
        "\n",
        "def INPUTFORMAT():\n",
        "  global maps\n",
        "\n",
        "  def RECORDREADER(split):\n",
        "    for value in split:\n",
        "        yield (value, None)\n",
        "\n",
        "  split_size =  int(np.ceil(len(input_values)/maps))\n",
        "  for i in range(0, len(input_values), split_size):\n",
        "    yield RECORDREADER(input_values[i:i+split_size])\n",
        "\n",
        "def MAP(value:int, _):\n",
        "  yield (value, None)\n",
        "\n",
        "def PARTITIONER(key):\n",
        "  global reducers\n",
        "  global max_value\n",
        "  global min_value\n",
        "  bucket_size = (max_value-min_value)/reducers\n",
        "  bucket_id = 0\n",
        "  while((key>(bucket_id+1)*bucket_size) and ((bucket_id+1)*bucket_size<max_value)):\n",
        "    bucket_id += 1\n",
        "  return bucket_id\n",
        "\n",
        "def REDUCE(value:int, _):\n",
        "  yield (None,value)\n",
        "\n",
        "partitioned_output = MapReduceDistributed(INPUTFORMAT, MAP, REDUCE, COMBINER=None, PARTITIONER=PARTITIONER)\n",
        "partitioned_output = [(partition_id, list(partition)) for (partition_id, partition) in partitioned_output]\n",
        "partitioned_output"
      ],
      "execution_count": null,
      "outputs": [
        {
          "output_type": "stream",
          "text": [
            "30 key-value pairs were sent over a network.\n"
          ],
          "name": "stdout"
        },
        {
          "output_type": "execute_result",
          "data": {
            "text/plain": [
              "[(0,\n",
              "  [(None, 0.0059671639991895065),\n",
              "   (None, 0.07724245496172),\n",
              "   (None, 0.08440804135613444),\n",
              "   (None, 0.13575647907181598),\n",
              "   (None, 0.14404826813474803),\n",
              "   (None, 0.21204275967955666),\n",
              "   (None, 0.21869633101751806),\n",
              "   (None, 0.25055756276216923),\n",
              "   (None, 0.28642389538931257),\n",
              "   (None, 0.3834487515438496),\n",
              "   (None, 0.3913614390023946),\n",
              "   (None, 0.4041378102237341),\n",
              "   (None, 0.41854626274930695),\n",
              "   (None, 0.4704310153549396),\n",
              "   (None, 0.4776995227348928),\n",
              "   (None, 0.48992216726013693)]),\n",
              " (1,\n",
              "  [(None, 0.5005353544023048),\n",
              "   (None, 0.5135664686748047),\n",
              "   (None, 0.53391984417089),\n",
              "   (None, 0.5587932025401512),\n",
              "   (None, 0.5673804905854288),\n",
              "   (None, 0.6926646597910275),\n",
              "   (None, 0.7237444251339501),\n",
              "   (None, 0.7557883138083207),\n",
              "   (None, 0.785709769245918),\n",
              "   (None, 0.7937098630029404),\n",
              "   (None, 0.7942646850708935),\n",
              "   (None, 0.9160468126494941),\n",
              "   (None, 0.9618068292060864),\n",
              "   (None, 0.9820764489731459)])]"
            ]
          },
          "metadata": {
            "tags": []
          },
          "execution_count": 34
        }
      ]
    },
    {
      "cell_type": "code",
      "metadata": {
        "id": "MQhoJaVZI93G"
      },
      "source": [],
      "execution_count": null,
      "outputs": []
    },
    {
      "cell_type": "markdown",
      "metadata": {
        "id": "Iy65YJTH99iT"
      },
      "source": [
        "# Упражнения\n",
        "Упражнения взяты из Rajaraman A., Ullman J. D. Mining of massive datasets. – Cambridge University Press, 2011.\n",
        "\n",
        "\n",
        "Для выполнения заданий переопределите функции RECORDREADER, MAP, REDUCE. Для модели распределённой системы может потребоваться переопределение функций PARTITION и COMBINER."
      ]
    },
    {
      "cell_type": "markdown",
      "metadata": {
        "id": "cfvAeZm3S8S8"
      },
      "source": [
        "### Максимальное значение ряда\n",
        "\n",
        "Разработайте MapReduce алгоритм, который находит максимальное число входного списка чисел."
      ]
    },
    {
      "cell_type": "code",
      "metadata": {
        "id": "3GRA1JR-Tkbg",
        "colab": {
          "base_uri": "https://localhost:8080/"
        },
        "outputId": "6c7b7f0d-1590-4bbd-e871-c2bb3a87c398"
      },
      "source": [
        "from typing import Iterator\n",
        "from typing import List\n",
        "\n",
        "nums = [1, 2, 3, 5, 10, 12, 2, 100, 15, 1, 0]\n",
        "\n",
        "def RECORDREADER():\n",
        "  for i in range(0, len(nums), 3):\n",
        "    yield (int(i/ 3), nums[i:i + 3])\n",
        "\n",
        "def MAP(id:int, body:List[int]):\n",
        "  yield (1, max(body))\n",
        "\n",
        "def REDUCE(id:int, partialMax:List[int]):\n",
        "  yield (1, max(partialMax))\n",
        "\n",
        "output = MapReduce(RECORDREADER, MAP, REDUCE)\n",
        "output = list(output)\n",
        "output"
      ],
      "execution_count": null,
      "outputs": [
        {
          "output_type": "stream",
          "name": "stdout",
          "text": [
            "0\n",
            "1\n",
            "2\n",
            "3\n"
          ]
        },
        {
          "output_type": "execute_result",
          "data": {
            "text/plain": [
              "[(1, 100)]"
            ]
          },
          "metadata": {},
          "execution_count": 25
        }
      ]
    },
    {
      "cell_type": "markdown",
      "metadata": {
        "id": "k86bXnqZTk-U"
      },
      "source": [
        "### Арифметическое среднее\n",
        "\n",
        "Разработайте MapReduce алгоритм, который находит арифметическое среднее.\n",
        "\n",
        "$$\\overline{X} = \\frac{1}{n}\\sum_{i=0}^{n} x_i$$\n"
      ]
    },
    {
      "cell_type": "code",
      "metadata": {
        "id": "MPoY5pkfUNZf",
        "colab": {
          "base_uri": "https://localhost:8080/"
        },
        "outputId": "484323ad-e8ed-496b-b166-8333f421cbfc"
      },
      "source": [
        "from typing import Iterator\n",
        "from typing import List\n",
        "from statistics import mean\n",
        "\n",
        "nums = [1, 2, 3, 5, 10, 12, 2, 100, 15, 1, 0]\n",
        "size = len(nums)\n",
        "print(mean(nums))\n",
        "\n",
        "def RECORDREADER():\n",
        "  for i in range(0, len(nums), 3):\n",
        "     yield (int(i/ 3), nums[i:i + 3])\n",
        "\n",
        "def MAP(id:int, body:List[int]):\n",
        "  global size\n",
        "  yield (1, sum(body) / size)\n",
        "\n",
        "def REDUCE(id:int, partialSums:List[int]):\n",
        "  yield (1, sum(partialSums))\n",
        "\n",
        "output = MapReduce(RECORDREADER, MAP, REDUCE)\n",
        "output = list(output)\n",
        "output"
      ],
      "execution_count": null,
      "outputs": [
        {
          "output_type": "stream",
          "name": "stdout",
          "text": [
            "13.727272727272727\n"
          ]
        },
        {
          "output_type": "execute_result",
          "data": {
            "text/plain": [
              "[(1, 13.727272727272728)]"
            ]
          },
          "metadata": {},
          "execution_count": 27
        }
      ]
    },
    {
      "cell_type": "markdown",
      "metadata": {
        "id": "xanzszhsIlLe"
      },
      "source": [
        "### GroupByKey на основе сортировки\n",
        "\n",
        "Реализуйте groupByKey на основе сортировки, проверьте его работу на примерах"
      ]
    },
    {
      "cell_type": "code",
      "metadata": {
        "id": "hQPn3USsIkEC"
      },
      "source": [
        "import bisect\n",
        "\n",
        "def groupbykey_sort(iterable):\n",
        "  t = {}\n",
        "  for (k2, v2) in iterable:\n",
        "    t[k2] = t.get(k2, [])\n",
        "    bisect.insort(t[k2], v2)\n",
        "  return t.items()\n",
        "\n",
        "def MapReduce_sort(RECORDREADER, MAP, REDUCE):\n",
        "  return flatten(map(lambda x: REDUCE(*x), groupbykey_sort(flatten(map(lambda x: MAP(*x), RECORDREADER())))))"
      ],
      "execution_count": null,
      "outputs": []
    },
    {
      "cell_type": "code",
      "source": [
        "from typing import Iterator\n",
        "\n",
        "d1 = \"\"\"\n",
        "it is what it is\n",
        "it is what it is\n",
        "it is what it is\"\"\"\n",
        "d2 = \"\"\"\n",
        "what is it\n",
        "what is it\"\"\"\n",
        "d3 = \"\"\"\n",
        "it is a banana\"\"\"\n",
        "documents = [d1, d2, d3]\n",
        "\n",
        "def RECORDREADER():\n",
        "  for (docid, document) in enumerate(documents):\n",
        "    for (lineid, line) in enumerate(document.split('\\n')):\n",
        "      yield (\"{}:{}\".format(docid,lineid), line)\n",
        "\n",
        "def MAP(docId:str, line:str):\n",
        "  for word in line.split(\" \"):\n",
        "    yield (word, 1)\n",
        "\n",
        "def REDUCE(word:str, counts:Iterator[int]):\n",
        "  sum = 0\n",
        "  for c in counts:\n",
        "    sum += c\n",
        "  yield (word, sum)\n",
        "\n",
        "output = MapReduce_sort(RECORDREADER, MAP, REDUCE)\n",
        "output = list(output)\n",
        "output"
      ],
      "metadata": {
        "colab": {
          "base_uri": "https://localhost:8080/"
        },
        "id": "bl47nAffUjhr",
        "outputId": "7364e8e6-ff9c-4b39-ce1c-1170447c3023"
      },
      "execution_count": null,
      "outputs": [
        {
          "output_type": "execute_result",
          "data": {
            "text/plain": [
              "[('', 3), ('it', 9), ('is', 9), ('what', 5), ('a', 1), ('banana', 1)]"
            ]
          },
          "metadata": {},
          "execution_count": 36
        }
      ]
    },
    {
      "cell_type": "markdown",
      "metadata": {
        "id": "5SgEjCZyGnu6"
      },
      "source": [
        "### Drop duplicates (set construction, unique elements, distinct)\n",
        "\n",
        "Реализуйте распределённую операцию исключения дубликатов"
      ]
    },
    {
      "cell_type": "code",
      "metadata": {
        "id": "okjbyApjGhMt",
        "colab": {
          "base_uri": "https://localhost:8080/"
        },
        "outputId": "fcd756f8-b7ba-4583-cdf8-4a3b7171103d"
      },
      "source": [
        "from typing import Iterator\n",
        "from typing import List\n",
        "from statistics import mean\n",
        "\n",
        "nums = [1, 2, 3, 5, 10, 12, 2, 100, 15, 1, 0]\n",
        "\n",
        "def RECORDREADER():\n",
        "  for i in nums:\n",
        "     yield (1, i)\n",
        "\n",
        "def MAP(id:int, body:int):\n",
        "  yield (body, 1)\n",
        "\n",
        "def REDUCE(id:int, counts:List[int]):\n",
        "  yield id\n",
        "\n",
        "output = MapReduce(RECORDREADER, MAP, REDUCE)\n",
        "output = list(output)\n",
        "output"
      ],
      "execution_count": null,
      "outputs": [
        {
          "output_type": "execute_result",
          "data": {
            "text/plain": [
              "[1, 2, 3, 5, 10, 12, 100, 15, 0]"
            ]
          },
          "metadata": {},
          "execution_count": 41
        }
      ]
    },
    {
      "cell_type": "markdown",
      "metadata": {
        "id": "e7sRGoTXuJze"
      },
      "source": [
        "#Операторы реляционной алгебры\n",
        "### Selection (Выборка)\n",
        "\n",
        "**The Map Function**: Для  каждого кортежа $t \\in R$ вычисляется истинность предиката $C$. В случае истины создаётся пара ключ-значение $(t, t)$. В паре ключ и значение одинаковы, равны $t$.\n",
        "\n",
        "**The Reduce Function:** Роль функции Reduce выполняет функция идентичности, которая возвращает то же значение, что получила на вход.\n",
        "\n"
      ]
    },
    {
      "cell_type": "code",
      "metadata": {
        "id": "4nKIKe59uIfc",
        "colab": {
          "base_uri": "https://localhost:8080/"
        },
        "outputId": "40641a16-f00e-4cbc-ab37-4220df23f2d9"
      },
      "source": [
        "from typing import NamedTuple # requires python 3.6+\n",
        "from typing import Iterator\n",
        "\n",
        "class User(NamedTuple):\n",
        "  id: int\n",
        "  age: str\n",
        "  social_contacts: int\n",
        "  gender: str\n",
        "\n",
        "input_collection = [\n",
        "    User(id=0, age=55, gender='male', social_contacts=20),\n",
        "    User(id=1, age=25, gender='female', social_contacts=240),\n",
        "    User(id=2, age=25, gender='female', social_contacts=500),\n",
        "    User(id=3, age=33, gender='female', social_contacts=800)\n",
        "]\n",
        "\n",
        "def MAP(_, row:NamedTuple):\n",
        "  if (row.gender == 'female'): #condition C\n",
        "    yield (row, row)\n",
        "\n",
        "def REDUCE(_, rows:Iterator[NamedTuple]):\n",
        "    yield (rows, rows)\n",
        "\n",
        "def RECORDREADER():\n",
        "  return [(u.id, u) for u in input_collection]\n",
        "\n",
        "output = MapReduce(RECORDREADER, MAP, REDUCE)\n",
        "output = list(output)\n",
        "output"
      ],
      "execution_count": null,
      "outputs": [
        {
          "output_type": "execute_result",
          "data": {
            "text/plain": [
              "[([User(id=1, age=25, social_contacts=240, gender='female')],\n",
              "  [User(id=1, age=25, social_contacts=240, gender='female')]),\n",
              " ([User(id=2, age=25, social_contacts=500, gender='female')],\n",
              "  [User(id=2, age=25, social_contacts=500, gender='female')]),\n",
              " ([User(id=3, age=33, social_contacts=800, gender='female')],\n",
              "  [User(id=3, age=33, social_contacts=800, gender='female')])]"
            ]
          },
          "metadata": {},
          "execution_count": 44
        }
      ]
    },
    {
      "cell_type": "markdown",
      "metadata": {
        "id": "w27Ca-_Ku85V"
      },
      "source": [
        "### Projection (Проекция)\n",
        "\n",
        "Проекция на множество атрибутов $S$.\n",
        "\n",
        "**The Map Function:** Для каждого кортежа $t \\in R$ создайте кортеж $t′$, исключая  из $t$ те значения, атрибуты которых не принадлежат  $S$. Верните пару $(t′, t′)$.\n",
        "\n",
        "**The Reduce Function:** Для каждого ключа $t′$, созданного любой Map задачей, вы получаете одну или несколько пар $(t′, t′)$. Reduce функция преобразует $(t′, [t′, t′, . . . , t′])$ в $(t′, t′)$, так, что для ключа $t′$ возвращается одна пара  $(t′, t′)$."
      ]
    },
    {
      "cell_type": "code",
      "metadata": {
        "id": "BEvuY4GqvhS6",
        "colab": {
          "base_uri": "https://localhost:8080/"
        },
        "outputId": "72ab3662-13fc-4956-f5be-209c09b91e34"
      },
      "source": [
        "from typing import NamedTuple # requires python 3.6+\n",
        "from typing import Iterator\n",
        "from operator import attrgetter\n",
        "\n",
        "class User(NamedTuple):\n",
        "  id: int\n",
        "  age: str\n",
        "  social_contacts: int\n",
        "  gender: str\n",
        "\n",
        "input_collection = [\n",
        "    User(id=0, age=55, gender='male', social_contacts=20),\n",
        "    User(id=1, age=25, gender='female', social_contacts=240),\n",
        "    User(id=2, age=25, gender='female', social_contacts=500),\n",
        "    User(id=3, age=33, gender='female', social_contacts=800)\n",
        "]\n",
        "\n",
        "S = ['age', 'gender']\n",
        "\n",
        "def MAP(_, row:NamedTuple):\n",
        "  new_tuple = []\n",
        "  for atr in S:\n",
        "    new_tuple.append(attrgetter(atr)(row))\n",
        "  new_tuple = tuple(new_tuple)\n",
        "  yield (new_tuple, new_tuple)\n",
        "\n",
        "def REDUCE(key:NamedTuple, rows:Iterator[NamedTuple]):\n",
        "    yield (key, key)\n",
        "\n",
        "def RECORDREADER():\n",
        "  return [(u.id, u) for u in input_collection]\n",
        "\n",
        "output = MapReduce(RECORDREADER, MAP, REDUCE)\n",
        "output = list(output)\n",
        "output"
      ],
      "execution_count": null,
      "outputs": [
        {
          "output_type": "execute_result",
          "data": {
            "text/plain": [
              "[((55, 'male'), (55, 'male')),\n",
              " ((25, 'female'), (25, 'female')),\n",
              " ((33, 'female'), (33, 'female'))]"
            ]
          },
          "metadata": {},
          "execution_count": 51
        }
      ]
    },
    {
      "cell_type": "markdown",
      "metadata": {
        "id": "7gau6lKXvn2R"
      },
      "source": [
        "### Union (Объединение)\n",
        "\n",
        "**The Map Function:** Превратите каждый входной кортеж $t$ в пару ключ-значение $(t, t)$.\n",
        "\n",
        "**The Reduce Function:** С каждым ключом $t$ будет ассоциировано одно или два значений. В обоих случаях создайте $(t, t)$ в качестве выходного значения."
      ]
    },
    {
      "cell_type": "code",
      "metadata": {
        "id": "Sns7a5agv3nw",
        "colab": {
          "base_uri": "https://localhost:8080/"
        },
        "outputId": "5eb55c56-6d0c-4b63-8130-1a332bc5c4fb"
      },
      "source": [
        "from typing import NamedTuple # requires python 3.6+\n",
        "from typing import Iterator\n",
        "\n",
        "class User(NamedTuple):\n",
        "  id: int\n",
        "  age: str\n",
        "  social_contacts: int\n",
        "  gender: str\n",
        "\n",
        "input_collection = [\n",
        "    User(id=0, age=55, gender='male', social_contacts=20),\n",
        "    User(id=1, age=25, gender='female', social_contacts=240),\n",
        "    User(id=2, age=25, gender='female', social_contacts=500),\n",
        "    User(id=3, age=33, gender='female', social_contacts=800)\n",
        "]\n",
        "\n",
        "def MAP(_, row:NamedTuple):\n",
        "    yield (row, row)\n",
        "\n",
        "def REDUCE(row:NamedTuple, rows:Iterator[NamedTuple]):\n",
        "  yield (row, row)\n",
        "\n",
        "def RECORDREADER():\n",
        "  return [(u.id, u) for u in input_collection]\n",
        "\n",
        "output = MapReduce(RECORDREADER, MAP, REDUCE)\n",
        "output = list(output)\n",
        "output"
      ],
      "execution_count": null,
      "outputs": [
        {
          "output_type": "execute_result",
          "data": {
            "text/plain": [
              "[(User(id=0, age=55, social_contacts=20, gender='male'),\n",
              "  User(id=0, age=55, social_contacts=20, gender='male')),\n",
              " (User(id=1, age=25, social_contacts=240, gender='female'),\n",
              "  User(id=1, age=25, social_contacts=240, gender='female')),\n",
              " (User(id=2, age=25, social_contacts=500, gender='female'),\n",
              "  User(id=2, age=25, social_contacts=500, gender='female')),\n",
              " (User(id=3, age=33, social_contacts=800, gender='female'),\n",
              "  User(id=3, age=33, social_contacts=800, gender='female'))]"
            ]
          },
          "metadata": {},
          "execution_count": 52
        }
      ]
    },
    {
      "cell_type": "markdown",
      "metadata": {
        "id": "dQ8TuEbjv4J8"
      },
      "source": [
        "### Intersection (Пересечение)\n",
        "\n",
        "**The Map Function:** Превратите каждый кортеж $t$ в пары ключ-значение $(t, t)$.\n",
        "\n",
        "**The Reduce Function:** Если для ключа $t$ есть список из двух элементов $[t, t]$ $-$ создайте пару $(t, t)$. Иначе, ничего не создавайте."
      ]
    },
    {
      "cell_type": "code",
      "metadata": {
        "id": "XKlBZh4IwERR",
        "colab": {
          "base_uri": "https://localhost:8080/"
        },
        "outputId": "28bcadcf-d021-4888-e38b-2483e02eaef8"
      },
      "source": [
        "from typing import NamedTuple # requires python 3.6+\n",
        "from typing import Iterator\n",
        "\n",
        "class User(NamedTuple):\n",
        "  id: int\n",
        "  age: str\n",
        "  social_contacts: int\n",
        "  gender: str\n",
        "\n",
        "input_collection = [\n",
        "    User(id=0, age=55, gender='male', social_contacts=20),\n",
        "    User(id=1, age=25, gender='female', social_contacts=240),\n",
        "    User(id=2, age=25, gender='female', social_contacts=500),\n",
        "    User(id=2, age=25, gender='female', social_contacts=500),\n",
        "    User(id=3, age=33, gender='female', social_contacts=800)\n",
        "]\n",
        "\n",
        "def MAP(_, row:NamedTuple):\n",
        "    yield (row, row)\n",
        "\n",
        "def REDUCE(row:NamedTuple, rows:Iterator[NamedTuple]):\n",
        "  if len(rows) > 1:\n",
        "    yield (row, row)\n",
        "\n",
        "def RECORDREADER():\n",
        "  return [(u.id, u) for u in input_collection]\n",
        "\n",
        "output = MapReduce(RECORDREADER, MAP, REDUCE)\n",
        "output = list(output)\n",
        "output"
      ],
      "execution_count": null,
      "outputs": [
        {
          "output_type": "execute_result",
          "data": {
            "text/plain": [
              "[(User(id=2, age=25, social_contacts=500, gender='female'),\n",
              "  User(id=2, age=25, social_contacts=500, gender='female'))]"
            ]
          },
          "metadata": {},
          "execution_count": 53
        }
      ]
    },
    {
      "cell_type": "markdown",
      "metadata": {
        "id": "AVOpqoY3wE5k"
      },
      "source": [
        "### Difference (Разница)\n",
        "\n",
        "**The Map Function:** Для кортежа $t \\in R$, создайте пару $(t, R)$, и для кортежа $t \\in S$, создайте пару $(t, S)$. Задумка заключается в том, чтобы значение пары было именем отношения $R$ or $S$, которому принадлежит кортеж (а лучше, единичный бит, по которому можно два отношения различить $R$ or $S$), а не весь набор атрибутов отношения.\n",
        "\n",
        "**The Reduce Function:** Для каждого ключа $t$, если соответствующее значение является списком $[R]$, создайте пару $(t, t)$. В иных случаях не предпринимайте действий."
      ]
    },
    {
      "cell_type": "code",
      "metadata": {
        "id": "QE_AC09lwZIZ",
        "colab": {
          "base_uri": "https://localhost:8080/"
        },
        "outputId": "10fb8253-d226-4ed6-9d9f-e88d8939a103"
      },
      "source": [
        "from typing import NamedTuple # requires python 3.6+\n",
        "from typing import Iterator\n",
        "import random\n",
        "\n",
        "class User(NamedTuple):\n",
        "  id: int\n",
        "  age: str\n",
        "  social_contacts: int\n",
        "  gender: str\n",
        "\n",
        "input_collection_R = [\n",
        "    User(id=0, age=55, gender='male', social_contacts=20),\n",
        "    User(id=1, age=25, gender='female', social_contacts=240),\n",
        "    User(id=2, age=25, gender='female', social_contacts=500),\n",
        "    User(id=3, age=33, gender='female', social_contacts=800)\n",
        "]\n",
        "\n",
        "input_collection_S = [\n",
        "    User(id=0, age=55, gender='male', social_contacts=20),\n",
        "    User(id=1, age=25, gender='female', social_contacts=240)\n",
        "]\n",
        "\n",
        "def MAP(rel_name, row:NamedTuple):\n",
        "    yield (row, rel_name)\n",
        "\n",
        "def REDUCE(row:NamedTuple, rels:Iterator[str]):\n",
        "    if 'R' in rels and len(rels) == 1:\n",
        "      yield (row, row)\n",
        "\n",
        "def RECORDREADER():\n",
        "  return [('R', u) for u in input_collection_R] + [('S', u) for u in input_collection_S]\n",
        "\n",
        "output = MapReduce(RECORDREADER, MAP, REDUCE)\n",
        "output = list(output)\n",
        "output"
      ],
      "execution_count": null,
      "outputs": [
        {
          "output_type": "execute_result",
          "data": {
            "text/plain": [
              "[(User(id=2, age=25, social_contacts=500, gender='female'),\n",
              "  User(id=2, age=25, social_contacts=500, gender='female')),\n",
              " (User(id=3, age=33, social_contacts=800, gender='female'),\n",
              "  User(id=3, age=33, social_contacts=800, gender='female'))]"
            ]
          },
          "metadata": {},
          "execution_count": 62
        }
      ]
    },
    {
      "cell_type": "markdown",
      "metadata": {
        "id": "j8I58V2VwhSm"
      },
      "source": [
        "### Natural Join\n",
        "\n",
        "**The Map Function:** Для каждого кортежа $(a, b)$ отношения $R$, создайте пару $(b,(R, a))$. Для каждого кортежа $(b, c)$ отношения $S$, создайте пару $(b,(S, c))$.\n",
        "\n",
        "**The Reduce Function:** Каждый ключ $b$ будет асоциирован со списком пар, которые принимают форму либо $(R, a)$, либо $(S, c)$. Создайте все пары, одни, состоящие из  первого компонента $R$, а другие, из первого компонента $S$, то есть $(R, a)$ и $(S, c)$. На выходе вы получаете последовательность пар ключ-значение из списков ключей и значений. Ключ не нужен. Каждое значение, это тройка $(a, b, c)$ такая, что $(R, a)$ и $(S, c)$ это принадлежат входному списку значений."
      ]
    },
    {
      "cell_type": "code",
      "metadata": {
        "id": "yHiuuTctw86I",
        "colab": {
          "base_uri": "https://localhost:8080/"
        },
        "outputId": "835b25e3-51b6-4c92-e270-7af674c4a9f8"
      },
      "source": [
        "from typing import NamedTuple # requires python 3.6+\n",
        "from typing import Iterator\n",
        "import random\n",
        "\n",
        "class User_R(NamedTuple):\n",
        "  id: int\n",
        "  age: str\n",
        "  social_contacts: int\n",
        "  gender: str\n",
        "\n",
        "class User_S(NamedTuple):\n",
        "  age: str\n",
        "  active: bool\n",
        "\n",
        "input_collection_R = [\n",
        "    User_R(id=0, age=55, gender='male', social_contacts=20),\n",
        "    User_R(id=1, age=25, gender='female', social_contacts=240)\n",
        "]\n",
        "\n",
        "input_collection_S = [\n",
        "    User_S(age=55, active=True),\n",
        "    User_S(age=25, active=True),\n",
        "    User_S(age=25, active=False),\n",
        "    User_S(age=33, active=True)\n",
        "]\n",
        "\n",
        "def MAP(rel_name, row:NamedTuple):\n",
        "  b = (row.age,)\n",
        "  yield (b, (rel_name, row))\n",
        "\n",
        "def REDUCE(age, row):\n",
        "  R_parts = [r[1] for r in row if r[0] == 'R']\n",
        "  S_parts = [r[1] for r in row if r[0] == 'S']\n",
        "  pairs = []\n",
        "  for r_part in R_parts:\n",
        "    for s_part in S_parts:\n",
        "      pairs.append((r_part.id, r_part.age, r_part.social_contacts, r_part.gender, s_part.active))\n",
        "  if len(pairs):\n",
        "    yield(1, pairs)\n",
        "\n",
        "\n",
        "def RECORDREADER():\n",
        "  return [('R', u) for u in input_collection_R] + [('S', u) for u in input_collection_S]\n",
        "\n",
        "output = MapReduce(RECORDREADER, MAP, REDUCE)\n",
        "output = list(output)\n",
        "output"
      ],
      "execution_count": null,
      "outputs": [
        {
          "output_type": "execute_result",
          "data": {
            "text/plain": [
              "[(1, [(0, 55, 20, 'male', True)]),\n",
              " (1, [(1, 25, 240, 'female', True), (1, 25, 240, 'female', False)])]"
            ]
          },
          "metadata": {},
          "execution_count": 106
        }
      ]
    },
    {
      "cell_type": "markdown",
      "metadata": {
        "id": "kYdlr0YUxE27"
      },
      "source": [
        "### Grouping and Aggregation (Группировка и аггрегация)\n",
        "\n",
        "**The Map Function:** Для каждого кортежа $(a, b, c$) создайте пару $(a, b)$.\n",
        "\n",
        "**The Reduce Function:** Ключ представляет ту или иную группу. Примение аггрегирующую операцию $\\theta$ к списку значений $[b1, b2, . . . , bn]$ ассоциированных с ключом $a$. Возвращайте в выходной поток $(a, x)$, где $x$ результат применения  $\\theta$ к списку. Например, если $\\theta$ это $SUM$, тогда $x = b1 + b2 + · · · + bn$, а если $\\theta$ is $MAX$, тогда $x$ это максимальное из значений $b1, b2, . . . , bn$."
      ]
    },
    {
      "cell_type": "code",
      "metadata": {
        "id": "MLPckfEGxico",
        "colab": {
          "base_uri": "https://localhost:8080/"
        },
        "outputId": "08aaa596-35f8-4098-afcd-547f69832a76"
      },
      "source": [
        "from typing import NamedTuple # requires python 3.6+\n",
        "from typing import Iterator\n",
        "import random\n",
        "\n",
        "class User(NamedTuple):\n",
        "  id: int\n",
        "  age: str\n",
        "  social_contacts: int\n",
        "  gender: str\n",
        "\n",
        "input_collection = [\n",
        "    User(id=0, age=55, gender='male', social_contacts=20),\n",
        "    User(id=1, age=25, gender='female', social_contacts=240),\n",
        "    User(id=2, age=25, gender='female', social_contacts=500),\n",
        "    User(id=3, age=33, gender='female', social_contacts=800)\n",
        "]\n",
        "\n",
        "def MAP(id, row:NamedTuple):\n",
        "    yield (row.gender, row.age) #групп бай гендер\n",
        "\n",
        "def REDUCE(gender, ages:Iterator[int]):\n",
        "  yield (gender, max(ages)) #аггрегирующая функция МАКС\n",
        "\n",
        "def RECORDREADER():\n",
        "  return [(u.id, u) for u in input_collection]\n",
        "\n",
        "output = MapReduce(RECORDREADER, MAP, REDUCE)\n",
        "output = list(output)\n",
        "output"
      ],
      "execution_count": null,
      "outputs": [
        {
          "output_type": "execute_result",
          "data": {
            "text/plain": [
              "[('male', 55), ('female', 33)]"
            ]
          },
          "metadata": {},
          "execution_count": 107
        }
      ]
    },
    {
      "cell_type": "markdown",
      "metadata": {
        "id": "03IffTEOJgOb"
      },
      "source": [
        "#"
      ]
    },
    {
      "cell_type": "markdown",
      "metadata": {
        "id": "IIrRgvG4RIS4"
      },
      "source": [
        "### Matrix-Vector multiplication\n",
        "\n",
        "Случай, когда вектор не помещается в памяти Map задачи\n"
      ]
    },
    {
      "cell_type": "code",
      "metadata": {
        "id": "KQhDbiL3zS9r",
        "colab": {
          "base_uri": "https://localhost:8080/"
        },
        "outputId": "0e51f3c6-a19f-4c90-f410-72192113da52"
      },
      "source": [
        "from typing import Iterator\n",
        "import numpy as np\n",
        "\n",
        "mat = np.ones((5,4))\n",
        "vec = np.random.rand(4) # in-memory vector in all map tasks\n",
        "stripe_size = 2\n",
        "\n",
        "def MAP(coordinates, value):\n",
        "  i, j = coordinates\n",
        "  mat_val, vec_stripe, stripe_num = value\n",
        "  yield (i, mat_val*vec_stripe[j - stripe_num*stripe_size])\n",
        "\n",
        "def REDUCE(i:int, products:Iterator[NamedTuple]):\n",
        "  sum = 0\n",
        "  for p in products:\n",
        "    sum += p\n",
        "  yield (i, sum)\n",
        "\n",
        "def RECORDREADER():\n",
        "  for i in range(mat.shape[0]):\n",
        "    for j in range(mat.shape[1]):\n",
        "      stripe_start = (j // stripe_size) * stripe_size\n",
        "      yield ((i, j), (mat[i,j], vec[stripe_start:stripe_start + stripe_size], j // stripe_size))\n",
        "\n",
        "output = MapReduce(RECORDREADER, MAP, REDUCE)\n",
        "output = list(output)\n",
        "output"
      ],
      "execution_count": null,
      "outputs": [
        {
          "output_type": "execute_result",
          "data": {
            "text/plain": [
              "[(0, 2.7115690853334904),\n",
              " (1, 2.7115690853334904),\n",
              " (2, 2.7115690853334904),\n",
              " (3, 2.7115690853334904),\n",
              " (4, 2.7115690853334904)]"
            ]
          },
          "metadata": {},
          "execution_count": 41
        }
      ]
    },
    {
      "cell_type": "markdown",
      "metadata": {
        "id": "GIo2t7nNxvA9"
      },
      "source": [
        "## Matrix multiplication (Перемножение матриц)\n",
        "\n",
        "Если у нас есть матрица $M$ с элементами $m_{ij}$ в строке $i$ и столбце $j$, и матрица $N$ с элементами $n_{jk}$ в строке $j$ и столбце $k$, тогда их произведение $P = MN$ есть матрица $P$ с элементами $p_{ik}$ в строке $i$ и столбце $k$, где\n",
        "\n",
        "$$p_{ik} =\\sum_{j} m_{ij}n_{jk}$$\n",
        "\n",
        "Необходимым требованием является одинаковое количество столбцов в $M$ и строк в $N$, чтобы операция суммирования по  $j$ была осмысленной. Мы можем размышлять о матрице, как об отношении с тремя атрибутами: номер строки, номер столбца, само значение. Таким образом матрица $M$ предстваляется как отношение $ M(I, J, V )$, с кортежами $(i, j, m_{ij})$, и, аналогично, матрица $N$ представляется как отношение $N(J, K, W)$, с кортежами $(j, k, n_{jk})$. Так как большие матрицы как правило разреженные (большинство значений равно 0), и так как мы можем нулевыми значениями пренебречь (не хранить), такое реляционное представление достаточно эффективно для больших матриц. Однако, возможно, что координаты $i$, $j$, и $k$ неявно закодированы в смещение позиции элемента относительно начала файла, вместо явного хранения. Тогда, функция Map (или Reader) должна быть разработана таким образом, чтобы реконструировать компоненты $I$, $J$, и $K$ кортежей из смещения.\n",
        "\n",
        "Произведение $MN$ это фактически join, за которым следуют группировка по ключу и аггрегация. Таким образом join отношений $M(I, J, V )$ и $N(J, K, W)$, имеющих общим только атрибут $J$, создаст кортежи $(i, j, k, v, w)$ из каждого кортежа $(i, j, v) \\in M$ и кортежа $(j, k, w) \\in N$. Такой 5 компонентный кортеж представляет пару элементов матрицы $(m_{ij} , n_{jk})$. Что нам хотелось бы получить на самом деле, это произведение этих элементов, то есть, 4 компонентный кортеж$(i, j, k, v \\times w)$, так как он представляет произведение $m_{ij}n_{jk}$. Мы представляем отношение как результат одной MapReduce операции, в которой мы можем произвести группировку и аггрегацию, с $I$ и $K$  атрибутами, по которым идёт группировка, и суммой  $V \\times W$.\n",
        "\n",
        "\n",
        "\n"
      ]
    },
    {
      "cell_type": "code",
      "metadata": {
        "id": "1MBkGaLAYVCt"
      },
      "source": [
        "# MapReduce model\n",
        "def flatten(nested_iterable):\n",
        "  for iterable in nested_iterable:\n",
        "    for element in iterable:\n",
        "      yield element\n",
        "\n",
        "def groupbykey(iterable):\n",
        "  t = {}\n",
        "  for (k2, v2) in iterable:\n",
        "    t[k2] = t.get(k2, []) + [v2]\n",
        "  return t.items()\n",
        "\n",
        "def MapReduce(RECORDREADER, MAP, REDUCE):\n",
        "  return flatten(map(lambda x: REDUCE(*x), groupbykey(flatten(map(lambda x: MAP(*x), RECORDREADER())))))"
      ],
      "execution_count": null,
      "outputs": []
    },
    {
      "cell_type": "markdown",
      "metadata": {
        "id": "sMspsOT0ZB35"
      },
      "source": [
        "Реализуйте перемножение матриц с использованием модельного кода MapReduce для одной машины в случае, когда одна матрица хранится в памяти, а другая генерируется RECORDREADER-ом."
      ]
    },
    {
      "cell_type": "code",
      "metadata": {
        "id": "psP1XekbsEjS"
      },
      "source": [
        "import numpy as np\n",
        "I = 2\n",
        "J = 3\n",
        "K = 4*10\n",
        "small_mat = np.random.rand(I,J) # it is legal to access this from RECORDREADER, MAP, REDUCE\n",
        "big_mat = np.random.rand(J,K)\n",
        "\n",
        "def RECORDREADER():\n",
        "  for j in range(big_mat.shape[0]):\n",
        "    for k in range(big_mat.shape[1]):\n",
        "      yield ((j,k), big_mat[j,k])\n",
        "\n",
        "def MAP(k1, v1):\n",
        "  (j, k) = k1\n",
        "  w = v1\n",
        "  for i in range(I):\n",
        "    v = small_mat[i, j]\n",
        "    yield ((i, k), (i, j, k, v * w))\n",
        "\n",
        "def REDUCE(key, values):\n",
        "  (i, k) = key\n",
        "  sum = 0\n",
        "  for val in values:\n",
        "    sum += val[3]\n",
        "  yield((i, k), sum)"
      ],
      "execution_count": null,
      "outputs": []
    },
    {
      "cell_type": "markdown",
      "metadata": {
        "id": "rnt306LHhHrm"
      },
      "source": [
        "Проверьте своё решение"
      ]
    },
    {
      "cell_type": "code",
      "metadata": {
        "id": "Ewy_ZNYqW5a2",
        "colab": {
          "base_uri": "https://localhost:8080/"
        },
        "outputId": "087d35ed-aea7-4593-a029-4881bdc9117e"
      },
      "source": [
        "# CHECK THE SOLUTION\n",
        "reference_solution = np.matmul(small_mat, big_mat)\n",
        "solution = MapReduce(RECORDREADER, MAP, REDUCE)\n",
        "\n",
        "def asmatrix(reduce_output):\n",
        "  reduce_output = list(reduce_output)\n",
        "  I = max(i for ((i,k), vw) in reduce_output)+1\n",
        "  K = max(k for ((i,k), vw) in reduce_output)+1\n",
        "  mat = np.empty(shape=(I,K))\n",
        "  for ((i,k), vw) in reduce_output:\n",
        "    mat[i,k] = vw\n",
        "  return mat\n",
        "\n",
        "np.allclose(reference_solution, asmatrix(solution)) # should return true"
      ],
      "execution_count": null,
      "outputs": [
        {
          "output_type": "execute_result",
          "data": {
            "text/plain": [
              "True"
            ]
          },
          "metadata": {},
          "execution_count": 50
        }
      ]
    },
    {
      "cell_type": "code",
      "metadata": {
        "id": "TK7v4CEcfxqf",
        "colab": {
          "base_uri": "https://localhost:8080/"
        },
        "outputId": "9f2e981f-e5bf-46ee-b7ae-d6bf0fdad5e0"
      },
      "source": [
        "reduce_output = list(MapReduce(RECORDREADER, MAP, REDUCE))\n",
        "max(i for ((i,k), vw) in reduce_output)"
      ],
      "execution_count": null,
      "outputs": [
        {
          "output_type": "execute_result",
          "data": {
            "text/plain": [
              "1"
            ]
          },
          "metadata": {},
          "execution_count": 51
        }
      ]
    },
    {
      "cell_type": "markdown",
      "metadata": {
        "id": "i4yyg3kOZqJJ"
      },
      "source": [
        "Реализуйте перемножение матриц  с использованием модельного кода MapReduce для одной машины в случае, когда обе матрицы генерируются в RECORDREADER. Например, сначала одна, а потом другая."
      ]
    },
    {
      "cell_type": "code",
      "metadata": {
        "id": "3B7rIAJCaHZq",
        "colab": {
          "base_uri": "https://localhost:8080/"
        },
        "outputId": "d1fe06b2-a271-4d96-8c33-0ead966a4e60"
      },
      "source": [
        "import numpy as np\n",
        "I = 2\n",
        "J = 3\n",
        "K = 4*10\n",
        "small_mat = np.random.rand(I,J) # it is legal to access this from RECORDREADER, MAP, REDUCE\n",
        "big_mat = np.random.rand(J,K)\n",
        "\n",
        "def RECORDREADER():\n",
        "  for j in range(big_mat.shape[0]):\n",
        "    for k in range(big_mat.shape[1]):\n",
        "      yield ((j,k, 1), big_mat[j,k])\n",
        "  for j in range(small_mat.shape[0]):\n",
        "    for k in range(small_mat.shape[1]):\n",
        "      yield ((j,k, 2), small_mat[j,k])\n",
        "\n",
        "def MAP(k1, v1):\n",
        "  (j, k, matr) = k1\n",
        "  w = v1\n",
        "  if matr == 1:\n",
        "    for i in range(I):\n",
        "      yield ((i, k), (matr, j, w))\n",
        "  else:\n",
        "    for i in range(K):\n",
        "      yield ((j, i), (matr, k, w))\n",
        "\n",
        "def REDUCE(key, values):\n",
        "  (i, k) = key\n",
        "  res = {}\n",
        "  for val in values:\n",
        "    (matr, j, v) = val\n",
        "    res[j] = res.get(j, []) + [v]\n",
        "  sum = 0\n",
        "  for ind in range(J):\n",
        "    sum += res[ind][0]*res[ind][1]\n",
        "  yield((i, k), sum)\n",
        "\n",
        "# CHECK THE SOLUTION\n",
        "reference_solution = np.matmul(small_mat, big_mat)\n",
        "solution = MapReduce(RECORDREADER, MAP, REDUCE)\n",
        "\n",
        "def asmatrix(reduce_output):\n",
        "  reduce_output = list(reduce_output)\n",
        "  I = max(i for ((i,k), vw) in reduce_output)+1\n",
        "  K = max(k for ((i,k), vw) in reduce_output)+1\n",
        "  mat = np.empty(shape=(I,K))\n",
        "  for ((i,k), vw) in reduce_output:\n",
        "    mat[i,k] = vw\n",
        "  return mat\n",
        "\n",
        "np.allclose(reference_solution, asmatrix(solution)) # should return true"
      ],
      "execution_count": null,
      "outputs": [
        {
          "output_type": "execute_result",
          "data": {
            "text/plain": [
              "True"
            ]
          },
          "metadata": {},
          "execution_count": 47
        }
      ]
    },
    {
      "cell_type": "markdown",
      "metadata": {
        "id": "mXyzQi1DaIwo"
      },
      "source": [
        "Реализуйте перемножение матриц с использованием модельного кода MapReduce Distributed, когда каждая матрица генерируется в своём RECORDREADER."
      ]
    },
    {
      "cell_type": "code",
      "metadata": {
        "id": "TDM_s78Rb5eR",
        "colab": {
          "base_uri": "https://localhost:8080/"
        },
        "outputId": "ea17f989-d476-4d68-a256-c01d1166dfaf"
      },
      "source": [
        "import numpy as np\n",
        "I = 2\n",
        "J = 3\n",
        "K = 4*10\n",
        "small_mat = np.random.rand(I,J) # it is legal to access this from RECORDREADER, MAP, REDUCE\n",
        "big_mat = np.random.rand(J,K)\n",
        "\n",
        "def INPUTFORMAT():\n",
        "  global maps\n",
        "\n",
        "  def RECORDREADER(mat, mat_id):\n",
        "    for j in range(mat.shape[0]):\n",
        "      for k in range(mat.shape[1]):\n",
        "        yield ((j,k, mat_id), mat[j,k])\n",
        "\n",
        "  yield RECORDREADER(big_mat, 1)\n",
        "  yield RECORDREADER(small_mat, 2)\n",
        "\n",
        "\n",
        "def MAP(k1, v1):\n",
        "  (j, k, matr) = k1\n",
        "  w = v1\n",
        "  if matr == 1:\n",
        "    for i in range(I):\n",
        "      yield ((i, k), (matr, j, w))\n",
        "  else:\n",
        "    for i in range(K):\n",
        "      yield ((j, i), (matr, k, w))\n",
        "\n",
        "def REDUCE(key, values):\n",
        "  (i, k) = key\n",
        "  res = {}\n",
        "  for val in values:\n",
        "    (matr, j, v) = val\n",
        "    res[j] = res.get(j, []) + [v]\n",
        "  sum = 0\n",
        "  for ind in range(J):\n",
        "    sum += res[ind][0]*res[ind][1]\n",
        "  yield((i, k), sum)\n",
        "\n",
        "maps = 3\n",
        "reducers = 2\n",
        "# CHECK THE SOLUTION\n",
        "reference_solution = np.matmul(small_mat, big_mat)\n",
        "solution = MapReduceDistributed(INPUTFORMAT, MAP, REDUCE, COMBINER=None)\n",
        "solution = flatten([list(partition) for (_, partition) in solution])\n",
        "\n",
        "def asmatrix(reduce_output):\n",
        "  reduce_output = list(reduce_output)\n",
        "  I = max(i for ((i,k), vw) in reduce_output)+1\n",
        "  K = max(k for ((i,k), vw) in reduce_output)+1\n",
        "  mat = np.empty(shape=(I,K))\n",
        "  for ((i,k), vw) in reduce_output:\n",
        "    mat[i,k] = vw\n",
        "  return mat\n",
        "\n",
        "np.allclose(reference_solution, asmatrix(solution)) # should return true"
      ],
      "execution_count": null,
      "outputs": [
        {
          "output_type": "stream",
          "name": "stdout",
          "text": [
            "480 key-value pairs were sent over a network.\n"
          ]
        },
        {
          "output_type": "execute_result",
          "data": {
            "text/plain": [
              "True"
            ]
          },
          "metadata": {},
          "execution_count": 50
        }
      ]
    },
    {
      "cell_type": "markdown",
      "metadata": {
        "id": "ZuSA2P9Db6UM"
      },
      "source": [
        "Обобщите предыдущее решение на случай, когда каждая матрица генерируется несколькими RECORDREADER-ами, и проверьте его работоспособность. Будет ли работать решение, если RECORDREADER-ы будут генерировать случайное подмножество элементов матрицы?"
      ]
    },
    {
      "cell_type": "code",
      "metadata": {
        "id": "ehN0FqRDcwU5",
        "colab": {
          "base_uri": "https://localhost:8080/"
        },
        "outputId": "90645936-34f7-4f73-8dbb-5133b6229b4d"
      },
      "source": [
        "import numpy as np\n",
        "import random\n",
        "import math\n",
        "I = 2\n",
        "J = 3\n",
        "K = 4*10\n",
        "small_mat = np.random.rand(I,J) # it is legal to access this from RECORDREADER, MAP, REDUCE\n",
        "big_mat = np.random.rand(J,K)\n",
        "\n",
        "def INPUTFORMAT():\n",
        "  global maps\n",
        "  rrcount = 10\n",
        "  ind1, ind2 = [], []\n",
        "  for i in range(I):\n",
        "    for j in range(J):\n",
        "      ind1.append((i,j))\n",
        "  for j in range(J):\n",
        "    for k in range(K):\n",
        "      ind2.append((j,k))\n",
        "  random.shuffle(ind1)\n",
        "  random.shuffle(ind2)\n",
        "\n",
        "  prop = len(ind1) / len(ind2)\n",
        "  if prop > 1:\n",
        "    prop = 1 / prop\n",
        "  rr1count = math.ceil(prop * rrcount)\n",
        "  rr2count = rrcount - rr1count\n",
        "  if len(ind1) > len(ind2):\n",
        "    rr1count, rr2count = rr2count, rr1count\n",
        "\n",
        "  def RECORDREADER(mat, mat_id):\n",
        "    for j in range(mat.shape[0]):\n",
        "      for k in range(mat.shape[1]):\n",
        "        yield ((j,k, mat_id), mat[j,k])\n",
        "\n",
        "  for i in range(rr1count):\n",
        "    yield RECORDREADER(small_mat[i:i + math.ceil(len(ind1) / rr1count)], 2)\n",
        "  for i in range(rr2count):\n",
        "    yield RECORDREADER(big_mat[i:i + math.ceil(len(ind2) / rr2count)], 1)\n",
        "\n",
        "\n",
        "def MAP(k1, v1):\n",
        "  (j, k, matr) = k1\n",
        "  w = v1\n",
        "  if matr == 1:\n",
        "    for i in range(I):\n",
        "      yield ((i, k), (matr, j, w))\n",
        "  else:\n",
        "    for i in range(K):\n",
        "      yield ((j, i), (matr, k, w))\n",
        "\n",
        "def REDUCE(key, values):\n",
        "  (i, k) = key\n",
        "  res = {}\n",
        "  for val in values:\n",
        "    (matr, j, v) = val\n",
        "    res[j] = res.get(j, []) + [v]\n",
        "  sum = 0\n",
        "  for ind in range(J):\n",
        "    sum += res[ind][0]*res[ind][1]\n",
        "  yield((i, k), sum)\n",
        "\n",
        "maps = 3\n",
        "reducers = 2\n",
        "# CHECK THE SOLUTION\n",
        "reference_solution = np.matmul(small_mat, big_mat)\n",
        "solution = MapReduceDistributed(INPUTFORMAT, MAP, REDUCE, COMBINER=None)\n",
        "solution = flatten([list(partition) for (_, partition) in solution])\n",
        "\n",
        "def asmatrix(reduce_output):\n",
        "  reduce_output = list(reduce_output)\n",
        "  I = max(i for ((i,k), vw) in reduce_output)+1\n",
        "  K = max(k for ((i,k), vw) in reduce_output)+1\n",
        "  mat = np.empty(shape=(I,K))\n",
        "  for ((i,k), vw) in reduce_output:\n",
        "    mat[i,k] = vw\n",
        "  return mat\n",
        "\n",
        "np.allclose(reference_solution, asmatrix(solution)) # should return true"
      ],
      "execution_count": null,
      "outputs": [
        {
          "output_type": "stream",
          "name": "stdout",
          "text": [
            "720 key-value pairs were sent over a network.\n"
          ]
        },
        {
          "output_type": "execute_result",
          "data": {
            "text/plain": [
              "True"
            ]
          },
          "metadata": {},
          "execution_count": 64
        }
      ]
    }
  ]
}